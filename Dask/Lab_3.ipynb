{
  "cells": [
    {
      "cell_type": "markdown",
      "metadata": {
        "id": "view-in-github",
        "colab_type": "text"
      },
      "source": [
        "<a href=\"https://colab.research.google.com/github/drshahizan/Python_Tutorial/blob/main/big%20data/3%20Dask/Lab_3.ipynb\" target=\"_parent\"><img src=\"https://colab.research.google.com/assets/colab-badge.svg\" alt=\"Open In Colab\"/></a>"
      ]
    },
    {
      "cell_type": "markdown",
      "metadata": {
        "id": "cgcXhcWyFK28"
      },
      "source": [
        "# Data Science with Python and Dask\n",
        "## Chapter 3 - Introducing Dask DataFrames"
      ]
    },
    {
      "cell_type": "markdown",
      "metadata": {
        "id": "mG0xezoNFK3A"
      },
      "source": [
        "### Section 3.1"
      ]
    },
    {
      "cell_type": "code",
      "execution_count": null,
      "metadata": {
        "id": "DivmMPGIFK3A"
      },
      "outputs": [],
      "source": [
        "# Listing 3.1\n",
        "person_IDs = [1,2,3]\n",
        "person_last_names = ['Smith', 'Williams', 'Williams']\n",
        "person_first_names = ['John', 'Bill', 'Jane']\n",
        "person_DOBs = ['1982-10-06', '1990-07-04', '1989-05-06']"
      ]
    },
    {
      "cell_type": "markdown",
      "metadata": {
        "id": "F6-yiNNyFK3B"
      },
      "source": [
        "### Section 3.2.1"
      ]
    },
    {
      "cell_type": "code",
      "execution_count": null,
      "metadata": {
        "id": "n6BCY5i7FK3B"
      },
      "outputs": [],
      "source": [
        "# Listing 3.2\n",
        "import pandas as pd\n",
        "import dask.dataframe as dd\n",
        "\n",
        "# Creating all the data as lists\n",
        "person_IDs = [1,2,3,4,5,6,7,8,9,10]\n",
        "person_last_names = ['Smith', 'Williams', 'Williams','Jackson','Johnson','Smith','Anderson','Christiansen','Carter','Davidson']\n",
        "person_first_names = ['John', 'Bill', 'Jane','Cathy','Stuart','James','Felicity','Liam','Nancy','Christina']\n",
        "person_DOBs = ['1982-10-06', '1990-07-04', '1989-05-06', '1974-01-24', '1995-06-05', '1984-04-16', '1976-09-15', '1992-10-02', '1986-02-05', '1993-08-11']\n",
        "\n",
        "# Storing the data in a Pandas DataFrame\n",
        "people_pandas_df = pd.DataFrame({'Person ID': person_IDs, \n",
        "              'Last Name': person_last_names, \n",
        "              'First Name': person_first_names,\n",
        "             'Date of Birth': person_DOBs},\n",
        "            columns=['Person ID', 'Last Name', 'First Name', 'Date of Birth'])\n",
        "\n",
        "# Converting the Pandas DataFrame to a Dask DataFrame\n",
        "people_dask_df = dd.from_pandas(people_pandas_df, npartitions=2)"
      ]
    },
    {
      "cell_type": "code",
      "execution_count": null,
      "metadata": {
        "id": "fUaGab4YFK3B"
      },
      "outputs": [],
      "source": [
        "# Listing 3.3\n",
        "print(people_dask_df.divisions)\n",
        "print(people_dask_df.npartitions)"
      ]
    },
    {
      "cell_type": "code",
      "execution_count": null,
      "metadata": {
        "colab": {
          "base_uri": "https://localhost:8080/"
        },
        "id": "a4IwMeT-FK3C",
        "outputId": "e545f26e-f1b5-41b9-8e1b-e8c10548e18e"
      },
      "outputs": [
        {
          "output_type": "execute_result",
          "data": {
            "text/plain": [
              "0    5\n",
              "1    5\n",
              "dtype: int64"
            ]
          },
          "metadata": {},
          "execution_count": 4
        }
      ],
      "source": [
        "# Listing 3.4\n",
        "people_dask_df.map_partitions(lambda x: len(x)).compute()"
      ]
    },
    {
      "cell_type": "code",
      "execution_count": null,
      "metadata": {
        "colab": {
          "base_uri": "https://localhost:8080/"
        },
        "id": "aODknKqFFK3C",
        "outputId": "5f5fb274-c6ac-467b-8e22-ab43e288b04b"
      },
      "outputs": [
        {
          "output_type": "stream",
          "name": "stdout",
          "text": [
            "0    3\n",
            "1    5\n",
            "dtype: int64\n",
            "0    8\n",
            "dtype: int64\n"
          ]
        }
      ],
      "source": [
        "# Listing 3.5\n",
        "people_filtered = people_dask_df[people_dask_df['Last Name'] != 'Williams']\n",
        "print(people_filtered.map_partitions(lambda x: len(x)).compute())\n",
        "\n",
        "people_filtered_reduced = people_filtered.repartition(npartitions=1)\n",
        "print(people_filtered_reduced.map_partitions(lambda x: len(x)).compute())"
      ]
    }
  ],
  "metadata": {
    "kernelspec": {
      "display_name": "Python 3",
      "language": "python",
      "name": "python3"
    },
    "language_info": {
      "codemirror_mode": {
        "name": "ipython",
        "version": 3
      },
      "file_extension": ".py",
      "mimetype": "text/x-python",
      "name": "python",
      "nbconvert_exporter": "python",
      "pygments_lexer": "ipython3",
      "version": "3.6.8"
    },
    "colab": {
      "provenance": [],
      "include_colab_link": true
    }
  },
  "nbformat": 4,
  "nbformat_minor": 0
}