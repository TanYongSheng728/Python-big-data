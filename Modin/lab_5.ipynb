{
  "cells": [
    {
      "cell_type": "markdown",
      "metadata": {
        "id": "view-in-github",
        "colab_type": "text"
      },
      "source": [
        "<a href=\"https://colab.research.google.com/github/drshahizan/Python_Tutorial/blob/main/big%20data/modin/lab_5_IntelModin.ipynb\" target=\"_parent\"><img src=\"https://colab.research.google.com/assets/colab-badge.svg\" alt=\"Open In Colab\"/></a>"
      ]
    },
    {
      "cell_type": "code",
      "execution_count": null,
      "metadata": {
        "id": "qcXRiOQilkjT"
      },
      "outputs": [],
      "source": [
        "# =============================================================\n",
        "# Copyright © 2020 Intel Corporation\n",
        "# \n",
        "# SPDX-License-Identifier: MIT\n",
        "# ============================================================="
      ]
    },
    {
      "cell_type": "markdown",
      "metadata": {
        "id": "uwAI-1R3lkjW"
      },
      "source": [
        "# Lab 5: Modin for Distributed Pandas"
      ]
    },
    {
      "cell_type": "markdown",
      "metadata": {
        "id": "Rxsey18GlkjX"
      },
      "source": [
        "## Importing and Organizing Data"
      ]
    },
    {
      "cell_type": "markdown",
      "metadata": {
        "id": "AYnwHL5VlkjY"
      },
      "source": [
        "We will be generating a **synthetic dataset** and **demonstrating stock Pandas operations running with Modin**.\n",
        "\n",
        "Let's start by **importing** all the necessary packages and modules"
      ]
    },
    {
      "cell_type": "code",
      "source": [
        "!pip install modin[all] "
      ],
      "metadata": {
        "id": "Kq6lHfS0mFmc",
        "colab": {
          "base_uri": "https://localhost:8080/",
          "height": 1000
        },
        "outputId": "285fc80c-e19b-44a4-9208-8dfc6758247b"
      },
      "execution_count": null,
      "outputs": [
        {
          "output_type": "stream",
          "name": "stdout",
          "text": [
            "Looking in indexes: https://pypi.org/simple, https://us-python.pkg.dev/colab-wheels/public/simple/\n",
            "Collecting modin[all]\n",
            "  Downloading modin-0.18.0-py3-none-any.whl (970 kB)\n",
            "\u001b[K     |████████████████████████████████| 970 kB 5.2 MB/s \n",
            "\u001b[?25hRequirement already satisfied: numpy>=1.18.5 in /usr/local/lib/python3.8/dist-packages (from modin[all]) (1.21.6)\n",
            "Requirement already satisfied: packaging in /usr/local/lib/python3.8/dist-packages (from modin[all]) (21.3)\n",
            "Requirement already satisfied: fsspec in /usr/local/lib/python3.8/dist-packages (from modin[all]) (2022.11.0)\n",
            "Requirement already satisfied: psutil in /usr/local/lib/python3.8/dist-packages (from modin[all]) (5.4.8)\n",
            "Collecting pandas==1.5.2\n",
            "  Downloading pandas-1.5.2-cp38-cp38-manylinux_2_17_x86_64.manylinux2014_x86_64.whl (12.2 MB)\n",
            "\u001b[K     |████████████████████████████████| 12.2 MB 45.5 MB/s \n",
            "\u001b[?25hCollecting rpyc==4.1.5\n",
            "  Downloading rpyc-4.1.5-py3-none-any.whl (68 kB)\n",
            "\u001b[K     |████████████████████████████████| 68 kB 7.5 MB/s \n",
            "\u001b[?25hRequirement already satisfied: distributed>=2.22.0 in /usr/local/lib/python3.8/dist-packages (from modin[all]) (2022.2.1)\n",
            "Requirement already satisfied: dask>=2.22.0 in /usr/local/lib/python3.8/dist-packages (from modin[all]) (2022.2.1)\n",
            "Collecting unidist[mpi]>=0.2.1\n",
            "  Downloading unidist-0.2.1-py3-none-any.whl (102 kB)\n",
            "\u001b[K     |████████████████████████████████| 102 kB 64.2 MB/s \n",
            "\u001b[?25hCollecting boto3\n",
            "  Downloading boto3-1.26.34-py3-none-any.whl (132 kB)\n",
            "\u001b[K     |████████████████████████████████| 132 kB 68.4 MB/s \n",
            "\u001b[?25hCollecting modin-spreadsheet>=0.1.0\n",
            "  Downloading modin_spreadsheet-0.1.2-py2.py3-none-any.whl (1.8 MB)\n",
            "\u001b[K     |████████████████████████████████| 1.8 MB 70.2 MB/s \n",
            "\u001b[?25hCollecting ray[default]>=1.13.0\n",
            "  Downloading ray-2.2.0-cp38-cp38-manylinux2014_x86_64.whl (57.4 MB)\n",
            "\u001b[K     |████████████████████████████████| 57.4 MB 1.2 MB/s \n",
            "\u001b[?25hRequirement already satisfied: pyarrow in /usr/local/lib/python3.8/dist-packages (from modin[all]) (9.0.0)\n",
            "Requirement already satisfied: cloudpickle in /usr/local/lib/python3.8/dist-packages (from modin[all]) (1.5.0)\n",
            "Requirement already satisfied: pytz>=2020.1 in /usr/local/lib/python3.8/dist-packages (from pandas==1.5.2->modin[all]) (2022.6)\n",
            "Requirement already satisfied: python-dateutil>=2.8.1 in /usr/local/lib/python3.8/dist-packages (from pandas==1.5.2->modin[all]) (2.8.2)\n",
            "Collecting plumbum\n",
            "  Downloading plumbum-1.8.0-py3-none-any.whl (117 kB)\n",
            "\u001b[K     |████████████████████████████████| 117 kB 71.3 MB/s \n",
            "\u001b[?25hRequirement already satisfied: toolz>=0.8.2 in /usr/local/lib/python3.8/dist-packages (from dask>=2.22.0->modin[all]) (0.12.0)\n",
            "Requirement already satisfied: pyyaml>=5.3.1 in /usr/local/lib/python3.8/dist-packages (from dask>=2.22.0->modin[all]) (6.0)\n",
            "Requirement already satisfied: partd>=0.3.10 in /usr/local/lib/python3.8/dist-packages (from dask>=2.22.0->modin[all]) (1.3.0)\n",
            "Requirement already satisfied: msgpack>=0.6.0 in /usr/local/lib/python3.8/dist-packages (from distributed>=2.22.0->modin[all]) (1.0.4)\n",
            "Requirement already satisfied: jinja2 in /usr/local/lib/python3.8/dist-packages (from distributed>=2.22.0->modin[all]) (2.11.3)\n",
            "Requirement already satisfied: zict>=0.1.3 in /usr/local/lib/python3.8/dist-packages (from distributed>=2.22.0->modin[all]) (2.2.0)\n",
            "Requirement already satisfied: tornado>=6.0.3 in /usr/local/lib/python3.8/dist-packages (from distributed>=2.22.0->modin[all]) (6.0.4)\n",
            "Requirement already satisfied: setuptools in /usr/local/lib/python3.8/dist-packages (from distributed>=2.22.0->modin[all]) (57.4.0)\n",
            "Requirement already satisfied: sortedcontainers!=2.0.0,!=2.0.1 in /usr/local/lib/python3.8/dist-packages (from distributed>=2.22.0->modin[all]) (2.4.0)\n",
            "Requirement already satisfied: tblib>=1.6.0 in /usr/local/lib/python3.8/dist-packages (from distributed>=2.22.0->modin[all]) (1.7.0)\n",
            "Requirement already satisfied: click>=6.6 in /usr/local/lib/python3.8/dist-packages (from distributed>=2.22.0->modin[all]) (7.1.2)\n",
            "Requirement already satisfied: ipywidgets>=7.0.0 in /usr/local/lib/python3.8/dist-packages (from modin-spreadsheet>=0.1.0->modin[all]) (7.7.1)\n",
            "Collecting jupyter>=1.0.0\n",
            "  Downloading jupyter-1.0.0-py2.py3-none-any.whl (2.7 kB)\n",
            "Collecting notebook>=6.0.3\n",
            "  Downloading notebook-6.5.2-py3-none-any.whl (439 kB)\n",
            "\u001b[K     |████████████████████████████████| 439 kB 66.5 MB/s \n",
            "\u001b[?25hRequirement already satisfied: traitlets>=4.3.1 in /usr/local/lib/python3.8/dist-packages (from ipywidgets>=7.0.0->modin-spreadsheet>=0.1.0->modin[all]) (5.7.1)\n",
            "Requirement already satisfied: jupyterlab-widgets>=1.0.0 in /usr/local/lib/python3.8/dist-packages (from ipywidgets>=7.0.0->modin-spreadsheet>=0.1.0->modin[all]) (3.0.4)\n",
            "Requirement already satisfied: widgetsnbextension~=3.6.0 in /usr/local/lib/python3.8/dist-packages (from ipywidgets>=7.0.0->modin-spreadsheet>=0.1.0->modin[all]) (3.6.1)\n",
            "Requirement already satisfied: ipython>=4.0.0 in /usr/local/lib/python3.8/dist-packages (from ipywidgets>=7.0.0->modin-spreadsheet>=0.1.0->modin[all]) (7.9.0)\n",
            "Requirement already satisfied: ipython-genutils~=0.2.0 in /usr/local/lib/python3.8/dist-packages (from ipywidgets>=7.0.0->modin-spreadsheet>=0.1.0->modin[all]) (0.2.0)\n",
            "Requirement already satisfied: ipykernel>=4.5.1 in /usr/local/lib/python3.8/dist-packages (from ipywidgets>=7.0.0->modin-spreadsheet>=0.1.0->modin[all]) (5.3.4)\n",
            "Requirement already satisfied: jupyter-client in /usr/local/lib/python3.8/dist-packages (from ipykernel>=4.5.1->ipywidgets>=7.0.0->modin-spreadsheet>=0.1.0->modin[all]) (6.1.12)\n",
            "Requirement already satisfied: decorator in /usr/local/lib/python3.8/dist-packages (from ipython>=4.0.0->ipywidgets>=7.0.0->modin-spreadsheet>=0.1.0->modin[all]) (4.4.2)\n",
            "Requirement already satisfied: pygments in /usr/local/lib/python3.8/dist-packages (from ipython>=4.0.0->ipywidgets>=7.0.0->modin-spreadsheet>=0.1.0->modin[all]) (2.6.1)\n",
            "Requirement already satisfied: backcall in /usr/local/lib/python3.8/dist-packages (from ipython>=4.0.0->ipywidgets>=7.0.0->modin-spreadsheet>=0.1.0->modin[all]) (0.2.0)\n",
            "Requirement already satisfied: prompt-toolkit<2.1.0,>=2.0.0 in /usr/local/lib/python3.8/dist-packages (from ipython>=4.0.0->ipywidgets>=7.0.0->modin-spreadsheet>=0.1.0->modin[all]) (2.0.10)\n",
            "Collecting jedi>=0.10\n",
            "  Downloading jedi-0.18.2-py2.py3-none-any.whl (1.6 MB)\n",
            "\u001b[K     |████████████████████████████████| 1.6 MB 57.9 MB/s \n",
            "\u001b[?25hRequirement already satisfied: pexpect in /usr/local/lib/python3.8/dist-packages (from ipython>=4.0.0->ipywidgets>=7.0.0->modin-spreadsheet>=0.1.0->modin[all]) (4.8.0)\n",
            "Requirement already satisfied: pickleshare in /usr/local/lib/python3.8/dist-packages (from ipython>=4.0.0->ipywidgets>=7.0.0->modin-spreadsheet>=0.1.0->modin[all]) (0.7.5)\n",
            "Requirement already satisfied: parso<0.9.0,>=0.8.0 in /usr/local/lib/python3.8/dist-packages (from jedi>=0.10->ipython>=4.0.0->ipywidgets>=7.0.0->modin-spreadsheet>=0.1.0->modin[all]) (0.8.3)\n",
            "Requirement already satisfied: nbconvert in /usr/local/lib/python3.8/dist-packages (from jupyter>=1.0.0->modin-spreadsheet>=0.1.0->modin[all]) (5.6.1)\n",
            "Collecting qtconsole\n",
            "  Downloading qtconsole-5.4.0-py3-none-any.whl (121 kB)\n",
            "\u001b[K     |████████████████████████████████| 121 kB 71.1 MB/s \n",
            "\u001b[?25hRequirement already satisfied: jupyter-console in /usr/local/lib/python3.8/dist-packages (from jupyter>=1.0.0->modin-spreadsheet>=0.1.0->modin[all]) (6.1.0)\n",
            "Requirement already satisfied: terminado>=0.8.3 in /usr/local/lib/python3.8/dist-packages (from notebook>=6.0.3->modin-spreadsheet>=0.1.0->modin[all]) (0.13.3)\n",
            "Collecting tornado>=6.0.3\n",
            "  Downloading tornado-6.2-cp37-abi3-manylinux_2_5_x86_64.manylinux1_x86_64.manylinux_2_17_x86_64.manylinux2014_x86_64.whl (423 kB)\n",
            "\u001b[K     |████████████████████████████████| 423 kB 72.1 MB/s \n",
            "\u001b[?25hCollecting argon2-cffi\n",
            "  Downloading argon2_cffi-21.3.0-py3-none-any.whl (14 kB)\n",
            "Collecting nbclassic>=0.4.7\n",
            "  Downloading nbclassic-0.4.8-py3-none-any.whl (9.8 MB)\n",
            "\u001b[K     |████████████████████████████████| 9.8 MB 74.6 MB/s \n",
            "\u001b[?25hRequirement already satisfied: pyzmq>=17 in /usr/local/lib/python3.8/dist-packages (from notebook>=6.0.3->modin-spreadsheet>=0.1.0->modin[all]) (23.2.1)\n",
            "Requirement already satisfied: jupyter-core>=4.6.1 in /usr/local/lib/python3.8/dist-packages (from notebook>=6.0.3->modin-spreadsheet>=0.1.0->modin[all]) (5.1.0)\n",
            "Collecting nest-asyncio>=1.5\n",
            "  Downloading nest_asyncio-1.5.6-py3-none-any.whl (5.2 kB)\n",
            "Requirement already satisfied: prometheus-client in /usr/local/lib/python3.8/dist-packages (from notebook>=6.0.3->modin-spreadsheet>=0.1.0->modin[all]) (0.15.0)\n",
            "Requirement already satisfied: nbformat in /usr/local/lib/python3.8/dist-packages (from notebook>=6.0.3->modin-spreadsheet>=0.1.0->modin[all]) (5.7.0)\n",
            "Requirement already satisfied: Send2Trash>=1.8.0 in /usr/local/lib/python3.8/dist-packages (from notebook>=6.0.3->modin-spreadsheet>=0.1.0->modin[all]) (1.8.0)\n",
            "Requirement already satisfied: platformdirs>=2.5 in /usr/local/lib/python3.8/dist-packages (from jupyter-core>=4.6.1->notebook>=6.0.3->modin-spreadsheet>=0.1.0->modin[all]) (2.6.0)\n",
            "Collecting notebook-shim>=0.1.0\n",
            "  Downloading notebook_shim-0.2.2-py3-none-any.whl (13 kB)\n",
            "Collecting jupyter-server>=1.8\n",
            "  Downloading jupyter_server-2.0.2-py3-none-any.whl (360 kB)\n",
            "\u001b[K     |████████████████████████████████| 360 kB 78.1 MB/s \n",
            "\u001b[?25hCollecting nbconvert\n",
            "  Downloading nbconvert-7.2.7-py3-none-any.whl (273 kB)\n",
            "\u001b[K     |████████████████████████████████| 273 kB 80.9 MB/s \n",
            "\u001b[?25hCollecting jupyter-client\n",
            "  Downloading jupyter_client-7.4.8-py3-none-any.whl (133 kB)\n",
            "\u001b[K     |████████████████████████████████| 133 kB 59.4 MB/s \n",
            "\u001b[?25hCollecting websocket-client\n",
            "  Downloading websocket_client-1.4.2-py3-none-any.whl (55 kB)\n",
            "\u001b[K     |████████████████████████████████| 55 kB 3.6 MB/s \n",
            "\u001b[?25hCollecting pyzmq>=17\n",
            "  Downloading pyzmq-24.0.1-cp38-cp38-manylinux_2_12_x86_64.manylinux2010_x86_64.whl (1.1 MB)\n",
            "\u001b[K     |████████████████████████████████| 1.1 MB 14.6 MB/s \n",
            "\u001b[?25hCollecting jupyter-server-terminals\n",
            "  Downloading jupyter_server_terminals-0.4.3-py3-none-any.whl (13 kB)\n",
            "Collecting anyio<4,>=3.1.0\n",
            "  Downloading anyio-3.6.2-py3-none-any.whl (80 kB)\n",
            "\u001b[K     |████████████████████████████████| 80 kB 8.4 MB/s \n",
            "\u001b[?25hCollecting jupyter-events>=0.4.0\n",
            "  Downloading jupyter_events-0.5.0-py3-none-any.whl (17 kB)\n",
            "Requirement already satisfied: idna>=2.8 in /usr/local/lib/python3.8/dist-packages (from anyio<4,>=3.1.0->jupyter-server>=1.8->nbclassic>=0.4.7->notebook>=6.0.3->modin-spreadsheet>=0.1.0->modin[all]) (2.10)\n",
            "Collecting sniffio>=1.1\n",
            "  Downloading sniffio-1.3.0-py3-none-any.whl (10 kB)\n",
            "Requirement already satisfied: entrypoints in /usr/local/lib/python3.8/dist-packages (from jupyter-client->ipykernel>=4.5.1->ipywidgets>=7.0.0->modin-spreadsheet>=0.1.0->modin[all]) (0.4)\n",
            "Requirement already satisfied: jsonschema[format-nongpl]>=4.3.0 in /usr/local/lib/python3.8/dist-packages (from jupyter-events>=0.4.0->jupyter-server>=1.8->nbclassic>=0.4.7->notebook>=6.0.3->modin-spreadsheet>=0.1.0->modin[all]) (4.3.3)\n",
            "Collecting python-json-logger\n",
            "  Downloading python_json_logger-2.0.4-py3-none-any.whl (7.8 kB)\n",
            "\u001b[33mWARNING: jsonschema 4.3.3 does not provide the extra 'format-nongpl'\u001b[0m\n",
            "Requirement already satisfied: attrs>=17.4.0 in /usr/local/lib/python3.8/dist-packages (from jsonschema[format-nongpl]>=4.3.0->jupyter-events>=0.4.0->jupyter-server>=1.8->nbclassic>=0.4.7->notebook>=6.0.3->modin-spreadsheet>=0.1.0->modin[all]) (22.1.0)\n",
            "Requirement already satisfied: pyrsistent!=0.17.0,!=0.17.1,!=0.17.2,>=0.14.0 in /usr/local/lib/python3.8/dist-packages (from jsonschema[format-nongpl]>=4.3.0->jupyter-events>=0.4.0->jupyter-server>=1.8->nbclassic>=0.4.7->notebook>=6.0.3->modin-spreadsheet>=0.1.0->modin[all]) (0.19.2)\n",
            "Requirement already satisfied: importlib-resources>=1.4.0 in /usr/local/lib/python3.8/dist-packages (from jsonschema[format-nongpl]>=4.3.0->jupyter-events>=0.4.0->jupyter-server>=1.8->nbclassic>=0.4.7->notebook>=6.0.3->modin-spreadsheet>=0.1.0->modin[all]) (5.10.1)\n",
            "Requirement already satisfied: zipp>=3.1.0 in /usr/local/lib/python3.8/dist-packages (from importlib-resources>=1.4.0->jsonschema[format-nongpl]>=4.3.0->jupyter-events>=0.4.0->jupyter-server>=1.8->nbclassic>=0.4.7->notebook>=6.0.3->modin-spreadsheet>=0.1.0->modin[all]) (3.11.0)\n",
            "Collecting tinycss2\n",
            "  Downloading tinycss2-1.2.1-py3-none-any.whl (21 kB)\n",
            "Collecting jupyterlab-pygments\n",
            "  Downloading jupyterlab_pygments-0.2.2-py2.py3-none-any.whl (21 kB)\n",
            "Requirement already satisfied: importlib-metadata>=3.6 in /usr/local/lib/python3.8/dist-packages (from nbconvert->jupyter>=1.0.0->modin-spreadsheet>=0.1.0->modin[all]) (5.1.0)\n",
            "Requirement already satisfied: bleach in /usr/local/lib/python3.8/dist-packages (from nbconvert->jupyter>=1.0.0->modin-spreadsheet>=0.1.0->modin[all]) (5.0.1)\n",
            "Requirement already satisfied: defusedxml in /usr/local/lib/python3.8/dist-packages (from nbconvert->jupyter>=1.0.0->modin-spreadsheet>=0.1.0->modin[all]) (0.7.1)\n",
            "Requirement already satisfied: markupsafe>=2.0 in /usr/local/lib/python3.8/dist-packages (from nbconvert->jupyter>=1.0.0->modin-spreadsheet>=0.1.0->modin[all]) (2.0.1)\n",
            "Collecting mistune<3,>=2.0.3\n",
            "  Downloading mistune-2.0.4-py2.py3-none-any.whl (24 kB)\n",
            "Requirement already satisfied: pandocfilters>=1.4.1 in /usr/local/lib/python3.8/dist-packages (from nbconvert->jupyter>=1.0.0->modin-spreadsheet>=0.1.0->modin[all]) (1.5.0)\n",
            "Collecting nbclient>=0.5.0\n",
            "  Downloading nbclient-0.7.2-py3-none-any.whl (71 kB)\n",
            "\u001b[K     |████████████████████████████████| 71 kB 328 kB/s \n",
            "\u001b[?25hCollecting jinja2\n",
            "  Downloading Jinja2-3.1.2-py3-none-any.whl (133 kB)\n",
            "\u001b[K     |████████████████████████████████| 133 kB 78.2 MB/s \n",
            "\u001b[?25hRequirement already satisfied: beautifulsoup4 in /usr/local/lib/python3.8/dist-packages (from nbconvert->jupyter>=1.0.0->modin-spreadsheet>=0.1.0->modin[all]) (4.6.3)\n",
            "Requirement already satisfied: fastjsonschema in /usr/local/lib/python3.8/dist-packages (from nbformat->notebook>=6.0.3->modin-spreadsheet>=0.1.0->modin[all]) (2.16.2)\n",
            "Requirement already satisfied: pyparsing!=3.0.5,>=2.0.2 in /usr/local/lib/python3.8/dist-packages (from packaging->modin[all]) (3.0.9)\n",
            "Requirement already satisfied: locket in /usr/local/lib/python3.8/dist-packages (from partd>=0.3.10->dask>=2.22.0->modin[all]) (1.0.0)\n",
            "Requirement already satisfied: six>=1.9.0 in /usr/local/lib/python3.8/dist-packages (from prompt-toolkit<2.1.0,>=2.0.0->ipython>=4.0.0->ipywidgets>=7.0.0->modin-spreadsheet>=0.1.0->modin[all]) (1.15.0)\n",
            "Requirement already satisfied: wcwidth in /usr/local/lib/python3.8/dist-packages (from prompt-toolkit<2.1.0,>=2.0.0->ipython>=4.0.0->ipywidgets>=7.0.0->modin-spreadsheet>=0.1.0->modin[all]) (0.2.5)\n",
            "Requirement already satisfied: grpcio>=1.32.0 in /usr/local/lib/python3.8/dist-packages (from ray[default]>=1.13.0->modin[all]) (1.51.1)\n",
            "Requirement already satisfied: aiosignal in /usr/local/lib/python3.8/dist-packages (from ray[default]>=1.13.0->modin[all]) (1.3.1)\n",
            "Collecting virtualenv>=20.0.24\n",
            "  Downloading virtualenv-20.17.1-py3-none-any.whl (8.8 MB)\n",
            "\u001b[K     |████████████████████████████████| 8.8 MB 50.3 MB/s \n",
            "\u001b[?25hRequirement already satisfied: filelock in /usr/local/lib/python3.8/dist-packages (from ray[default]>=1.13.0->modin[all]) (3.8.2)\n",
            "Requirement already satisfied: requests in /usr/local/lib/python3.8/dist-packages (from ray[default]>=1.13.0->modin[all]) (2.23.0)\n",
            "Requirement already satisfied: frozenlist in /usr/local/lib/python3.8/dist-packages (from ray[default]>=1.13.0->modin[all]) (1.3.3)\n",
            "Requirement already satisfied: protobuf!=3.19.5,>=3.15.3 in /usr/local/lib/python3.8/dist-packages (from ray[default]>=1.13.0->modin[all]) (3.19.6)\n",
            "Requirement already satisfied: aiohttp>=3.7 in /usr/local/lib/python3.8/dist-packages (from ray[default]>=1.13.0->modin[all]) (3.8.3)\n",
            "Collecting aiohttp-cors\n",
            "  Downloading aiohttp_cors-0.7.0-py3-none-any.whl (27 kB)\n",
            "Requirement already satisfied: pydantic in /usr/local/lib/python3.8/dist-packages (from ray[default]>=1.13.0->modin[all]) (1.10.2)\n",
            "Collecting py-spy>=0.2.0\n",
            "  Downloading py_spy-0.3.14-py2.py3-none-manylinux_2_5_x86_64.manylinux1_x86_64.whl (3.0 MB)\n",
            "\u001b[K     |████████████████████████████████| 3.0 MB 64.2 MB/s \n",
            "\u001b[?25hCollecting colorful\n",
            "  Downloading colorful-0.5.5-py2.py3-none-any.whl (201 kB)\n",
            "\u001b[K     |████████████████████████████████| 201 kB 52.1 MB/s \n",
            "\u001b[?25hCollecting gpustat>=1.0.0\n",
            "  Downloading gpustat-1.0.0.tar.gz (90 kB)\n",
            "\u001b[K     |████████████████████████████████| 90 kB 10.1 MB/s \n",
            "\u001b[?25hCollecting prometheus-client\n",
            "  Downloading prometheus_client-0.13.1-py3-none-any.whl (57 kB)\n",
            "\u001b[K     |████████████████████████████████| 57 kB 5.7 MB/s \n",
            "\u001b[?25hCollecting opencensus\n",
            "  Downloading opencensus-0.11.0-py2.py3-none-any.whl (128 kB)\n",
            "\u001b[K     |████████████████████████████████| 128 kB 76.8 MB/s \n",
            "\u001b[?25hRequirement already satisfied: smart-open in /usr/local/lib/python3.8/dist-packages (from ray[default]>=1.13.0->modin[all]) (6.3.0)\n",
            "Requirement already satisfied: yarl<2.0,>=1.0 in /usr/local/lib/python3.8/dist-packages (from aiohttp>=3.7->ray[default]>=1.13.0->modin[all]) (1.8.2)\n",
            "Requirement already satisfied: async-timeout<5.0,>=4.0.0a3 in /usr/local/lib/python3.8/dist-packages (from aiohttp>=3.7->ray[default]>=1.13.0->modin[all]) (4.0.2)\n",
            "Requirement already satisfied: charset-normalizer<3.0,>=2.0 in /usr/local/lib/python3.8/dist-packages (from aiohttp>=3.7->ray[default]>=1.13.0->modin[all]) (2.1.1)\n",
            "Requirement already satisfied: multidict<7.0,>=4.5 in /usr/local/lib/python3.8/dist-packages (from aiohttp>=3.7->ray[default]>=1.13.0->modin[all]) (6.0.3)\n",
            "Collecting nvidia-ml-py<=11.495.46,>=11.450.129\n",
            "  Downloading nvidia_ml_py-11.495.46-py3-none-any.whl (25 kB)\n",
            "Collecting psutil\n",
            "  Downloading psutil-5.9.4-cp36-abi3-manylinux_2_12_x86_64.manylinux2010_x86_64.manylinux_2_17_x86_64.manylinux2014_x86_64.whl (280 kB)\n",
            "\u001b[K     |████████████████████████████████| 280 kB 52.2 MB/s \n",
            "\u001b[?25hCollecting blessed>=1.17.1\n",
            "  Downloading blessed-1.19.1-py2.py3-none-any.whl (58 kB)\n",
            "\u001b[K     |████████████████████████████████| 58 kB 5.7 MB/s \n",
            "\u001b[?25hRequirement already satisfied: ptyprocess in /usr/local/lib/python3.8/dist-packages (from terminado>=0.8.3->notebook>=6.0.3->modin-spreadsheet>=0.1.0->modin[all]) (0.7.0)\n",
            "Collecting mpi4py-mpich\n",
            "  Downloading mpi4py_mpich-3.1.2-cp38-cp38-manylinux_2_17_x86_64.manylinux2014_x86_64.whl (6.5 MB)\n",
            "\u001b[K     |████████████████████████████████| 6.5 MB 65.7 MB/s \n",
            "\u001b[?25hCollecting distlib<1,>=0.3.6\n",
            "  Downloading distlib-0.3.6-py2.py3-none-any.whl (468 kB)\n",
            "\u001b[K     |████████████████████████████████| 468 kB 73.2 MB/s \n",
            "\u001b[?25hRequirement already satisfied: heapdict in /usr/local/lib/python3.8/dist-packages (from zict>=0.1.3->distributed>=2.22.0->modin[all]) (1.0.1)\n",
            "Collecting argon2-cffi-bindings\n",
            "  Downloading argon2_cffi_bindings-21.2.0-cp36-abi3-manylinux_2_17_x86_64.manylinux2014_x86_64.whl (86 kB)\n",
            "\u001b[K     |████████████████████████████████| 86 kB 4.9 MB/s \n",
            "\u001b[?25hRequirement already satisfied: cffi>=1.0.1 in /usr/local/lib/python3.8/dist-packages (from argon2-cffi-bindings->argon2-cffi->notebook>=6.0.3->modin-spreadsheet>=0.1.0->modin[all]) (1.15.1)\n",
            "Requirement already satisfied: pycparser in /usr/local/lib/python3.8/dist-packages (from cffi>=1.0.1->argon2-cffi-bindings->argon2-cffi->notebook>=6.0.3->modin-spreadsheet>=0.1.0->modin[all]) (2.21)\n",
            "Requirement already satisfied: webencodings in /usr/local/lib/python3.8/dist-packages (from bleach->nbconvert->jupyter>=1.0.0->modin-spreadsheet>=0.1.0->modin[all]) (0.5.1)\n",
            "Collecting jmespath<2.0.0,>=0.7.1\n",
            "  Downloading jmespath-1.0.1-py3-none-any.whl (20 kB)\n",
            "Collecting botocore<1.30.0,>=1.29.34\n",
            "  Downloading botocore-1.29.34-py3-none-any.whl (10.3 MB)\n",
            "\u001b[K     |████████████████████████████████| 10.3 MB 42.2 MB/s \n",
            "\u001b[?25hCollecting s3transfer<0.7.0,>=0.6.0\n",
            "  Downloading s3transfer-0.6.0-py3-none-any.whl (79 kB)\n",
            "\u001b[K     |████████████████████████████████| 79 kB 7.8 MB/s \n",
            "\u001b[?25hCollecting urllib3<1.27,>=1.25.4\n",
            "  Downloading urllib3-1.26.13-py2.py3-none-any.whl (140 kB)\n",
            "\u001b[K     |████████████████████████████████| 140 kB 73.9 MB/s \n",
            "\u001b[?25hCollecting opencensus-context>=0.1.3\n",
            "  Downloading opencensus_context-0.1.3-py2.py3-none-any.whl (5.1 kB)\n",
            "Requirement already satisfied: google-api-core<3.0.0,>=1.0.0 in /usr/local/lib/python3.8/dist-packages (from opencensus->ray[default]>=1.13.0->modin[all]) (2.8.2)\n",
            "Requirement already satisfied: google-auth<3.0dev,>=1.25.0 in /usr/local/lib/python3.8/dist-packages (from google-api-core<3.0.0,>=1.0.0->opencensus->ray[default]>=1.13.0->modin[all]) (2.15.0)\n",
            "Requirement already satisfied: googleapis-common-protos<2.0dev,>=1.56.2 in /usr/local/lib/python3.8/dist-packages (from google-api-core<3.0.0,>=1.0.0->opencensus->ray[default]>=1.13.0->modin[all]) (1.57.0)\n",
            "Requirement already satisfied: pyasn1-modules>=0.2.1 in /usr/local/lib/python3.8/dist-packages (from google-auth<3.0dev,>=1.25.0->google-api-core<3.0.0,>=1.0.0->opencensus->ray[default]>=1.13.0->modin[all]) (0.2.8)\n",
            "Requirement already satisfied: cachetools<6.0,>=2.0.0 in /usr/local/lib/python3.8/dist-packages (from google-auth<3.0dev,>=1.25.0->google-api-core<3.0.0,>=1.0.0->opencensus->ray[default]>=1.13.0->modin[all]) (5.2.0)\n",
            "Requirement already satisfied: rsa<5,>=3.1.4 in /usr/local/lib/python3.8/dist-packages (from google-auth<3.0dev,>=1.25.0->google-api-core<3.0.0,>=1.0.0->opencensus->ray[default]>=1.13.0->modin[all]) (4.9)\n",
            "Requirement already satisfied: pyasn1<0.5.0,>=0.4.6 in /usr/local/lib/python3.8/dist-packages (from pyasn1-modules>=0.2.1->google-auth<3.0dev,>=1.25.0->google-api-core<3.0.0,>=1.0.0->opencensus->ray[default]>=1.13.0->modin[all]) (0.4.8)\n",
            "Requirement already satisfied: certifi>=2017.4.17 in /usr/local/lib/python3.8/dist-packages (from requests->ray[default]>=1.13.0->modin[all]) (2022.12.7)\n",
            "Requirement already satisfied: chardet<4,>=3.0.2 in /usr/local/lib/python3.8/dist-packages (from requests->ray[default]>=1.13.0->modin[all]) (3.0.4)\n",
            "Collecting urllib3<1.27,>=1.25.4\n",
            "  Downloading urllib3-1.25.11-py2.py3-none-any.whl (127 kB)\n",
            "\u001b[K     |████████████████████████████████| 127 kB 67.0 MB/s \n",
            "\u001b[?25hRequirement already satisfied: typing-extensions>=4.1.0 in /usr/local/lib/python3.8/dist-packages (from pydantic->ray[default]>=1.13.0->modin[all]) (4.4.0)\n",
            "Collecting qtpy>=2.0.1\n",
            "  Downloading QtPy-2.3.0-py3-none-any.whl (83 kB)\n",
            "\u001b[K     |████████████████████████████████| 83 kB 2.1 MB/s \n",
            "\u001b[?25hBuilding wheels for collected packages: gpustat\n",
            "  Building wheel for gpustat (setup.py) ... \u001b[?25l\u001b[?25hdone\n",
            "  Created wheel for gpustat: filename=gpustat-1.0.0-py3-none-any.whl size=19887 sha256=89cc4a6f5f4880f85cd0dac7f40408f1979d50efcfa5e3bfa8aeeebf166119a1\n",
            "  Stored in directory: /root/.cache/pip/wheels/1b/ed/14/0d513c962b25da841c42022cb5847c2ef835902c8563b8fb01\n",
            "Successfully built gpustat\n",
            "Installing collected packages: tornado, pyzmq, nest-asyncio, jupyter-client, tinycss2, sniffio, python-json-logger, nbclient, mistune, jupyterlab-pygments, jinja2, argon2-cffi-bindings, websocket-client, prometheus-client, nbconvert, jupyter-server-terminals, jupyter-events, jedi, argon2-cffi, anyio, jupyter-server, notebook-shim, nbclassic, urllib3, notebook, qtpy, jmespath, distlib, virtualenv, qtconsole, psutil, opencensus-context, nvidia-ml-py, botocore, blessed, unidist, s3transfer, ray, py-spy, plumbum, pandas, opencensus, mpi4py-mpich, jupyter, gpustat, colorful, aiohttp-cors, rpyc, modin-spreadsheet, modin, boto3\n",
            "  Attempting uninstall: tornado\n",
            "    Found existing installation: tornado 6.0.4\n",
            "    Uninstalling tornado-6.0.4:\n",
            "      Successfully uninstalled tornado-6.0.4\n",
            "  Attempting uninstall: pyzmq\n",
            "    Found existing installation: pyzmq 23.2.1\n",
            "    Uninstalling pyzmq-23.2.1:\n",
            "      Successfully uninstalled pyzmq-23.2.1\n",
            "  Attempting uninstall: jupyter-client\n",
            "    Found existing installation: jupyter-client 6.1.12\n",
            "    Uninstalling jupyter-client-6.1.12:\n",
            "      Successfully uninstalled jupyter-client-6.1.12\n",
            "  Attempting uninstall: mistune\n",
            "    Found existing installation: mistune 0.8.4\n",
            "    Uninstalling mistune-0.8.4:\n",
            "      Successfully uninstalled mistune-0.8.4\n",
            "  Attempting uninstall: jinja2\n",
            "    Found existing installation: Jinja2 2.11.3\n",
            "    Uninstalling Jinja2-2.11.3:\n",
            "      Successfully uninstalled Jinja2-2.11.3\n",
            "  Attempting uninstall: prometheus-client\n",
            "    Found existing installation: prometheus-client 0.15.0\n",
            "    Uninstalling prometheus-client-0.15.0:\n",
            "      Successfully uninstalled prometheus-client-0.15.0\n",
            "  Attempting uninstall: nbconvert\n",
            "    Found existing installation: nbconvert 5.6.1\n",
            "    Uninstalling nbconvert-5.6.1:\n",
            "      Successfully uninstalled nbconvert-5.6.1\n",
            "  Attempting uninstall: urllib3\n",
            "    Found existing installation: urllib3 1.24.3\n",
            "    Uninstalling urllib3-1.24.3:\n",
            "      Successfully uninstalled urllib3-1.24.3\n",
            "  Attempting uninstall: notebook\n",
            "    Found existing installation: notebook 5.7.16\n",
            "    Uninstalling notebook-5.7.16:\n",
            "      Successfully uninstalled notebook-5.7.16\n",
            "  Attempting uninstall: psutil\n",
            "    Found existing installation: psutil 5.4.8\n",
            "    Uninstalling psutil-5.4.8:\n",
            "      Successfully uninstalled psutil-5.4.8\n",
            "  Attempting uninstall: pandas\n",
            "    Found existing installation: pandas 1.3.5\n",
            "    Uninstalling pandas-1.3.5:\n",
            "      Successfully uninstalled pandas-1.3.5\n",
            "\u001b[31mERROR: pip's dependency resolver does not currently take into account all the packages that are installed. This behaviour is the source of the following dependency conflicts.\n",
            "google-colab 1.0.0 requires notebook~=5.7.16, but you have notebook 6.5.2 which is incompatible.\n",
            "google-colab 1.0.0 requires tornado~=6.0.4, but you have tornado 6.2 which is incompatible.\n",
            "flask 1.1.4 requires Jinja2<3.0,>=2.10.1, but you have jinja2 3.1.2 which is incompatible.\u001b[0m\n",
            "Successfully installed aiohttp-cors-0.7.0 anyio-3.6.2 argon2-cffi-21.3.0 argon2-cffi-bindings-21.2.0 blessed-1.19.1 boto3-1.26.34 botocore-1.29.34 colorful-0.5.5 distlib-0.3.6 gpustat-1.0.0 jedi-0.18.2 jinja2-3.1.2 jmespath-1.0.1 jupyter-1.0.0 jupyter-client-7.4.8 jupyter-events-0.5.0 jupyter-server-2.0.2 jupyter-server-terminals-0.4.3 jupyterlab-pygments-0.2.2 mistune-2.0.4 modin-0.18.0 modin-spreadsheet-0.1.2 mpi4py-mpich-3.1.2 nbclassic-0.4.8 nbclient-0.7.2 nbconvert-7.2.7 nest-asyncio-1.5.6 notebook-6.5.2 notebook-shim-0.2.2 nvidia-ml-py-11.495.46 opencensus-0.11.0 opencensus-context-0.1.3 pandas-1.5.2 plumbum-1.8.0 prometheus-client-0.13.1 psutil-5.9.4 py-spy-0.3.14 python-json-logger-2.0.4 pyzmq-24.0.1 qtconsole-5.4.0 qtpy-2.3.0 ray-2.2.0 rpyc-4.1.5 s3transfer-0.6.0 sniffio-1.3.0 tinycss2-1.2.1 tornado-6.2 unidist-0.2.1 urllib3-1.25.11 virtualenv-20.17.1 websocket-client-1.4.2\n"
          ]
        },
        {
          "output_type": "display_data",
          "data": {
            "application/vnd.colab-display-data+json": {
              "pip_warning": {
                "packages": [
                  "psutil",
                  "tornado",
                  "zmq"
                ]
              }
            }
          },
          "metadata": {}
        }
      ]
    },
    {
      "cell_type": "code",
      "execution_count": null,
      "metadata": {
        "id": "ruJ7DxgElkjY"
      },
      "outputs": [],
      "source": [
        "import numpy as np\n",
        "import matplotlib.pyplot as plt\n",
        "import time"
      ]
    },
    {
      "cell_type": "code",
      "execution_count": null,
      "metadata": {
        "id": "H3umjISglkjY"
      },
      "outputs": [],
      "source": [
        "# ****** Do not change the code in this cell! It verifies that the notebook is being run correctly! ******\n",
        "\n",
        "def verify_and_print_times(pandas_time, modin_time):\n",
        "    if modin_time < pandas_time:\n",
        "        print(f\"Modin was {pandas_time / modin_time:.2f}X faster than stock pandas!\")\n",
        "        return\n",
        "    print(\n",
        "        f\"Oops, stock pandas appears to be {modin_time / pandas_time:.2f}X faster than Modin in this case. \"\n",
        "        \"This is unlikely but could happen sometimes on certain machines/environments/datasets. \"\n",
        "        \"One of the most probable reasons is the excessive amount of partitions being assigned to a single worker. \"\n",
        "        \"You may visit Modin's optimization guide in order to learn more about such cases and how to fix them: \"\n",
        "        \"\\nhttps://modin.readthedocs.io/en/latest/usage_guide/optimization_notes/index.html\\n\\n\"\n",
        "        \"But first, verify that you're using the latest Modin version, also, try to use different executions, \"\n",
        "        \"for basic usage we recommend non-experimental 'PandasOnRay'.\\n\"\n",
        "        \"Current configuration is:\"\n",
        "    )\n",
        "    try:\n",
        "        from modin.utils import get_current_execution\n",
        "\n",
        "        execution = get_current_execution()\n",
        "    except ImportError:\n",
        "        # for modin version < 0.12.0\n",
        "        try:\n",
        "            from modin.utils import get_current_backend\n",
        "\n",
        "            execution = get_current_backend()\n",
        "        except ImportError:\n",
        "            # for modin versions < 0.8.1\n",
        "            execution = (\n",
        "                \"Can't deduce the current execution, your Modin version is too old!\"\n",
        "            )\n",
        "    print(f\"\\tExecution: {execution}\")\n",
        "    try:\n",
        "        import modin.config as cfg\n",
        "\n",
        "        print(\n",
        "            f\"\\tIs experimental: {cfg.IsExperimental.get()}\\n\"\n",
        "            f\"\\tNumber of CPUs to utilize by Modin (check that Modin uses all CPUs on your machine): {cfg.CpuCount.get()}\\n\"\n",
        "            f\"\\tIs in debug mode (debug mode may perform slower): {cfg.IsDebug.get()}\"\n",
        "        )\n",
        "    except (ImportError, AttributeError):\n",
        "        # for modin versions < 0.8.2\n",
        "        print(\"\\tCan't deduce Modin configuration, your Modin version is too old!\")\n",
        "    import modin\n",
        "\n",
        "    print(f\"\\tModin version: {modin.__version__}\")"
      ]
    },
    {
      "cell_type": "markdown",
      "metadata": {
        "id": "Zgn2vo7NlkjZ"
      },
      "source": [
        "## How to Use Modin"
      ]
    },
    {
      "cell_type": "markdown",
      "metadata": {
        "id": "rZvw7GSMlkja"
      },
      "source": [
        "We will also be importing **stock Pandas as pandas** and **Modin as pd to show differentiation**. You can see importing Modin is simple and **does not require any additional steps.**"
      ]
    },
    {
      "cell_type": "code",
      "execution_count": null,
      "metadata": {
        "id": "CajynNlclkja"
      },
      "outputs": [],
      "source": [
        "import pandas"
      ]
    },
    {
      "cell_type": "markdown",
      "metadata": {
        "id": "o2QLJyNQlkja"
      },
      "source": [
        "**Note: Uncomment below cell if you run on Intel oneAPI DevCloud**"
      ]
    },
    {
      "cell_type": "code",
      "execution_count": null,
      "metadata": {
        "id": "L3Zlfq1Glkjb"
      },
      "outputs": [],
      "source": [
        "# import ray\n",
        "# ray.shutdown()\n",
        "# ray.init(_memory=16000 * 1024 * 1024, object_store_memory=500 * 1024 * 1024,_driver_object_store_memory=500 * 1024 * 1024)"
      ]
    },
    {
      "cell_type": "code",
      "execution_count": null,
      "metadata": {
        "id": "619TaZEglkjb"
      },
      "outputs": [],
      "source": [
        "import modin.pandas as pd"
      ]
    },
    {
      "cell_type": "markdown",
      "metadata": {
        "id": "5CxN7ZFtlkjb"
      },
      "source": [
        "We will now **generate a synthetic dataset** using NumPy to use with Modin and save it to a CSV."
      ]
    },
    {
      "cell_type": "code",
      "execution_count": null,
      "metadata": {
        "id": "4UCHDJjClkjb"
      },
      "outputs": [],
      "source": [
        "array=np.random.randint(low=100,high=10000,size=(2**18,2**8))\n",
        "#array\n",
        "np.savetxt(\"foo.csv\", array, delimiter=\",\") #how to generate array"
      ]
    },
    {
      "cell_type": "markdown",
      "metadata": {
        "id": "O4MmAMeblkjb"
      },
      "source": [
        "Now we will convert the ndarray into a Pandas dataframe and display the first five rows.\n",
        "For **stock pandas, the dataframe is being stored as `pandas_df`** and for **Modin, the same dataframe is being stored as `modin_df`**.\n",
        "Let's try running the following cell with Pandas first."
      ]
    },
    {
      "cell_type": "code",
      "execution_count": null,
      "metadata": {
        "id": "iS7YO0X7lkjb",
        "colab": {
          "base_uri": "https://localhost:8080/",
          "height": 334
        },
        "outputId": "e9e076a6-156e-4d8d-f370-f60b273c3983"
      },
      "outputs": [
        {
          "output_type": "stream",
          "name": "stdout",
          "text": [
            "CPU times: user 16.5 s, sys: 1.61 s, total: 18.1 s\n",
            "Wall time: 18.1 s\n"
          ]
        },
        {
          "output_type": "execute_result",
          "data": {
            "text/plain": [
              "     col0    col1    col2    col3    col4    col5    col6    col7    col8  \\\n",
              "0  3905.0  5729.0  8544.0   342.0  2805.0  2231.0  8700.0  9212.0  6938.0   \n",
              "1  6928.0  7636.0  5818.0  9505.0  1441.0  5137.0  3535.0  1908.0  6570.0   \n",
              "2  1857.0  5619.0  3362.0  8788.0  9332.0  3990.0  3158.0  1338.0  1037.0   \n",
              "3  4963.0   193.0  3808.0  7341.0   653.0  9363.0  5389.0  4831.0  5710.0   \n",
              "4  3404.0  3207.0  6846.0  7135.0  6500.0  1287.0  4279.0  4274.0  8769.0   \n",
              "\n",
              "     col9  ...  col246  col247  col248  col249  col250  col251  col252  \\\n",
              "0  3664.0  ...  8906.0  1586.0  2578.0   420.0  6894.0  7126.0  2321.0   \n",
              "1  2166.0  ...  2186.0  4112.0  1035.0  8678.0  9039.0  2437.0  4353.0   \n",
              "2  1569.0  ...  3488.0  7193.0  8961.0  8522.0  1265.0  5017.0  2896.0   \n",
              "3  6625.0  ...  9075.0   188.0  6907.0  7328.0  4915.0   512.0  8747.0   \n",
              "4  9360.0  ...  7781.0  4338.0  3489.0  8619.0  3065.0  8668.0   329.0   \n",
              "\n",
              "   col253  col254  col255  \n",
              "0  2000.0  5026.0  7089.0  \n",
              "1   123.0   466.0  4311.0  \n",
              "2  4466.0  2499.0  6288.0  \n",
              "3  3777.0   492.0  9686.0  \n",
              "4  6166.0  2657.0   663.0  \n",
              "\n",
              "[5 rows x 256 columns]"
            ],
            "text/html": [
              "\n",
              "  <div id=\"df-fd7474e8-82b5-490c-851e-672acc812019\">\n",
              "    <div class=\"colab-df-container\">\n",
              "      <div>\n",
              "<style scoped>\n",
              "    .dataframe tbody tr th:only-of-type {\n",
              "        vertical-align: middle;\n",
              "    }\n",
              "\n",
              "    .dataframe tbody tr th {\n",
              "        vertical-align: top;\n",
              "    }\n",
              "\n",
              "    .dataframe thead th {\n",
              "        text-align: right;\n",
              "    }\n",
              "</style>\n",
              "<table border=\"1\" class=\"dataframe\">\n",
              "  <thead>\n",
              "    <tr style=\"text-align: right;\">\n",
              "      <th></th>\n",
              "      <th>col0</th>\n",
              "      <th>col1</th>\n",
              "      <th>col2</th>\n",
              "      <th>col3</th>\n",
              "      <th>col4</th>\n",
              "      <th>col5</th>\n",
              "      <th>col6</th>\n",
              "      <th>col7</th>\n",
              "      <th>col8</th>\n",
              "      <th>col9</th>\n",
              "      <th>...</th>\n",
              "      <th>col246</th>\n",
              "      <th>col247</th>\n",
              "      <th>col248</th>\n",
              "      <th>col249</th>\n",
              "      <th>col250</th>\n",
              "      <th>col251</th>\n",
              "      <th>col252</th>\n",
              "      <th>col253</th>\n",
              "      <th>col254</th>\n",
              "      <th>col255</th>\n",
              "    </tr>\n",
              "  </thead>\n",
              "  <tbody>\n",
              "    <tr>\n",
              "      <th>0</th>\n",
              "      <td>3905.0</td>\n",
              "      <td>5729.0</td>\n",
              "      <td>8544.0</td>\n",
              "      <td>342.0</td>\n",
              "      <td>2805.0</td>\n",
              "      <td>2231.0</td>\n",
              "      <td>8700.0</td>\n",
              "      <td>9212.0</td>\n",
              "      <td>6938.0</td>\n",
              "      <td>3664.0</td>\n",
              "      <td>...</td>\n",
              "      <td>8906.0</td>\n",
              "      <td>1586.0</td>\n",
              "      <td>2578.0</td>\n",
              "      <td>420.0</td>\n",
              "      <td>6894.0</td>\n",
              "      <td>7126.0</td>\n",
              "      <td>2321.0</td>\n",
              "      <td>2000.0</td>\n",
              "      <td>5026.0</td>\n",
              "      <td>7089.0</td>\n",
              "    </tr>\n",
              "    <tr>\n",
              "      <th>1</th>\n",
              "      <td>6928.0</td>\n",
              "      <td>7636.0</td>\n",
              "      <td>5818.0</td>\n",
              "      <td>9505.0</td>\n",
              "      <td>1441.0</td>\n",
              "      <td>5137.0</td>\n",
              "      <td>3535.0</td>\n",
              "      <td>1908.0</td>\n",
              "      <td>6570.0</td>\n",
              "      <td>2166.0</td>\n",
              "      <td>...</td>\n",
              "      <td>2186.0</td>\n",
              "      <td>4112.0</td>\n",
              "      <td>1035.0</td>\n",
              "      <td>8678.0</td>\n",
              "      <td>9039.0</td>\n",
              "      <td>2437.0</td>\n",
              "      <td>4353.0</td>\n",
              "      <td>123.0</td>\n",
              "      <td>466.0</td>\n",
              "      <td>4311.0</td>\n",
              "    </tr>\n",
              "    <tr>\n",
              "      <th>2</th>\n",
              "      <td>1857.0</td>\n",
              "      <td>5619.0</td>\n",
              "      <td>3362.0</td>\n",
              "      <td>8788.0</td>\n",
              "      <td>9332.0</td>\n",
              "      <td>3990.0</td>\n",
              "      <td>3158.0</td>\n",
              "      <td>1338.0</td>\n",
              "      <td>1037.0</td>\n",
              "      <td>1569.0</td>\n",
              "      <td>...</td>\n",
              "      <td>3488.0</td>\n",
              "      <td>7193.0</td>\n",
              "      <td>8961.0</td>\n",
              "      <td>8522.0</td>\n",
              "      <td>1265.0</td>\n",
              "      <td>5017.0</td>\n",
              "      <td>2896.0</td>\n",
              "      <td>4466.0</td>\n",
              "      <td>2499.0</td>\n",
              "      <td>6288.0</td>\n",
              "    </tr>\n",
              "    <tr>\n",
              "      <th>3</th>\n",
              "      <td>4963.0</td>\n",
              "      <td>193.0</td>\n",
              "      <td>3808.0</td>\n",
              "      <td>7341.0</td>\n",
              "      <td>653.0</td>\n",
              "      <td>9363.0</td>\n",
              "      <td>5389.0</td>\n",
              "      <td>4831.0</td>\n",
              "      <td>5710.0</td>\n",
              "      <td>6625.0</td>\n",
              "      <td>...</td>\n",
              "      <td>9075.0</td>\n",
              "      <td>188.0</td>\n",
              "      <td>6907.0</td>\n",
              "      <td>7328.0</td>\n",
              "      <td>4915.0</td>\n",
              "      <td>512.0</td>\n",
              "      <td>8747.0</td>\n",
              "      <td>3777.0</td>\n",
              "      <td>492.0</td>\n",
              "      <td>9686.0</td>\n",
              "    </tr>\n",
              "    <tr>\n",
              "      <th>4</th>\n",
              "      <td>3404.0</td>\n",
              "      <td>3207.0</td>\n",
              "      <td>6846.0</td>\n",
              "      <td>7135.0</td>\n",
              "      <td>6500.0</td>\n",
              "      <td>1287.0</td>\n",
              "      <td>4279.0</td>\n",
              "      <td>4274.0</td>\n",
              "      <td>8769.0</td>\n",
              "      <td>9360.0</td>\n",
              "      <td>...</td>\n",
              "      <td>7781.0</td>\n",
              "      <td>4338.0</td>\n",
              "      <td>3489.0</td>\n",
              "      <td>8619.0</td>\n",
              "      <td>3065.0</td>\n",
              "      <td>8668.0</td>\n",
              "      <td>329.0</td>\n",
              "      <td>6166.0</td>\n",
              "      <td>2657.0</td>\n",
              "      <td>663.0</td>\n",
              "    </tr>\n",
              "  </tbody>\n",
              "</table>\n",
              "<p>5 rows × 256 columns</p>\n",
              "</div>\n",
              "      <button class=\"colab-df-convert\" onclick=\"convertToInteractive('df-fd7474e8-82b5-490c-851e-672acc812019')\"\n",
              "              title=\"Convert this dataframe to an interactive table.\"\n",
              "              style=\"display:none;\">\n",
              "        \n",
              "  <svg xmlns=\"http://www.w3.org/2000/svg\" height=\"24px\"viewBox=\"0 0 24 24\"\n",
              "       width=\"24px\">\n",
              "    <path d=\"M0 0h24v24H0V0z\" fill=\"none\"/>\n",
              "    <path d=\"M18.56 5.44l.94 2.06.94-2.06 2.06-.94-2.06-.94-.94-2.06-.94 2.06-2.06.94zm-11 1L8.5 8.5l.94-2.06 2.06-.94-2.06-.94L8.5 2.5l-.94 2.06-2.06.94zm10 10l.94 2.06.94-2.06 2.06-.94-2.06-.94-.94-2.06-.94 2.06-2.06.94z\"/><path d=\"M17.41 7.96l-1.37-1.37c-.4-.4-.92-.59-1.43-.59-.52 0-1.04.2-1.43.59L10.3 9.45l-7.72 7.72c-.78.78-.78 2.05 0 2.83L4 21.41c.39.39.9.59 1.41.59.51 0 1.02-.2 1.41-.59l7.78-7.78 2.81-2.81c.8-.78.8-2.07 0-2.86zM5.41 20L4 18.59l7.72-7.72 1.47 1.35L5.41 20z\"/>\n",
              "  </svg>\n",
              "      </button>\n",
              "      \n",
              "  <style>\n",
              "    .colab-df-container {\n",
              "      display:flex;\n",
              "      flex-wrap:wrap;\n",
              "      gap: 12px;\n",
              "    }\n",
              "\n",
              "    .colab-df-convert {\n",
              "      background-color: #E8F0FE;\n",
              "      border: none;\n",
              "      border-radius: 50%;\n",
              "      cursor: pointer;\n",
              "      display: none;\n",
              "      fill: #1967D2;\n",
              "      height: 32px;\n",
              "      padding: 0 0 0 0;\n",
              "      width: 32px;\n",
              "    }\n",
              "\n",
              "    .colab-df-convert:hover {\n",
              "      background-color: #E2EBFA;\n",
              "      box-shadow: 0px 1px 2px rgba(60, 64, 67, 0.3), 0px 1px 3px 1px rgba(60, 64, 67, 0.15);\n",
              "      fill: #174EA6;\n",
              "    }\n",
              "\n",
              "    [theme=dark] .colab-df-convert {\n",
              "      background-color: #3B4455;\n",
              "      fill: #D2E3FC;\n",
              "    }\n",
              "\n",
              "    [theme=dark] .colab-df-convert:hover {\n",
              "      background-color: #434B5C;\n",
              "      box-shadow: 0px 1px 3px 1px rgba(0, 0, 0, 0.15);\n",
              "      filter: drop-shadow(0px 1px 2px rgba(0, 0, 0, 0.3));\n",
              "      fill: #FFFFFF;\n",
              "    }\n",
              "  </style>\n",
              "\n",
              "      <script>\n",
              "        const buttonEl =\n",
              "          document.querySelector('#df-fd7474e8-82b5-490c-851e-672acc812019 button.colab-df-convert');\n",
              "        buttonEl.style.display =\n",
              "          google.colab.kernel.accessAllowed ? 'block' : 'none';\n",
              "\n",
              "        async function convertToInteractive(key) {\n",
              "          const element = document.querySelector('#df-fd7474e8-82b5-490c-851e-672acc812019');\n",
              "          const dataTable =\n",
              "            await google.colab.kernel.invokeFunction('convertToInteractive',\n",
              "                                                     [key], {});\n",
              "          if (!dataTable) return;\n",
              "\n",
              "          const docLinkHtml = 'Like what you see? Visit the ' +\n",
              "            '<a target=\"_blank\" href=https://colab.research.google.com/notebooks/data_table.ipynb>data table notebook</a>'\n",
              "            + ' to learn more about interactive tables.';\n",
              "          element.innerHTML = '';\n",
              "          dataTable['output_type'] = 'display_data';\n",
              "          await google.colab.output.renderOutput(dataTable, element);\n",
              "          const docLink = document.createElement('div');\n",
              "          docLink.innerHTML = docLinkHtml;\n",
              "          element.appendChild(docLink);\n",
              "        }\n",
              "      </script>\n",
              "    </div>\n",
              "  </div>\n",
              "  "
            ]
          },
          "metadata": {},
          "execution_count": 7
        }
      ],
      "source": [
        "%%time\n",
        "pandas_df = pandas.read_csv(\"foo.csv\", names=[\"col{}\".format(i) for i in range(256)])\n",
        "pandas_df.head()"
      ]
    },
    {
      "cell_type": "markdown",
      "metadata": {
        "id": "QM00ppellkjb"
      },
      "source": [
        "Now let's run the same code, but use **Modin instead of stock Pandas.**\n",
        "\n",
        "**Note the speedup!**"
      ]
    },
    {
      "cell_type": "code",
      "execution_count": null,
      "metadata": {
        "id": "bFS0Z-oqlkjc",
        "colab": {
          "base_uri": "https://localhost:8080/",
          "height": 429
        },
        "outputId": "7404096d-e82b-43be-dd19-682580968647"
      },
      "outputs": [
        {
          "output_type": "stream",
          "name": "stderr",
          "text": [
            "UserWarning: Ray execution environment not yet initialized. Initializing...\n",
            "To remove this warning, run the following python code before doing dataframe operations:\n",
            "\n",
            "    import ray\n",
            "    ray.init(runtime_env={'env_vars': {'__MODIN_AUTOIMPORT_PANDAS__': '1'}})\n",
            "\n",
            "UserWarning: The size of /dev/shm is too small (6133121024 bytes). The required size at least half of RAM (6808180736 bytes). Please, delete files in /dev/shm or increase size of /dev/shm with --shm-size in Docker. Also, you can can override the memory size for each Ray worker (in bytes) to the MODIN_MEMORY environment variable.\n",
            "2022-12-21 07:38:35,605\tINFO worker.py:1529 -- Started a local Ray instance. View the dashboard at \u001b[1m\u001b[32mhttp://127.0.0.1:8265 \u001b[39m\u001b[22m\n"
          ]
        },
        {
          "output_type": "stream",
          "name": "stdout",
          "text": [
            "CPU times: user 3.57 s, sys: 1.45 s, total: 5.01 s\n",
            "Wall time: 33.6 s\n"
          ]
        },
        {
          "output_type": "execute_result",
          "data": {
            "text/plain": [
              "     col0    col1    col2    col3    col4    col5    col6    col7    col8  \\\n",
              "0  3905.0  5729.0  8544.0   342.0  2805.0  2231.0  8700.0  9212.0  6938.0   \n",
              "1  6928.0  7636.0  5818.0  9505.0  1441.0  5137.0  3535.0  1908.0  6570.0   \n",
              "2  1857.0  5619.0  3362.0  8788.0  9332.0  3990.0  3158.0  1338.0  1037.0   \n",
              "3  4963.0   193.0  3808.0  7341.0   653.0  9363.0  5389.0  4831.0  5710.0   \n",
              "4  3404.0  3207.0  6846.0  7135.0  6500.0  1287.0  4279.0  4274.0  8769.0   \n",
              "\n",
              "     col9  ...  col246  col247  col248  col249  col250  col251  col252  \\\n",
              "0  3664.0  ...  8906.0  1586.0  2578.0   420.0  6894.0  7126.0  2321.0   \n",
              "1  2166.0  ...  2186.0  4112.0  1035.0  8678.0  9039.0  2437.0  4353.0   \n",
              "2  1569.0  ...  3488.0  7193.0  8961.0  8522.0  1265.0  5017.0  2896.0   \n",
              "3  6625.0  ...  9075.0   188.0  6907.0  7328.0  4915.0   512.0  8747.0   \n",
              "4  9360.0  ...  7781.0  4338.0  3489.0  8619.0  3065.0  8668.0   329.0   \n",
              "\n",
              "   col253  col254  col255  \n",
              "0  2000.0  5026.0  7089.0  \n",
              "1   123.0   466.0  4311.0  \n",
              "2  4466.0  2499.0  6288.0  \n",
              "3  3777.0   492.0  9686.0  \n",
              "4  6166.0  2657.0   663.0  \n",
              "\n",
              "[5 rows x 256 columns]"
            ],
            "text/html": [
              "<div>\n",
              "<style scoped>\n",
              "    .dataframe tbody tr th:only-of-type {\n",
              "        vertical-align: middle;\n",
              "    }\n",
              "\n",
              "    .dataframe tbody tr th {\n",
              "        vertical-align: top;\n",
              "    }\n",
              "\n",
              "    .dataframe thead th {\n",
              "        text-align: right;\n",
              "    }\n",
              "</style>\n",
              "<table border=\"1\" class=\"dataframe\">\n",
              "  <thead>\n",
              "    <tr style=\"text-align: right;\">\n",
              "      <th></th>\n",
              "      <th>col0</th>\n",
              "      <th>col1</th>\n",
              "      <th>col2</th>\n",
              "      <th>col3</th>\n",
              "      <th>col4</th>\n",
              "      <th>col5</th>\n",
              "      <th>col6</th>\n",
              "      <th>col7</th>\n",
              "      <th>col8</th>\n",
              "      <th>col9</th>\n",
              "      <th>...</th>\n",
              "      <th>col246</th>\n",
              "      <th>col247</th>\n",
              "      <th>col248</th>\n",
              "      <th>col249</th>\n",
              "      <th>col250</th>\n",
              "      <th>col251</th>\n",
              "      <th>col252</th>\n",
              "      <th>col253</th>\n",
              "      <th>col254</th>\n",
              "      <th>col255</th>\n",
              "    </tr>\n",
              "  </thead>\n",
              "  <tbody>\n",
              "    <tr>\n",
              "      <th>0</th>\n",
              "      <td>3905.0</td>\n",
              "      <td>5729.0</td>\n",
              "      <td>8544.0</td>\n",
              "      <td>342.0</td>\n",
              "      <td>2805.0</td>\n",
              "      <td>2231.0</td>\n",
              "      <td>8700.0</td>\n",
              "      <td>9212.0</td>\n",
              "      <td>6938.0</td>\n",
              "      <td>3664.0</td>\n",
              "      <td>...</td>\n",
              "      <td>8906.0</td>\n",
              "      <td>1586.0</td>\n",
              "      <td>2578.0</td>\n",
              "      <td>420.0</td>\n",
              "      <td>6894.0</td>\n",
              "      <td>7126.0</td>\n",
              "      <td>2321.0</td>\n",
              "      <td>2000.0</td>\n",
              "      <td>5026.0</td>\n",
              "      <td>7089.0</td>\n",
              "    </tr>\n",
              "    <tr>\n",
              "      <th>1</th>\n",
              "      <td>6928.0</td>\n",
              "      <td>7636.0</td>\n",
              "      <td>5818.0</td>\n",
              "      <td>9505.0</td>\n",
              "      <td>1441.0</td>\n",
              "      <td>5137.0</td>\n",
              "      <td>3535.0</td>\n",
              "      <td>1908.0</td>\n",
              "      <td>6570.0</td>\n",
              "      <td>2166.0</td>\n",
              "      <td>...</td>\n",
              "      <td>2186.0</td>\n",
              "      <td>4112.0</td>\n",
              "      <td>1035.0</td>\n",
              "      <td>8678.0</td>\n",
              "      <td>9039.0</td>\n",
              "      <td>2437.0</td>\n",
              "      <td>4353.0</td>\n",
              "      <td>123.0</td>\n",
              "      <td>466.0</td>\n",
              "      <td>4311.0</td>\n",
              "    </tr>\n",
              "    <tr>\n",
              "      <th>2</th>\n",
              "      <td>1857.0</td>\n",
              "      <td>5619.0</td>\n",
              "      <td>3362.0</td>\n",
              "      <td>8788.0</td>\n",
              "      <td>9332.0</td>\n",
              "      <td>3990.0</td>\n",
              "      <td>3158.0</td>\n",
              "      <td>1338.0</td>\n",
              "      <td>1037.0</td>\n",
              "      <td>1569.0</td>\n",
              "      <td>...</td>\n",
              "      <td>3488.0</td>\n",
              "      <td>7193.0</td>\n",
              "      <td>8961.0</td>\n",
              "      <td>8522.0</td>\n",
              "      <td>1265.0</td>\n",
              "      <td>5017.0</td>\n",
              "      <td>2896.0</td>\n",
              "      <td>4466.0</td>\n",
              "      <td>2499.0</td>\n",
              "      <td>6288.0</td>\n",
              "    </tr>\n",
              "    <tr>\n",
              "      <th>3</th>\n",
              "      <td>4963.0</td>\n",
              "      <td>193.0</td>\n",
              "      <td>3808.0</td>\n",
              "      <td>7341.0</td>\n",
              "      <td>653.0</td>\n",
              "      <td>9363.0</td>\n",
              "      <td>5389.0</td>\n",
              "      <td>4831.0</td>\n",
              "      <td>5710.0</td>\n",
              "      <td>6625.0</td>\n",
              "      <td>...</td>\n",
              "      <td>9075.0</td>\n",
              "      <td>188.0</td>\n",
              "      <td>6907.0</td>\n",
              "      <td>7328.0</td>\n",
              "      <td>4915.0</td>\n",
              "      <td>512.0</td>\n",
              "      <td>8747.0</td>\n",
              "      <td>3777.0</td>\n",
              "      <td>492.0</td>\n",
              "      <td>9686.0</td>\n",
              "    </tr>\n",
              "    <tr>\n",
              "      <th>4</th>\n",
              "      <td>3404.0</td>\n",
              "      <td>3207.0</td>\n",
              "      <td>6846.0</td>\n",
              "      <td>7135.0</td>\n",
              "      <td>6500.0</td>\n",
              "      <td>1287.0</td>\n",
              "      <td>4279.0</td>\n",
              "      <td>4274.0</td>\n",
              "      <td>8769.0</td>\n",
              "      <td>9360.0</td>\n",
              "      <td>...</td>\n",
              "      <td>7781.0</td>\n",
              "      <td>4338.0</td>\n",
              "      <td>3489.0</td>\n",
              "      <td>8619.0</td>\n",
              "      <td>3065.0</td>\n",
              "      <td>8668.0</td>\n",
              "      <td>329.0</td>\n",
              "      <td>6166.0</td>\n",
              "      <td>2657.0</td>\n",
              "      <td>663.0</td>\n",
              "    </tr>\n",
              "  </tbody>\n",
              "</table>\n",
              "<p>5 rows x 256 columns</p>\n",
              "</div>"
            ]
          },
          "metadata": {},
          "execution_count": 8
        }
      ],
      "source": [
        "%%time\n",
        "modin_df=pd.read_csv(\"foo.csv\", names=[\"col{}\".format(i) for i in range(256)])\n",
        "modin_df.head()"
      ]
    },
    {
      "cell_type": "markdown",
      "metadata": {
        "id": "mCFW3ESalkjc"
      },
      "source": [
        "Let's now **visualize** this speedup from Modin with a plot!"
      ]
    },
    {
      "cell_type": "code",
      "execution_count": null,
      "metadata": {
        "id": "N3F564anlkjc"
      },
      "outputs": [],
      "source": [
        "def plotter(outputdict):\n",
        "    fig = plt.figure(figsize = (10, 5)) \n",
        "    plt.bar(outputdict.keys(),outputdict.values(),color='blue',width=0.4)\n",
        "    plt.xlabel(\"Python Package\")\n",
        "    plt.ylabel(\"Runtime(seconds)\")\n",
        "    plt.show()"
      ]
    },
    {
      "cell_type": "code",
      "execution_count": null,
      "metadata": {
        "scrolled": true,
        "id": "7Q7p4cBElkjc",
        "colab": {
          "base_uri": "https://localhost:8080/",
          "height": 386
        },
        "outputId": "9564bd65-643a-4540-d84c-1ba8f29602bd"
      },
      "outputs": [
        {
          "output_type": "stream",
          "name": "stdout",
          "text": [
            "Pandas Time(seconds): 20.273156881332397 \n",
            "Modin Time(seconds): 18.298872470855713\n",
            "Modin was 1.11X faster than stock pandas!\n"
          ]
        },
        {
          "output_type": "display_data",
          "data": {
            "text/plain": [
              "<Figure size 720x360 with 1 Axes>"
            ],
            "image/png": "[encoded data removed]"
          },
          "metadata": {
            "needs_background": "light"
          }
        }
      ],
      "source": [
        "t0 = time.time()\n",
        "pandas_df = pandas.read_csv(\"foo.csv\", names=[\"col{}\".format(i) for i in range(256)])\n",
        "pandas_time = time.time()- t0\n",
        "\n",
        "t1 = time.time()\n",
        "modin_df = pd.read_csv(\"foo.csv\", names=[\"col{}\".format(i) for i in range(256)])\n",
        "modin_time = time.time() - t1\n",
        "\n",
        "print(\"Pandas Time(seconds):\",pandas_time,\"\\nModin Time(seconds):\",modin_time)\n",
        "verify_and_print_times(pandas_time, modin_time)\n",
        "outputDict={\"Pandas\":pandas_time,\"Modin\":modin_time}\n",
        "plotter(outputDict)"
      ]
    },
    {
      "cell_type": "markdown",
      "metadata": {
        "id": "2XHeuZeHlkjc"
      },
      "source": [
        "## Other DataFrame Function Performance Example\n",
        "We will now show the speedup in performance from Modin compared to stock Pandas with a few common functions.\n",
        "\n",
        "Like before, **`pandas_df` is for  stock Pandas**, **`modin_df` is for Modin**."
      ]
    },
    {
      "cell_type": "markdown",
      "metadata": {
        "id": "lGz52Sn8lkjc"
      },
      "source": [
        "### `df.mean()`"
      ]
    },
    {
      "cell_type": "code",
      "execution_count": null,
      "metadata": {
        "id": "2h-7NV7blkjc",
        "colab": {
          "base_uri": "https://localhost:8080/"
        },
        "outputId": "ba81761b-c77d-4379-a4f8-a4819479d84a"
      },
      "outputs": [
        {
          "output_type": "stream",
          "name": "stdout",
          "text": [
            " stock Pandas wall time for completion in seconds: 0.24925947189331055\n"
          ]
        }
      ],
      "source": [
        "# Mean\n",
        "t2 = time.time()\n",
        "pandas_df.mean(axis=0)\n",
        "pandas_time=time.time()- t2\n",
        "print(\" stock Pandas wall time for completion in seconds:\",pandas_time)"
      ]
    },
    {
      "cell_type": "code",
      "execution_count": null,
      "metadata": {
        "scrolled": true,
        "id": "fwQ48jD0lkjc",
        "colab": {
          "base_uri": "https://localhost:8080/"
        },
        "outputId": "8d63dc40-673c-4c9b-ad82-9a26dc71ea39"
      },
      "outputs": [
        {
          "output_type": "stream",
          "name": "stdout",
          "text": [
            "Modin wall time for completion in seconds: 0.03903508186340332\n"
          ]
        }
      ],
      "source": [
        "# Mean\n",
        "t3 = time.time()\n",
        "modin_df.mean(axis=0)\n",
        "modin_time=time.time()- t3\n",
        "print(\"Modin wall time for completion in seconds:\",modin_time)"
      ]
    },
    {
      "cell_type": "code",
      "execution_count": null,
      "metadata": {
        "scrolled": true,
        "id": "SaBuCbE5lkjd",
        "colab": {
          "base_uri": "https://localhost:8080/"
        },
        "outputId": "7b8a0a99-dd15-4794-9904-67474cad2ab1"
      },
      "outputs": [
        {
          "output_type": "stream",
          "name": "stdout",
          "text": [
            "Modin was 6.39X faster than stock pandas!\n"
          ]
        }
      ],
      "source": [
        "verify_and_print_times(pandas_time, modin_time)"
      ]
    },
    {
      "cell_type": "markdown",
      "metadata": {
        "id": "0lOvmR91lkjd"
      },
      "source": [
        "### `df.applymap`"
      ]
    },
    {
      "cell_type": "code",
      "execution_count": null,
      "metadata": {
        "scrolled": true,
        "id": "tG_cXL7dlkjd",
        "colab": {
          "base_uri": "https://localhost:8080/"
        },
        "outputId": "5106f24e-d0ac-4d0c-98fc-37ff16667c9e"
      },
      "outputs": [
        {
          "output_type": "stream",
          "name": "stdout",
          "text": [
            "          col0    col1    col2    col3    col4    col5    col6    col7  \\\n",
            "0       3906.0  5730.0  8545.0   343.0  2806.0  2232.0  8701.0  9213.0   \n",
            "1       6929.0  7637.0  5819.0  9506.0  1442.0  5138.0  3536.0  1909.0   \n",
            "2       1858.0  5620.0  3363.0  8789.0  9333.0  3991.0  3159.0  1339.0   \n",
            "3       4964.0   194.0  3809.0  7342.0   654.0  9364.0  5390.0  4832.0   \n",
            "4       3405.0  3208.0  6847.0  7136.0  6501.0  1288.0  4280.0  4275.0   \n",
            "...        ...     ...     ...     ...     ...     ...     ...     ...   \n",
            "262139  1201.0  6230.0  4138.0  8653.0  2757.0  7207.0  6880.0  4563.0   \n",
            "262140  6673.0  2380.0   865.0  5868.0  3678.0  6432.0   445.0  1293.0   \n",
            "262141  6960.0  3208.0  7004.0  7750.0  5902.0  5816.0  3893.0  8888.0   \n",
            "262142  3595.0  8907.0   768.0  9022.0  6267.0  2640.0  6492.0  2408.0   \n",
            "262143  3206.0  2930.0  6941.0  3344.0  4907.0  4322.0  9175.0  8634.0   \n",
            "\n",
            "          col8    col9  ...  col246  col247  col248  col249  col250  col251  \\\n",
            "0       6939.0  3665.0  ...  8907.0  1587.0  2579.0   421.0  6895.0  7127.0   \n",
            "1       6571.0  2167.0  ...  2187.0  4113.0  1036.0  8679.0  9040.0  2438.0   \n",
            "2       1038.0  1570.0  ...  3489.0  7194.0  8962.0  8523.0  1266.0  5018.0   \n",
            "3       5711.0  6626.0  ...  9076.0   189.0  6908.0  7329.0  4916.0   513.0   \n",
            "4       8770.0  9361.0  ...  7782.0  4339.0  3490.0  8620.0  3066.0  8669.0   \n",
            "...        ...     ...  ...     ...     ...     ...     ...     ...     ...   \n",
            "262139  3986.0  8780.0  ...  1395.0  5558.0  1078.0  8693.0  5241.0  7434.0   \n",
            "262140   948.0  2393.0  ...  7490.0  1443.0  4986.0  8203.0  6316.0  7155.0   \n",
            "262141  3364.0  2066.0  ...  3030.0  7982.0  2601.0  1618.0  4295.0  1229.0   \n",
            "262142  6758.0  5729.0  ...  4434.0  4609.0  6926.0  6069.0  8917.0   957.0   \n",
            "262143  5192.0  1667.0  ...  7086.0  7832.0  7877.0  5358.0  4656.0  8337.0   \n",
            "\n",
            "        col252  col253  col254  col255  \n",
            "0       2322.0  2001.0  5027.0  7090.0  \n",
            "1       4354.0   124.0   467.0  4312.0  \n",
            "2       2897.0  4467.0  2500.0  6289.0  \n",
            "3       8748.0  3778.0   493.0  9687.0  \n",
            "4        330.0  6167.0  2658.0   664.0  \n",
            "...        ...     ...     ...     ...  \n",
            "262139  3961.0  6109.0  8119.0  4916.0  \n",
            "262140  3174.0  3921.0  6135.0  2004.0  \n",
            "262141  6256.0  1237.0  8330.0   576.0  \n",
            "262142  9989.0  5228.0  7544.0  9499.0  \n",
            "262143   165.0  8264.0  4612.0  7113.0  \n",
            "\n",
            "[262144 rows x 256 columns]\n",
            " stock Pandas wall time for completion in seconds: 21.268391132354736\n"
          ]
        }
      ],
      "source": [
        "# Long apply function\n",
        "t6 = time.time()\n",
        "print(pandas_df.applymap(lambda x: x + 1))\n",
        "pandas_time = time.time() - t6\n",
        "print(\" stock Pandas wall time for completion in seconds:\",pandas_time)"
      ]
    },
    {
      "cell_type": "code",
      "execution_count": null,
      "metadata": {
        "scrolled": true,
        "id": "Q7GZRNXslkjd",
        "colab": {
          "base_uri": "https://localhost:8080/"
        },
        "outputId": "56706cfb-871b-4840-ba3c-aa4a6ed7c612"
      },
      "outputs": [
        {
          "output_type": "stream",
          "name": "stdout",
          "text": [
            "          col0    col1    col2    col3    col4    col5    col6    col7  \\\n",
            "0       3906.0  5730.0  8545.0   343.0  2806.0  2232.0  8701.0  9213.0   \n",
            "1       6929.0  7637.0  5819.0  9506.0  1442.0  5138.0  3536.0  1909.0   \n",
            "2       1858.0  5620.0  3363.0  8789.0  9333.0  3991.0  3159.0  1339.0   \n",
            "3       4964.0   194.0  3809.0  7342.0   654.0  9364.0  5390.0  4832.0   \n",
            "4       3405.0  3208.0  6847.0  7136.0  6501.0  1288.0  4280.0  4275.0   \n",
            "...        ...     ...     ...     ...     ...     ...     ...     ...   \n",
            "262139  1201.0  6230.0  4138.0  8653.0  2757.0  7207.0  6880.0  4563.0   \n",
            "262140  6673.0  2380.0   865.0  5868.0  3678.0  6432.0   445.0  1293.0   \n",
            "262141  6960.0  3208.0  7004.0  7750.0  5902.0  5816.0  3893.0  8888.0   \n",
            "262142  3595.0  8907.0   768.0  9022.0  6267.0  2640.0  6492.0  2408.0   \n",
            "262143  3206.0  2930.0  6941.0  3344.0  4907.0  4322.0  9175.0  8634.0   \n",
            "\n",
            "          col8    col9  ...  col246  col247  col248  col249  col250  col251  \\\n",
            "0       6939.0  3665.0  ...  8907.0  1587.0  2579.0   421.0  6895.0  7127.0   \n",
            "1       6571.0  2167.0  ...  2187.0  4113.0  1036.0  8679.0  9040.0  2438.0   \n",
            "2       1038.0  1570.0  ...  3489.0  7194.0  8962.0  8523.0  1266.0  5018.0   \n",
            "3       5711.0  6626.0  ...  9076.0   189.0  6908.0  7329.0  4916.0   513.0   \n",
            "4       8770.0  9361.0  ...  7782.0  4339.0  3490.0  8620.0  3066.0  8669.0   \n",
            "...        ...     ...  ...     ...     ...     ...     ...     ...     ...   \n",
            "262139  3986.0  8780.0  ...  1395.0  5558.0  1078.0  8693.0  5241.0  7434.0   \n",
            "262140   948.0  2393.0  ...  7490.0  1443.0  4986.0  8203.0  6316.0  7155.0   \n",
            "262141  3364.0  2066.0  ...  3030.0  7982.0  2601.0  1618.0  4295.0  1229.0   \n",
            "262142  6758.0  5729.0  ...  4434.0  4609.0  6926.0  6069.0  8917.0   957.0   \n",
            "262143  5192.0  1667.0  ...  7086.0  7832.0  7877.0  5358.0  4656.0  8337.0   \n",
            "\n",
            "        col252  col253  col254  col255  \n",
            "0       2322.0  2001.0  5027.0  7090.0  \n",
            "1       4354.0   124.0   467.0  4312.0  \n",
            "2       2897.0  4467.0  2500.0  6289.0  \n",
            "3       8748.0  3778.0   493.0  9687.0  \n",
            "4        330.0  6167.0  2658.0   664.0  \n",
            "...        ...     ...     ...     ...  \n",
            "262139  3961.0  6109.0  8119.0  4916.0  \n",
            "262140  3174.0  3921.0  6135.0  2004.0  \n",
            "262141  6256.0  1237.0  8330.0   576.0  \n",
            "262142  9989.0  5228.0  7544.0  9499.0  \n",
            "262143   165.0  8264.0  4612.0  7113.0  \n",
            "\n",
            "[262144 rows x 256 columns]\n",
            "Modin wall time for completion in seconds: 22.22133731842041\n"
          ]
        }
      ],
      "source": [
        "# Long apply function\n",
        "t7 = time.time()\n",
        "print(modin_df.applymap(lambda x: x + 1))\n",
        "modin_time = time.time() - t7\n",
        "print(\"Modin wall time for completion in seconds:\",modin_time)"
      ]
    },
    {
      "cell_type": "code",
      "execution_count": null,
      "metadata": {
        "scrolled": true,
        "id": "1lDPaTO8lkjd",
        "colab": {
          "base_uri": "https://localhost:8080/"
        },
        "outputId": "2162fea4-42f4-48ff-a75b-8356765814ea"
      },
      "outputs": [
        {
          "output_type": "stream",
          "name": "stdout",
          "text": [
            "Oops, stock pandas appears to be 1.04X faster than Modin in this case. This is unlikely but could happen sometimes on certain machines/environments/datasets. One of the most probable reasons is the excessive amount of partitions being assigned to a single worker. You may visit Modin's optimization guide in order to learn more about such cases and how to fix them: \n",
            "https://modin.readthedocs.io/en/latest/usage_guide/optimization_notes/index.html\n",
            "\n",
            "But first, verify that you're using the latest Modin version, also, try to use different executions, for basic usage we recommend non-experimental 'PandasOnRay'.\n",
            "Current configuration is:\n",
            "\tExecution: PandasOnRay\n",
            "\tIs experimental: None\n",
            "\tNumber of CPUs to utilize by Modin (check that Modin uses all CPUs on your machine): 2\n",
            "\tIs in debug mode (debug mode may perform slower): None\n",
            "\tModin version: 0.18.0\n"
          ]
        }
      ],
      "source": [
        "verify_and_print_times(pandas_time, modin_time)"
      ]
    },
    {
      "cell_type": "markdown",
      "metadata": {
        "id": "EB-s-v1Blkjd"
      },
      "source": [
        "### `pd.concat([df, df])`"
      ]
    },
    {
      "cell_type": "code",
      "execution_count": null,
      "metadata": {
        "id": "3QPeus3Klkjd",
        "colab": {
          "base_uri": "https://localhost:8080/"
        },
        "outputId": "52a6ebf7-1309-46d9-a567-4400c7ce742c"
      },
      "outputs": [
        {
          "output_type": "stream",
          "name": "stdout",
          "text": [
            "          col0    col1    col2    col3    col4    col5    col6    col7  \\\n",
            "0       3905.0  5729.0  8544.0   342.0  2805.0  2231.0  8700.0  9212.0   \n",
            "1       6928.0  7636.0  5818.0  9505.0  1441.0  5137.0  3535.0  1908.0   \n",
            "2       1857.0  5619.0  3362.0  8788.0  9332.0  3990.0  3158.0  1338.0   \n",
            "3       4963.0   193.0  3808.0  7341.0   653.0  9363.0  5389.0  4831.0   \n",
            "4       3404.0  3207.0  6846.0  7135.0  6500.0  1287.0  4279.0  4274.0   \n",
            "...        ...     ...     ...     ...     ...     ...     ...     ...   \n",
            "262139  1200.0  6229.0  4137.0  8652.0  2756.0  7206.0  6879.0  4562.0   \n",
            "262140  6672.0  2379.0   864.0  5867.0  3677.0  6431.0   444.0  1292.0   \n",
            "262141  6959.0  3207.0  7003.0  7749.0  5901.0  5815.0  3892.0  8887.0   \n",
            "262142  3594.0  8906.0   767.0  9021.0  6266.0  2639.0  6491.0  2407.0   \n",
            "262143  3205.0  2929.0  6940.0  3343.0  4906.0  4321.0  9174.0  8633.0   \n",
            "\n",
            "          col8    col9  ...  col246  col247  col248  col249  col250  col251  \\\n",
            "0       6938.0  3664.0  ...  8906.0  1586.0  2578.0   420.0  6894.0  7126.0   \n",
            "1       6570.0  2166.0  ...  2186.0  4112.0  1035.0  8678.0  9039.0  2437.0   \n",
            "2       1037.0  1569.0  ...  3488.0  7193.0  8961.0  8522.0  1265.0  5017.0   \n",
            "3       5710.0  6625.0  ...  9075.0   188.0  6907.0  7328.0  4915.0   512.0   \n",
            "4       8769.0  9360.0  ...  7781.0  4338.0  3489.0  8619.0  3065.0  8668.0   \n",
            "...        ...     ...  ...     ...     ...     ...     ...     ...     ...   \n",
            "262139  3985.0  8779.0  ...  1394.0  5557.0  1077.0  8692.0  5240.0  7433.0   \n",
            "262140   947.0  2392.0  ...  7489.0  1442.0  4985.0  8202.0  6315.0  7154.0   \n",
            "262141  3363.0  2065.0  ...  3029.0  7981.0  2600.0  1617.0  4294.0  1228.0   \n",
            "262142  6757.0  5728.0  ...  4433.0  4608.0  6925.0  6068.0  8916.0   956.0   \n",
            "262143  5191.0  1666.0  ...  7085.0  7831.0  7876.0  5357.0  4655.0  8336.0   \n",
            "\n",
            "        col252  col253  col254  col255  \n",
            "0       2321.0  2000.0  5026.0  7089.0  \n",
            "1       4353.0   123.0   466.0  4311.0  \n",
            "2       2896.0  4466.0  2499.0  6288.0  \n",
            "3       8747.0  3777.0   492.0  9686.0  \n",
            "4        329.0  6166.0  2657.0   663.0  \n",
            "...        ...     ...     ...     ...  \n",
            "262139  3960.0  6108.0  8118.0  4915.0  \n",
            "262140  3173.0  3920.0  6134.0  2003.0  \n",
            "262141  6255.0  1236.0  8329.0   575.0  \n",
            "262142  9988.0  5227.0  7543.0  9498.0  \n",
            "262143   164.0  8263.0  4611.0  7112.0  \n",
            "\n",
            "[524288 rows x 256 columns]\n",
            "stock Pandas wall time for completion in seconds: 0.8647992610931396\n"
          ]
        }
      ],
      "source": [
        "# Concat\n",
        "t8 = time.time()\n",
        "print(pandas.concat([pandas_df, pandas_df], axis=0))\n",
        "pandas_time = time.time() - t8\n",
        "print(\"stock Pandas wall time for completion in seconds:\",pandas_time)"
      ]
    },
    {
      "cell_type": "code",
      "execution_count": null,
      "metadata": {
        "id": "lMmHs-Rblkjd",
        "colab": {
          "base_uri": "https://localhost:8080/"
        },
        "outputId": "1ad79573-3af8-4252-fe97-d0cec7b8fa28"
      },
      "outputs": [
        {
          "output_type": "stream",
          "name": "stdout",
          "text": [
            "          col0    col1    col2    col3    col4    col5    col6    col7  \\\n",
            "0       3905.0  5729.0  8544.0   342.0  2805.0  2231.0  8700.0  9212.0   \n",
            "1       6928.0  7636.0  5818.0  9505.0  1441.0  5137.0  3535.0  1908.0   \n",
            "2       1857.0  5619.0  3362.0  8788.0  9332.0  3990.0  3158.0  1338.0   \n",
            "3       4963.0   193.0  3808.0  7341.0   653.0  9363.0  5389.0  4831.0   \n",
            "4       3404.0  3207.0  6846.0  7135.0  6500.0  1287.0  4279.0  4274.0   \n",
            "...        ...     ...     ...     ...     ...     ...     ...     ...   \n",
            "262139  1200.0  6229.0  4137.0  8652.0  2756.0  7206.0  6879.0  4562.0   \n",
            "262140  6672.0  2379.0   864.0  5867.0  3677.0  6431.0   444.0  1292.0   \n",
            "262141  6959.0  3207.0  7003.0  7749.0  5901.0  5815.0  3892.0  8887.0   \n",
            "262142  3594.0  8906.0   767.0  9021.0  6266.0  2639.0  6491.0  2407.0   \n",
            "262143  3205.0  2929.0  6940.0  3343.0  4906.0  4321.0  9174.0  8633.0   \n",
            "\n",
            "          col8    col9  ...  col246  col247  col248  col249  col250  col251  \\\n",
            "0       6938.0  3664.0  ...  8906.0  1586.0  2578.0   420.0  6894.0  7126.0   \n",
            "1       6570.0  2166.0  ...  2186.0  4112.0  1035.0  8678.0  9039.0  2437.0   \n",
            "2       1037.0  1569.0  ...  3488.0  7193.0  8961.0  8522.0  1265.0  5017.0   \n",
            "3       5710.0  6625.0  ...  9075.0   188.0  6907.0  7328.0  4915.0   512.0   \n",
            "4       8769.0  9360.0  ...  7781.0  4338.0  3489.0  8619.0  3065.0  8668.0   \n",
            "...        ...     ...  ...     ...     ...     ...     ...     ...     ...   \n",
            "262139  3985.0  8779.0  ...  1394.0  5557.0  1077.0  8692.0  5240.0  7433.0   \n",
            "262140   947.0  2392.0  ...  7489.0  1442.0  4985.0  8202.0  6315.0  7154.0   \n",
            "262141  3363.0  2065.0  ...  3029.0  7981.0  2600.0  1617.0  4294.0  1228.0   \n",
            "262142  6757.0  5728.0  ...  4433.0  4608.0  6925.0  6068.0  8916.0   956.0   \n",
            "262143  5191.0  1666.0  ...  7085.0  7831.0  7876.0  5357.0  4655.0  8336.0   \n",
            "\n",
            "        col252  col253  col254  col255  \n",
            "0       2321.0  2000.0  5026.0  7089.0  \n",
            "1       4353.0   123.0   466.0  4311.0  \n",
            "2       2896.0  4466.0  2499.0  6288.0  \n",
            "3       8747.0  3777.0   492.0  9686.0  \n",
            "4        329.0  6166.0  2657.0   663.0  \n",
            "...        ...     ...     ...     ...  \n",
            "262139  3960.0  6108.0  8118.0  4915.0  \n",
            "262140  3173.0  3920.0  6134.0  2003.0  \n",
            "262141  6255.0  1236.0  8329.0   575.0  \n",
            "262142  9988.0  5227.0  7543.0  9498.0  \n",
            "262143   164.0  8263.0  4611.0  7112.0  \n",
            "\n",
            "[524288 rows x 256 columns]\n",
            "Modin wall time for completion in seconds: 2.256291389465332\n"
          ]
        }
      ],
      "source": [
        "# Concat\n",
        "t9 = time.time()\n",
        "print(pd.concat([modin_df, modin_df], axis=0))\n",
        "modin_time = time.time() - t9\n",
        "print(\"Modin wall time for completion in seconds:\",modin_time)"
      ]
    },
    {
      "cell_type": "code",
      "execution_count": null,
      "metadata": {
        "id": "-N1ztA2Elkjd",
        "colab": {
          "base_uri": "https://localhost:8080/"
        },
        "outputId": "8506a42e-eeaa-4196-eeba-9ad2dc74589d"
      },
      "outputs": [
        {
          "output_type": "stream",
          "name": "stdout",
          "text": [
            "Oops, stock pandas appears to be 2.61X faster than Modin in this case. This is unlikely but could happen sometimes on certain machines/environments/datasets. One of the most probable reasons is the excessive amount of partitions being assigned to a single worker. You may visit Modin's optimization guide in order to learn more about such cases and how to fix them: \n",
            "https://modin.readthedocs.io/en/latest/usage_guide/optimization_notes/index.html\n",
            "\n",
            "But first, verify that you're using the latest Modin version, also, try to use different executions, for basic usage we recommend non-experimental 'PandasOnRay'.\n",
            "Current configuration is:\n",
            "\tExecution: PandasOnRay\n",
            "\tIs experimental: None\n",
            "\tNumber of CPUs to utilize by Modin (check that Modin uses all CPUs on your machine): 2\n",
            "\tIs in debug mode (debug mode may perform slower): None\n",
            "\tModin version: 0.18.0\n"
          ]
        }
      ],
      "source": [
        "verify_and_print_times(pandas_time, modin_time)"
      ]
    },
    {
      "cell_type": "markdown",
      "metadata": {
        "id": "vz1TtU-Xlkjd"
      },
      "source": [
        "## Modin Coverage Examples \n",
        "The Modin package supports a large variety of Pandas functions.\n",
        "Here are some examples:"
      ]
    },
    {
      "cell_type": "markdown",
      "metadata": {
        "id": "WuYGo2p_lkje"
      },
      "source": [
        "### Count"
      ]
    },
    {
      "cell_type": "code",
      "execution_count": null,
      "metadata": {
        "id": "ndKdQ0JHlkje",
        "colab": {
          "base_uri": "https://localhost:8080/"
        },
        "outputId": "d4f2a466-9b29-4538-dee7-8299a89d982e"
      },
      "outputs": [
        {
          "output_type": "execute_result",
          "data": {
            "text/plain": [
              "col0      262144\n",
              "col1      262144\n",
              "col2      262144\n",
              "col3      262144\n",
              "col4      262144\n",
              "           ...  \n",
              "col251    262144\n",
              "col252    262144\n",
              "col253    262144\n",
              "col254    262144\n",
              "col255    262144\n",
              "Length: 256, dtype: int64"
            ]
          },
          "metadata": {},
          "execution_count": 21
        }
      ],
      "source": [
        "modin_df.count()"
      ]
    },
    {
      "cell_type": "markdown",
      "metadata": {
        "id": "QcJnXM5rlkje"
      },
      "source": [
        "### Filter"
      ]
    },
    {
      "cell_type": "code",
      "execution_count": null,
      "metadata": {
        "id": "lJv748wllkje",
        "colab": {
          "base_uri": "https://localhost:8080/",
          "height": 444
        },
        "outputId": "7cdf45ae-8929-493a-f20b-254d7b0c6d11"
      },
      "outputs": [
        {
          "output_type": "execute_result",
          "data": {
            "text/plain": [
              "          col0   col10   col20   col30   col40   col50   col60   col70  \\\n",
              "0       3905.0  6920.0  3575.0  1872.0  2509.0  4394.0  9637.0  2324.0   \n",
              "1       6928.0  8525.0  7138.0  6344.0   509.0  4108.0  4599.0  8392.0   \n",
              "2       1857.0  1494.0  3845.0  9247.0  8701.0  8204.0  1464.0   626.0   \n",
              "3       4963.0  1096.0  4100.0  7392.0  6760.0  3537.0  9456.0   679.0   \n",
              "4       3404.0  3878.0  4036.0   584.0  8553.0  2192.0  5766.0  6269.0   \n",
              "...        ...     ...     ...     ...     ...     ...     ...     ...   \n",
              "262139  1200.0  5714.0  3959.0  8709.0  5861.0  3314.0  8913.0  8418.0   \n",
              "262140  6672.0  6897.0  8803.0  6580.0  1126.0  7851.0  7973.0  4037.0   \n",
              "262141  6959.0  6529.0  3982.0  8883.0   711.0  9201.0  9531.0  8734.0   \n",
              "262142  3594.0  2169.0   185.0  9716.0  8610.0  3811.0  5049.0  8257.0   \n",
              "262143  3205.0  1861.0  4407.0  2215.0  6850.0  4574.0  8437.0  2601.0   \n",
              "\n",
              "         col80   col90  ...  col160  col170  col180  col190  col200  col210  \\\n",
              "0       7330.0  1240.0  ...  1158.0   997.0  1042.0   395.0  4805.0  3723.0   \n",
              "1       8469.0  7886.0  ...  5127.0  8842.0  5642.0  3941.0  4747.0  9619.0   \n",
              "2       7541.0  3333.0  ...  8215.0   565.0  3114.0  8004.0  9024.0  4084.0   \n",
              "3       6672.0  3933.0  ...  1129.0  1978.0  9876.0  7598.0  2876.0  1781.0   \n",
              "4       3061.0  5949.0  ...  9016.0  7266.0  6640.0  4147.0  6924.0  2009.0   \n",
              "...        ...     ...  ...     ...     ...     ...     ...     ...     ...   \n",
              "262139  7498.0  4449.0  ...  9321.0   267.0  9053.0  3522.0  4460.0  6407.0   \n",
              "262140  7698.0  2161.0  ...  3802.0  4953.0  6679.0  3881.0  5115.0  5047.0   \n",
              "262141  1462.0  3367.0  ...  4001.0  2577.0  4531.0  1335.0  4571.0  1409.0   \n",
              "262142  6177.0  6805.0  ...  5873.0  2664.0  5124.0  7079.0  1018.0  6089.0   \n",
              "262143  2716.0  4222.0  ...  4018.0   807.0  9939.0   717.0  9786.0  3418.0   \n",
              "\n",
              "        col220  col230  col240  col250  \n",
              "0       9857.0  7448.0  8086.0  6894.0  \n",
              "1       2538.0  2561.0  9023.0  9039.0  \n",
              "2       2672.0  7934.0   552.0  1265.0  \n",
              "3       2088.0  7302.0  5976.0  4915.0  \n",
              "4       1407.0  2437.0  6021.0  3065.0  \n",
              "...        ...     ...     ...     ...  \n",
              "262139  1142.0  2222.0  3890.0  5240.0  \n",
              "262140  3220.0  6539.0  3705.0  6315.0  \n",
              "262141  4138.0  7947.0  1423.0  4294.0  \n",
              "262142  9842.0  9715.0  2428.0  8916.0  \n",
              "262143  4131.0  3426.0  8029.0  4655.0  \n",
              "\n",
              "[262144 rows x 26 columns]"
            ],
            "text/html": [
              "<div>\n",
              "<style scoped>\n",
              "    .dataframe tbody tr th:only-of-type {\n",
              "        vertical-align: middle;\n",
              "    }\n",
              "\n",
              "    .dataframe tbody tr th {\n",
              "        vertical-align: top;\n",
              "    }\n",
              "\n",
              "    .dataframe thead th {\n",
              "        text-align: right;\n",
              "    }\n",
              "</style>\n",
              "<table border=\"1\" class=\"dataframe\">\n",
              "  <thead>\n",
              "    <tr style=\"text-align: right;\">\n",
              "      <th></th>\n",
              "      <th>col0</th>\n",
              "      <th>col10</th>\n",
              "      <th>col20</th>\n",
              "      <th>col30</th>\n",
              "      <th>col40</th>\n",
              "      <th>col50</th>\n",
              "      <th>col60</th>\n",
              "      <th>col70</th>\n",
              "      <th>col80</th>\n",
              "      <th>col90</th>\n",
              "      <th>...</th>\n",
              "      <th>col160</th>\n",
              "      <th>col170</th>\n",
              "      <th>col180</th>\n",
              "      <th>col190</th>\n",
              "      <th>col200</th>\n",
              "      <th>col210</th>\n",
              "      <th>col220</th>\n",
              "      <th>col230</th>\n",
              "      <th>col240</th>\n",
              "      <th>col250</th>\n",
              "    </tr>\n",
              "  </thead>\n",
              "  <tbody>\n",
              "    <tr>\n",
              "      <th>0</th>\n",
              "      <td>3905.0</td>\n",
              "      <td>6920.0</td>\n",
              "      <td>3575.0</td>\n",
              "      <td>1872.0</td>\n",
              "      <td>2509.0</td>\n",
              "      <td>4394.0</td>\n",
              "      <td>9637.0</td>\n",
              "      <td>2324.0</td>\n",
              "      <td>7330.0</td>\n",
              "      <td>1240.0</td>\n",
              "      <td>...</td>\n",
              "      <td>1158.0</td>\n",
              "      <td>997.0</td>\n",
              "      <td>1042.0</td>\n",
              "      <td>395.0</td>\n",
              "      <td>4805.0</td>\n",
              "      <td>3723.0</td>\n",
              "      <td>9857.0</td>\n",
              "      <td>7448.0</td>\n",
              "      <td>8086.0</td>\n",
              "      <td>6894.0</td>\n",
              "    </tr>\n",
              "    <tr>\n",
              "      <th>1</th>\n",
              "      <td>6928.0</td>\n",
              "      <td>8525.0</td>\n",
              "      <td>7138.0</td>\n",
              "      <td>6344.0</td>\n",
              "      <td>509.0</td>\n",
              "      <td>4108.0</td>\n",
              "      <td>4599.0</td>\n",
              "      <td>8392.0</td>\n",
              "      <td>8469.0</td>\n",
              "      <td>7886.0</td>\n",
              "      <td>...</td>\n",
              "      <td>5127.0</td>\n",
              "      <td>8842.0</td>\n",
              "      <td>5642.0</td>\n",
              "      <td>3941.0</td>\n",
              "      <td>4747.0</td>\n",
              "      <td>9619.0</td>\n",
              "      <td>2538.0</td>\n",
              "      <td>2561.0</td>\n",
              "      <td>9023.0</td>\n",
              "      <td>9039.0</td>\n",
              "    </tr>\n",
              "    <tr>\n",
              "      <th>2</th>\n",
              "      <td>1857.0</td>\n",
              "      <td>1494.0</td>\n",
              "      <td>3845.0</td>\n",
              "      <td>9247.0</td>\n",
              "      <td>8701.0</td>\n",
              "      <td>8204.0</td>\n",
              "      <td>1464.0</td>\n",
              "      <td>626.0</td>\n",
              "      <td>7541.0</td>\n",
              "      <td>3333.0</td>\n",
              "      <td>...</td>\n",
              "      <td>8215.0</td>\n",
              "      <td>565.0</td>\n",
              "      <td>3114.0</td>\n",
              "      <td>8004.0</td>\n",
              "      <td>9024.0</td>\n",
              "      <td>4084.0</td>\n",
              "      <td>2672.0</td>\n",
              "      <td>7934.0</td>\n",
              "      <td>552.0</td>\n",
              "      <td>1265.0</td>\n",
              "    </tr>\n",
              "    <tr>\n",
              "      <th>3</th>\n",
              "      <td>4963.0</td>\n",
              "      <td>1096.0</td>\n",
              "      <td>4100.0</td>\n",
              "      <td>7392.0</td>\n",
              "      <td>6760.0</td>\n",
              "      <td>3537.0</td>\n",
              "      <td>9456.0</td>\n",
              "      <td>679.0</td>\n",
              "      <td>6672.0</td>\n",
              "      <td>3933.0</td>\n",
              "      <td>...</td>\n",
              "      <td>1129.0</td>\n",
              "      <td>1978.0</td>\n",
              "      <td>9876.0</td>\n",
              "      <td>7598.0</td>\n",
              "      <td>2876.0</td>\n",
              "      <td>1781.0</td>\n",
              "      <td>2088.0</td>\n",
              "      <td>7302.0</td>\n",
              "      <td>5976.0</td>\n",
              "      <td>4915.0</td>\n",
              "    </tr>\n",
              "    <tr>\n",
              "      <th>4</th>\n",
              "      <td>3404.0</td>\n",
              "      <td>3878.0</td>\n",
              "      <td>4036.0</td>\n",
              "      <td>584.0</td>\n",
              "      <td>8553.0</td>\n",
              "      <td>2192.0</td>\n",
              "      <td>5766.0</td>\n",
              "      <td>6269.0</td>\n",
              "      <td>3061.0</td>\n",
              "      <td>5949.0</td>\n",
              "      <td>...</td>\n",
              "      <td>9016.0</td>\n",
              "      <td>7266.0</td>\n",
              "      <td>6640.0</td>\n",
              "      <td>4147.0</td>\n",
              "      <td>6924.0</td>\n",
              "      <td>2009.0</td>\n",
              "      <td>1407.0</td>\n",
              "      <td>2437.0</td>\n",
              "      <td>6021.0</td>\n",
              "      <td>3065.0</td>\n",
              "    </tr>\n",
              "    <tr>\n",
              "      <th>...</th>\n",
              "      <td>...</td>\n",
              "      <td>...</td>\n",
              "      <td>...</td>\n",
              "      <td>...</td>\n",
              "      <td>...</td>\n",
              "      <td>...</td>\n",
              "      <td>...</td>\n",
              "      <td>...</td>\n",
              "      <td>...</td>\n",
              "      <td>...</td>\n",
              "      <td>...</td>\n",
              "      <td>...</td>\n",
              "      <td>...</td>\n",
              "      <td>...</td>\n",
              "      <td>...</td>\n",
              "      <td>...</td>\n",
              "      <td>...</td>\n",
              "      <td>...</td>\n",
              "      <td>...</td>\n",
              "      <td>...</td>\n",
              "      <td>...</td>\n",
              "    </tr>\n",
              "    <tr>\n",
              "      <th>262139</th>\n",
              "      <td>1200.0</td>\n",
              "      <td>5714.0</td>\n",
              "      <td>3959.0</td>\n",
              "      <td>8709.0</td>\n",
              "      <td>5861.0</td>\n",
              "      <td>3314.0</td>\n",
              "      <td>8913.0</td>\n",
              "      <td>8418.0</td>\n",
              "      <td>7498.0</td>\n",
              "      <td>4449.0</td>\n",
              "      <td>...</td>\n",
              "      <td>9321.0</td>\n",
              "      <td>267.0</td>\n",
              "      <td>9053.0</td>\n",
              "      <td>3522.0</td>\n",
              "      <td>4460.0</td>\n",
              "      <td>6407.0</td>\n",
              "      <td>1142.0</td>\n",
              "      <td>2222.0</td>\n",
              "      <td>3890.0</td>\n",
              "      <td>5240.0</td>\n",
              "    </tr>\n",
              "    <tr>\n",
              "      <th>262140</th>\n",
              "      <td>6672.0</td>\n",
              "      <td>6897.0</td>\n",
              "      <td>8803.0</td>\n",
              "      <td>6580.0</td>\n",
              "      <td>1126.0</td>\n",
              "      <td>7851.0</td>\n",
              "      <td>7973.0</td>\n",
              "      <td>4037.0</td>\n",
              "      <td>7698.0</td>\n",
              "      <td>2161.0</td>\n",
              "      <td>...</td>\n",
              "      <td>3802.0</td>\n",
              "      <td>4953.0</td>\n",
              "      <td>6679.0</td>\n",
              "      <td>3881.0</td>\n",
              "      <td>5115.0</td>\n",
              "      <td>5047.0</td>\n",
              "      <td>3220.0</td>\n",
              "      <td>6539.0</td>\n",
              "      <td>3705.0</td>\n",
              "      <td>6315.0</td>\n",
              "    </tr>\n",
              "    <tr>\n",
              "      <th>262141</th>\n",
              "      <td>6959.0</td>\n",
              "      <td>6529.0</td>\n",
              "      <td>3982.0</td>\n",
              "      <td>8883.0</td>\n",
              "      <td>711.0</td>\n",
              "      <td>9201.0</td>\n",
              "      <td>9531.0</td>\n",
              "      <td>8734.0</td>\n",
              "      <td>1462.0</td>\n",
              "      <td>3367.0</td>\n",
              "      <td>...</td>\n",
              "      <td>4001.0</td>\n",
              "      <td>2577.0</td>\n",
              "      <td>4531.0</td>\n",
              "      <td>1335.0</td>\n",
              "      <td>4571.0</td>\n",
              "      <td>1409.0</td>\n",
              "      <td>4138.0</td>\n",
              "      <td>7947.0</td>\n",
              "      <td>1423.0</td>\n",
              "      <td>4294.0</td>\n",
              "    </tr>\n",
              "    <tr>\n",
              "      <th>262142</th>\n",
              "      <td>3594.0</td>\n",
              "      <td>2169.0</td>\n",
              "      <td>185.0</td>\n",
              "      <td>9716.0</td>\n",
              "      <td>8610.0</td>\n",
              "      <td>3811.0</td>\n",
              "      <td>5049.0</td>\n",
              "      <td>8257.0</td>\n",
              "      <td>6177.0</td>\n",
              "      <td>6805.0</td>\n",
              "      <td>...</td>\n",
              "      <td>5873.0</td>\n",
              "      <td>2664.0</td>\n",
              "      <td>5124.0</td>\n",
              "      <td>7079.0</td>\n",
              "      <td>1018.0</td>\n",
              "      <td>6089.0</td>\n",
              "      <td>9842.0</td>\n",
              "      <td>9715.0</td>\n",
              "      <td>2428.0</td>\n",
              "      <td>8916.0</td>\n",
              "    </tr>\n",
              "    <tr>\n",
              "      <th>262143</th>\n",
              "      <td>3205.0</td>\n",
              "      <td>1861.0</td>\n",
              "      <td>4407.0</td>\n",
              "      <td>2215.0</td>\n",
              "      <td>6850.0</td>\n",
              "      <td>4574.0</td>\n",
              "      <td>8437.0</td>\n",
              "      <td>2601.0</td>\n",
              "      <td>2716.0</td>\n",
              "      <td>4222.0</td>\n",
              "      <td>...</td>\n",
              "      <td>4018.0</td>\n",
              "      <td>807.0</td>\n",
              "      <td>9939.0</td>\n",
              "      <td>717.0</td>\n",
              "      <td>9786.0</td>\n",
              "      <td>3418.0</td>\n",
              "      <td>4131.0</td>\n",
              "      <td>3426.0</td>\n",
              "      <td>8029.0</td>\n",
              "      <td>4655.0</td>\n",
              "    </tr>\n",
              "  </tbody>\n",
              "</table>\n",
              "<p>262144 rows x 26 columns</p>\n",
              "</div>"
            ]
          },
          "metadata": {},
          "execution_count": 22
        }
      ],
      "source": [
        "modin_df.filter(regex='0$', axis=1)"
      ]
    },
    {
      "cell_type": "markdown",
      "metadata": {
        "id": "OMBsJCbUlkje"
      },
      "source": [
        "### iloc"
      ]
    },
    {
      "cell_type": "code",
      "execution_count": null,
      "metadata": {
        "id": "nPOqmIKdlkje",
        "colab": {
          "base_uri": "https://localhost:8080/"
        },
        "outputId": "664a0a71-4853-4ada-ba15-4795d0c688fc"
      },
      "outputs": [
        {
          "output_type": "execute_result",
          "data": {
            "text/plain": [
              "0         7089.0\n",
              "1         4311.0\n",
              "2         6288.0\n",
              "3         9686.0\n",
              "4          663.0\n",
              "           ...  \n",
              "262139    4915.0\n",
              "262140    2003.0\n",
              "262141     575.0\n",
              "262142    9498.0\n",
              "262143    7112.0\n",
              "Name: col255, Length: 262144, dtype: float64"
            ]
          },
          "metadata": {},
          "execution_count": 23
        }
      ],
      "source": [
        "modin_df.iloc[0]\n",
        "modin_df.iloc[-1]\n",
        "modin_df.iloc[:,0]\n",
        "modin_df.iloc[:,-1]"
      ]
    },
    {
      "cell_type": "markdown",
      "metadata": {
        "id": "ktEEaUa7lkjf"
      },
      "source": [
        "## Series"
      ]
    },
    {
      "cell_type": "code",
      "execution_count": null,
      "metadata": {
        "id": "C4WEqTp1lkjf",
        "colab": {
          "base_uri": "https://localhost:8080/"
        },
        "outputId": "d36b5cb3-fa4a-43a1-fbd3-07540da1f702"
      },
      "outputs": [
        {
          "output_type": "stream",
          "name": "stderr",
          "text": [
            "UserWarning: Distributing <class 'numpy.ndarray'> object. This may take some time.\n"
          ]
        }
      ],
      "source": [
        "s = pd.Series(np.random.randn(5), index=['a', 'b', 'c', 'd', 'e'])"
      ]
    },
    {
      "cell_type": "markdown",
      "metadata": {
        "id": "6kKb4XZklkjf"
      },
      "source": [
        "### DataFrame to NumPy Array"
      ]
    },
    {
      "cell_type": "code",
      "execution_count": null,
      "metadata": {
        "id": "2nQYR9ELlkjf",
        "colab": {
          "base_uri": "https://localhost:8080/"
        },
        "outputId": "843f3f8e-4e06-4444-e865-d7e9373666aa"
      },
      "outputs": [
        {
          "output_type": "execute_result",
          "data": {
            "text/plain": [
              "array([[3905., 5729., 8544., ..., 2000., 5026., 7089.],\n",
              "       [6928., 7636., 5818., ...,  123.,  466., 4311.],\n",
              "       [1857., 5619., 3362., ..., 4466., 2499., 6288.],\n",
              "       ...,\n",
              "       [6959., 3207., 7003., ..., 1236., 8329.,  575.],\n",
              "       [3594., 8906.,  767., ..., 5227., 7543., 9498.],\n",
              "       [3205., 2929., 6940., ..., 8263., 4611., 7112.]])"
            ]
          },
          "metadata": {},
          "execution_count": 25
        }
      ],
      "source": [
        "modin_df.to_numpy()"
      ]
    },
    {
      "cell_type": "markdown",
      "metadata": {
        "id": "ALwYCSoClkjf"
      },
      "source": [
        "### Series to NumPy Array"
      ]
    },
    {
      "cell_type": "code",
      "execution_count": null,
      "metadata": {
        "id": "HGK_KFtulkjf",
        "colab": {
          "base_uri": "https://localhost:8080/"
        },
        "outputId": "52c075c9-37ef-4d3c-b0c7-f893061bca67"
      },
      "outputs": [
        {
          "output_type": "stream",
          "name": "stderr",
          "text": [
            "UserWarning: Distributing <class 'pandas.core.indexes.datetimes.DatetimeIndex'> object. This may take some time.\n"
          ]
        },
        {
          "output_type": "execute_result",
          "data": {
            "text/plain": [
              "array([Timestamp('2000-01-01 00:00:00+0100', tz='CET'),\n",
              "       Timestamp('2000-01-02 00:00:00+0100', tz='CET')], dtype=object)"
            ]
          },
          "metadata": {},
          "execution_count": 26
        }
      ],
      "source": [
        "ser = pd.Series(pd.date_range('2000', periods=2, tz=\"CET\"))\n",
        "ser.to_numpy(dtype=object)\n",
        "ser.to_numpy(dtype=\"datetime64[ns]\")"
      ]
    },
    {
      "cell_type": "markdown",
      "metadata": {
        "id": "0uO9ASsBlkjf"
      },
      "source": [
        "### Set Options"
      ]
    },
    {
      "cell_type": "code",
      "execution_count": null,
      "metadata": {
        "id": "8p6Daft_lkjf"
      },
      "outputs": [],
      "source": [
        "pd.set_option('compute.use_bottleneck', False)\n",
        "pd.set_option('compute.use_numexpr', False)"
      ]
    },
    {
      "cell_type": "markdown",
      "metadata": {
        "id": "vRVYZWzRlkjf"
      },
      "source": [
        "### Unique Function for Series"
      ]
    },
    {
      "cell_type": "code",
      "execution_count": null,
      "metadata": {
        "id": "9FbvhY47lkjf",
        "colab": {
          "base_uri": "https://localhost:8080/"
        },
        "outputId": "43d9b867-d27e-4867-aed2-a17ba2650823"
      },
      "outputs": [
        {
          "output_type": "stream",
          "name": "stderr",
          "text": [
            "UserWarning: Distributing <class 'list'> object. This may take some time.\n"
          ]
        },
        {
          "output_type": "execute_result",
          "data": {
            "text/plain": [
              "array([2, 1, 3])"
            ]
          },
          "metadata": {},
          "execution_count": 28
        }
      ],
      "source": [
        "pd.unique(pd.Series([2, 1, 3, 3]))"
      ]
    },
    {
      "cell_type": "code",
      "execution_count": null,
      "metadata": {
        "id": "vNrpEpQvlkjf",
        "colab": {
          "base_uri": "https://localhost:8080/"
        },
        "outputId": "f5f7bce5-ea10-4d27-8c44-15f5b6063164"
      },
      "outputs": [
        {
          "output_type": "stream",
          "name": "stdout",
          "text": [
            "[CODE_SAMPLE_COMPLETED_SUCCESFULLY]\n"
          ]
        }
      ],
      "source": [
        "print(\"[CODE_SAMPLE_COMPLETED_SUCCESFULLY]\")"
      ]
    }
  ],
  "metadata": {
    "kernelspec": {
      "display_name": "Python 3",
      "language": "python",
      "name": "python3"
    },
    "language_info": {
      "codemirror_mode": {
        "name": "ipython",
        "version": 3
      },
      "file_extension": ".py",
      "mimetype": "text/x-python",
      "name": "python",
      "nbconvert_exporter": "python",
      "pygments_lexer": "ipython3",
      "version": "3.7.9"
    },
    "colab": {
      "provenance": [],
      "include_colab_link": true
    }
  },
  "nbformat": 4,
  "nbformat_minor": 0
}