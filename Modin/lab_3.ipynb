{
  "cells": [
    {
      "cell_type": "markdown",
      "metadata": {
        "id": "view-in-github",
        "colab_type": "text"
      },
      "source": [
        "<a href=\"https://colab.research.google.com/github/drshahizan/Python_Tutorial/blob/main/big%20data/modin/lab_3.ipynb\" target=\"_parent\"><img src=\"https://colab.research.google.com/assets/colab-badge.svg\" alt=\"Open In Colab\"/></a>"
      ]
    },
    {
      "cell_type": "markdown",
      "metadata": {
        "id": "Tq-fCWa9J_Ge"
      },
      "source": [
        "![LOGO](https://github.com/modin-project/modin/blob/master/examples/tutorial/jupyter/img/MODIN_ver2_hrz.png?raw=True)\n",
        "\n",
        "<center><h2>Scale your pandas workflows by changing one line of code</h2>\n"
      ]
    },
    {
      "cell_type": "markdown",
      "metadata": {
        "id": "k6-6rX60J_Gi"
      },
      "source": [
        "# Lab 3: Not Implemented\n",
        "\n",
        "**GOAL**: Learn what happens when a function is not yet supported in Modin as well as how to extend Modin's functionality using the DataFrame Algebra."
      ]
    },
    {
      "cell_type": "markdown",
      "metadata": {
        "id": "4kGtwRatJ_Gj"
      },
      "source": [
        "When functionality has not yet been implemented, we default to pandas\n",
        "\n",
        "![](https://raw.githubusercontent.com/modin-project/modin/ff477202978de7649b40559469e18338763d4efc/examples/tutorial/jupyter/img/convert_to_pandas.png)\n",
        "\n",
        "We convert a Modin dataframe to pandas to do the operation, then convert it back once it is finished. These operations will have a high overhead due to the communication involved and will take longer than pandas.\n",
        "\n",
        "When this is happening, a warning will be given to the user to inform them that this operation will take longer than usual. For example, `DataFrame.mask` is not yet implemented. In this case, when a user tries to use it, they will see this warning:\n",
        "\n",
        "```\n",
        "UserWarning: `DataFrame.mask` defaulting to pandas implementation.\n",
        "```"
      ]
    },
    {
      "cell_type": "markdown",
      "metadata": {
        "id": "7N_3h4BlJ_Gk"
      },
      "source": [
        "## Concept for exercise: Default to pandas\n",
        "\n",
        "In this section of the exercise we will see first-hand how the runtime is affected by operations that are not implemented."
      ]
    },
    {
      "cell_type": "code",
      "source": [
        "!pip install modin[all] "
      ],
      "metadata": {
        "colab": {
          "base_uri": "https://localhost:8080/",
          "height": 1000
        },
        "id": "l8CgB5JMKnCm",
        "outputId": "3e5c4d2c-40b3-47d3-f08e-24e01362659d"
      },
      "execution_count": null,
      "outputs": [
        {
          "output_type": "stream",
          "name": "stdout",
          "text": [
            "Looking in indexes: https://pypi.org/simple, https://us-python.pkg.dev/colab-wheels/public/simple/\n",
            "Collecting modin[all]\n",
            "  Downloading modin-0.18.0-py3-none-any.whl (970 kB)\n",
            "\u001b[K     |████████████████████████████████| 970 kB 4.7 MB/s \n",
            "\u001b[?25hRequirement already satisfied: psutil in /usr/local/lib/python3.8/dist-packages (from modin[all]) (5.4.8)\n",
            "Requirement already satisfied: fsspec in /usr/local/lib/python3.8/dist-packages (from modin[all]) (2022.11.0)\n",
            "Requirement already satisfied: packaging in /usr/local/lib/python3.8/dist-packages (from modin[all]) (21.3)\n",
            "Collecting pandas==1.5.2\n",
            "  Downloading pandas-1.5.2-cp38-cp38-manylinux_2_17_x86_64.manylinux2014_x86_64.whl (12.2 MB)\n",
            "\u001b[K     |████████████████████████████████| 12.2 MB 41.7 MB/s \n",
            "\u001b[?25hRequirement already satisfied: numpy>=1.18.5 in /usr/local/lib/python3.8/dist-packages (from modin[all]) (1.21.6)\n",
            "Requirement already satisfied: dask>=2.22.0 in /usr/local/lib/python3.8/dist-packages (from modin[all]) (2022.2.1)\n",
            "Collecting ray[default]>=1.13.0\n",
            "  Downloading ray-2.2.0-cp38-cp38-manylinux2014_x86_64.whl (57.4 MB)\n",
            "\u001b[K     |████████████████████████████████| 57.4 MB 1.4 MB/s \n",
            "\u001b[?25hRequirement already satisfied: distributed>=2.22.0 in /usr/local/lib/python3.8/dist-packages (from modin[all]) (2022.2.1)\n",
            "Requirement already satisfied: pyarrow in /usr/local/lib/python3.8/dist-packages (from modin[all]) (9.0.0)\n",
            "Collecting boto3\n",
            "  Downloading boto3-1.26.34-py3-none-any.whl (132 kB)\n",
            "\u001b[K     |████████████████████████████████| 132 kB 5.8 MB/s \n",
            "\u001b[?25hCollecting modin-spreadsheet>=0.1.0\n",
            "  Downloading modin_spreadsheet-0.1.2-py2.py3-none-any.whl (1.8 MB)\n",
            "\u001b[K     |████████████████████████████████| 1.8 MB 52.1 MB/s \n",
            "\u001b[?25hCollecting rpyc==4.1.5\n",
            "  Downloading rpyc-4.1.5-py3-none-any.whl (68 kB)\n",
            "\u001b[K     |████████████████████████████████| 68 kB 6.6 MB/s \n",
            "\u001b[?25hRequirement already satisfied: cloudpickle in /usr/local/lib/python3.8/dist-packages (from modin[all]) (1.5.0)\n",
            "Collecting unidist[mpi]>=0.2.1\n",
            "  Downloading unidist-0.2.1-py3-none-any.whl (102 kB)\n",
            "\u001b[K     |████████████████████████████████| 102 kB 73.0 MB/s \n",
            "\u001b[?25hRequirement already satisfied: python-dateutil>=2.8.1 in /usr/local/lib/python3.8/dist-packages (from pandas==1.5.2->modin[all]) (2.8.2)\n",
            "Requirement already satisfied: pytz>=2020.1 in /usr/local/lib/python3.8/dist-packages (from pandas==1.5.2->modin[all]) (2022.6)\n",
            "Collecting plumbum\n",
            "  Downloading plumbum-1.8.0-py3-none-any.whl (117 kB)\n",
            "\u001b[K     |████████████████████████████████| 117 kB 66.3 MB/s \n",
            "\u001b[?25hRequirement already satisfied: pyyaml>=5.3.1 in /usr/local/lib/python3.8/dist-packages (from dask>=2.22.0->modin[all]) (6.0)\n",
            "Requirement already satisfied: toolz>=0.8.2 in /usr/local/lib/python3.8/dist-packages (from dask>=2.22.0->modin[all]) (0.12.0)\n",
            "Requirement already satisfied: partd>=0.3.10 in /usr/local/lib/python3.8/dist-packages (from dask>=2.22.0->modin[all]) (1.3.0)\n",
            "Requirement already satisfied: msgpack>=0.6.0 in /usr/local/lib/python3.8/dist-packages (from distributed>=2.22.0->modin[all]) (1.0.4)\n",
            "Requirement already satisfied: jinja2 in /usr/local/lib/python3.8/dist-packages (from distributed>=2.22.0->modin[all]) (2.11.3)\n",
            "Requirement already satisfied: sortedcontainers!=2.0.0,!=2.0.1 in /usr/local/lib/python3.8/dist-packages (from distributed>=2.22.0->modin[all]) (2.4.0)\n",
            "Requirement already satisfied: setuptools in /usr/local/lib/python3.8/dist-packages (from distributed>=2.22.0->modin[all]) (57.4.0)\n",
            "Requirement already satisfied: tornado>=6.0.3 in /usr/local/lib/python3.8/dist-packages (from distributed>=2.22.0->modin[all]) (6.0.4)\n",
            "Requirement already satisfied: click>=6.6 in /usr/local/lib/python3.8/dist-packages (from distributed>=2.22.0->modin[all]) (7.1.2)\n",
            "Requirement already satisfied: tblib>=1.6.0 in /usr/local/lib/python3.8/dist-packages (from distributed>=2.22.0->modin[all]) (1.7.0)\n",
            "Requirement already satisfied: zict>=0.1.3 in /usr/local/lib/python3.8/dist-packages (from distributed>=2.22.0->modin[all]) (2.2.0)\n",
            "Collecting notebook>=6.0.3\n",
            "  Downloading notebook-6.5.2-py3-none-any.whl (439 kB)\n",
            "\u001b[K     |████████████████████████████████| 439 kB 12.2 MB/s \n",
            "\u001b[?25hRequirement already satisfied: ipywidgets>=7.0.0 in /usr/local/lib/python3.8/dist-packages (from modin-spreadsheet>=0.1.0->modin[all]) (7.7.1)\n",
            "Collecting jupyter>=1.0.0\n",
            "  Downloading jupyter-1.0.0-py2.py3-none-any.whl (2.7 kB)\n",
            "Requirement already satisfied: ipykernel>=4.5.1 in /usr/local/lib/python3.8/dist-packages (from ipywidgets>=7.0.0->modin-spreadsheet>=0.1.0->modin[all]) (5.3.4)\n",
            "Requirement already satisfied: widgetsnbextension~=3.6.0 in /usr/local/lib/python3.8/dist-packages (from ipywidgets>=7.0.0->modin-spreadsheet>=0.1.0->modin[all]) (3.6.1)\n",
            "Requirement already satisfied: ipython>=4.0.0 in /usr/local/lib/python3.8/dist-packages (from ipywidgets>=7.0.0->modin-spreadsheet>=0.1.0->modin[all]) (7.9.0)\n",
            "Requirement already satisfied: traitlets>=4.3.1 in /usr/local/lib/python3.8/dist-packages (from ipywidgets>=7.0.0->modin-spreadsheet>=0.1.0->modin[all]) (5.7.1)\n",
            "Requirement already satisfied: ipython-genutils~=0.2.0 in /usr/local/lib/python3.8/dist-packages (from ipywidgets>=7.0.0->modin-spreadsheet>=0.1.0->modin[all]) (0.2.0)\n",
            "Requirement already satisfied: jupyterlab-widgets>=1.0.0 in /usr/local/lib/python3.8/dist-packages (from ipywidgets>=7.0.0->modin-spreadsheet>=0.1.0->modin[all]) (3.0.4)\n",
            "Requirement already satisfied: jupyter-client in /usr/local/lib/python3.8/dist-packages (from ipykernel>=4.5.1->ipywidgets>=7.0.0->modin-spreadsheet>=0.1.0->modin[all]) (6.1.12)\n",
            "Collecting jedi>=0.10\n",
            "  Downloading jedi-0.18.2-py2.py3-none-any.whl (1.6 MB)\n",
            "\u001b[K     |████████████████████████████████| 1.6 MB 45.8 MB/s \n",
            "\u001b[?25hRequirement already satisfied: pickleshare in /usr/local/lib/python3.8/dist-packages (from ipython>=4.0.0->ipywidgets>=7.0.0->modin-spreadsheet>=0.1.0->modin[all]) (0.7.5)\n",
            "Requirement already satisfied: pexpect in /usr/local/lib/python3.8/dist-packages (from ipython>=4.0.0->ipywidgets>=7.0.0->modin-spreadsheet>=0.1.0->modin[all]) (4.8.0)\n",
            "Requirement already satisfied: pygments in /usr/local/lib/python3.8/dist-packages (from ipython>=4.0.0->ipywidgets>=7.0.0->modin-spreadsheet>=0.1.0->modin[all]) (2.6.1)\n",
            "Requirement already satisfied: backcall in /usr/local/lib/python3.8/dist-packages (from ipython>=4.0.0->ipywidgets>=7.0.0->modin-spreadsheet>=0.1.0->modin[all]) (0.2.0)\n",
            "Requirement already satisfied: prompt-toolkit<2.1.0,>=2.0.0 in /usr/local/lib/python3.8/dist-packages (from ipython>=4.0.0->ipywidgets>=7.0.0->modin-spreadsheet>=0.1.0->modin[all]) (2.0.10)\n",
            "Requirement already satisfied: decorator in /usr/local/lib/python3.8/dist-packages (from ipython>=4.0.0->ipywidgets>=7.0.0->modin-spreadsheet>=0.1.0->modin[all]) (4.4.2)\n",
            "Requirement already satisfied: parso<0.9.0,>=0.8.0 in /usr/local/lib/python3.8/dist-packages (from jedi>=0.10->ipython>=4.0.0->ipywidgets>=7.0.0->modin-spreadsheet>=0.1.0->modin[all]) (0.8.3)\n",
            "Collecting qtconsole\n",
            "  Downloading qtconsole-5.4.0-py3-none-any.whl (121 kB)\n",
            "\u001b[K     |████████████████████████████████| 121 kB 48.8 MB/s \n",
            "\u001b[?25hRequirement already satisfied: jupyter-console in /usr/local/lib/python3.8/dist-packages (from jupyter>=1.0.0->modin-spreadsheet>=0.1.0->modin[all]) (6.1.0)\n",
            "Requirement already satisfied: nbconvert in /usr/local/lib/python3.8/dist-packages (from jupyter>=1.0.0->modin-spreadsheet>=0.1.0->modin[all]) (5.6.1)\n",
            "Requirement already satisfied: terminado>=0.8.3 in /usr/local/lib/python3.8/dist-packages (from notebook>=6.0.3->modin-spreadsheet>=0.1.0->modin[all]) (0.13.3)\n",
            "Requirement already satisfied: prometheus-client in /usr/local/lib/python3.8/dist-packages (from notebook>=6.0.3->modin-spreadsheet>=0.1.0->modin[all]) (0.15.0)\n",
            "Requirement already satisfied: Send2Trash>=1.8.0 in /usr/local/lib/python3.8/dist-packages (from notebook>=6.0.3->modin-spreadsheet>=0.1.0->modin[all]) (1.8.0)\n",
            "Collecting tornado>=6.0.3\n",
            "  Downloading tornado-6.2-cp37-abi3-manylinux_2_5_x86_64.manylinux1_x86_64.manylinux_2_17_x86_64.manylinux2014_x86_64.whl (423 kB)\n",
            "\u001b[K     |████████████████████████████████| 423 kB 33.6 MB/s \n",
            "\u001b[?25hCollecting nest-asyncio>=1.5\n",
            "  Downloading nest_asyncio-1.5.6-py3-none-any.whl (5.2 kB)\n",
            "Collecting nbclassic>=0.4.7\n",
            "  Downloading nbclassic-0.4.8-py3-none-any.whl (9.8 MB)\n",
            "\u001b[K     |████████████████████████████████| 9.8 MB 41.7 MB/s \n",
            "\u001b[?25hRequirement already satisfied: jupyter-core>=4.6.1 in /usr/local/lib/python3.8/dist-packages (from notebook>=6.0.3->modin-spreadsheet>=0.1.0->modin[all]) (5.1.0)\n",
            "Requirement already satisfied: nbformat in /usr/local/lib/python3.8/dist-packages (from notebook>=6.0.3->modin-spreadsheet>=0.1.0->modin[all]) (5.7.0)\n",
            "Requirement already satisfied: pyzmq>=17 in /usr/local/lib/python3.8/dist-packages (from notebook>=6.0.3->modin-spreadsheet>=0.1.0->modin[all]) (23.2.1)\n",
            "Collecting argon2-cffi\n",
            "  Downloading argon2_cffi-21.3.0-py3-none-any.whl (14 kB)\n",
            "Requirement already satisfied: platformdirs>=2.5 in /usr/local/lib/python3.8/dist-packages (from jupyter-core>=4.6.1->notebook>=6.0.3->modin-spreadsheet>=0.1.0->modin[all]) (2.6.0)\n",
            "Collecting jupyter-server>=1.8\n",
            "  Downloading jupyter_server-2.0.2-py3-none-any.whl (360 kB)\n",
            "\u001b[K     |████████████████████████████████| 360 kB 87.6 MB/s \n",
            "\u001b[?25hCollecting notebook-shim>=0.1.0\n",
            "  Downloading notebook_shim-0.2.2-py3-none-any.whl (13 kB)\n",
            "Collecting jupyter-client\n",
            "  Downloading jupyter_client-7.4.8-py3-none-any.whl (133 kB)\n",
            "\u001b[K     |████████████████████████████████| 133 kB 77.1 MB/s \n",
            "\u001b[?25hCollecting anyio<4,>=3.1.0\n",
            "  Downloading anyio-3.6.2-py3-none-any.whl (80 kB)\n",
            "\u001b[K     |████████████████████████████████| 80 kB 9.1 MB/s \n",
            "\u001b[?25hCollecting websocket-client\n",
            "  Downloading websocket_client-1.4.2-py3-none-any.whl (55 kB)\n",
            "\u001b[K     |████████████████████████████████| 55 kB 3.5 MB/s \n",
            "\u001b[?25hCollecting jupyter-server-terminals\n",
            "  Downloading jupyter_server_terminals-0.4.3-py3-none-any.whl (13 kB)\n",
            "Collecting pyzmq>=17\n",
            "  Downloading pyzmq-24.0.1-cp38-cp38-manylinux_2_12_x86_64.manylinux2010_x86_64.whl (1.1 MB)\n",
            "\u001b[K     |████████████████████████████████| 1.1 MB 74.6 MB/s \n",
            "\u001b[?25hCollecting jupyter-events>=0.4.0\n",
            "  Downloading jupyter_events-0.5.0-py3-none-any.whl (17 kB)\n",
            "Collecting nbconvert\n",
            "  Downloading nbconvert-7.2.7-py3-none-any.whl (273 kB)\n",
            "\u001b[K     |████████████████████████████████| 273 kB 65.1 MB/s \n",
            "\u001b[?25hCollecting sniffio>=1.1\n",
            "  Downloading sniffio-1.3.0-py3-none-any.whl (10 kB)\n",
            "Requirement already satisfied: idna>=2.8 in /usr/local/lib/python3.8/dist-packages (from anyio<4,>=3.1.0->jupyter-server>=1.8->nbclassic>=0.4.7->notebook>=6.0.3->modin-spreadsheet>=0.1.0->modin[all]) (2.10)\n",
            "Requirement already satisfied: entrypoints in /usr/local/lib/python3.8/dist-packages (from jupyter-client->ipykernel>=4.5.1->ipywidgets>=7.0.0->modin-spreadsheet>=0.1.0->modin[all]) (0.4)\n",
            "Requirement already satisfied: jsonschema[format-nongpl]>=4.3.0 in /usr/local/lib/python3.8/dist-packages (from jupyter-events>=0.4.0->jupyter-server>=1.8->nbclassic>=0.4.7->notebook>=6.0.3->modin-spreadsheet>=0.1.0->modin[all]) (4.3.3)\n",
            "Collecting python-json-logger\n",
            "  Downloading python_json_logger-2.0.4-py3-none-any.whl (7.8 kB)\n",
            "\u001b[33mWARNING: jsonschema 4.3.3 does not provide the extra 'format-nongpl'\u001b[0m\n",
            "Requirement already satisfied: pyrsistent!=0.17.0,!=0.17.1,!=0.17.2,>=0.14.0 in /usr/local/lib/python3.8/dist-packages (from jsonschema[format-nongpl]>=4.3.0->jupyter-events>=0.4.0->jupyter-server>=1.8->nbclassic>=0.4.7->notebook>=6.0.3->modin-spreadsheet>=0.1.0->modin[all]) (0.19.2)\n",
            "Requirement already satisfied: attrs>=17.4.0 in /usr/local/lib/python3.8/dist-packages (from jsonschema[format-nongpl]>=4.3.0->jupyter-events>=0.4.0->jupyter-server>=1.8->nbclassic>=0.4.7->notebook>=6.0.3->modin-spreadsheet>=0.1.0->modin[all]) (22.1.0)\n",
            "Requirement already satisfied: importlib-resources>=1.4.0 in /usr/local/lib/python3.8/dist-packages (from jsonschema[format-nongpl]>=4.3.0->jupyter-events>=0.4.0->jupyter-server>=1.8->nbclassic>=0.4.7->notebook>=6.0.3->modin-spreadsheet>=0.1.0->modin[all]) (5.10.1)\n",
            "Requirement already satisfied: zipp>=3.1.0 in /usr/local/lib/python3.8/dist-packages (from importlib-resources>=1.4.0->jsonschema[format-nongpl]>=4.3.0->jupyter-events>=0.4.0->jupyter-server>=1.8->nbclassic>=0.4.7->notebook>=6.0.3->modin-spreadsheet>=0.1.0->modin[all]) (3.11.0)\n",
            "Requirement already satisfied: markupsafe>=2.0 in /usr/local/lib/python3.8/dist-packages (from nbconvert->jupyter>=1.0.0->modin-spreadsheet>=0.1.0->modin[all]) (2.0.1)\n",
            "Requirement already satisfied: importlib-metadata>=3.6 in /usr/local/lib/python3.8/dist-packages (from nbconvert->jupyter>=1.0.0->modin-spreadsheet>=0.1.0->modin[all]) (5.1.0)\n",
            "Requirement already satisfied: pandocfilters>=1.4.1 in /usr/local/lib/python3.8/dist-packages (from nbconvert->jupyter>=1.0.0->modin-spreadsheet>=0.1.0->modin[all]) (1.5.0)\n",
            "Collecting jinja2\n",
            "  Downloading Jinja2-3.1.2-py3-none-any.whl (133 kB)\n",
            "\u001b[K     |████████████████████████████████| 133 kB 67.6 MB/s \n",
            "\u001b[?25hRequirement already satisfied: defusedxml in /usr/local/lib/python3.8/dist-packages (from nbconvert->jupyter>=1.0.0->modin-spreadsheet>=0.1.0->modin[all]) (0.7.1)\n",
            "Collecting jupyterlab-pygments\n",
            "  Downloading jupyterlab_pygments-0.2.2-py2.py3-none-any.whl (21 kB)\n",
            "Collecting mistune<3,>=2.0.3\n",
            "  Downloading mistune-2.0.4-py2.py3-none-any.whl (24 kB)\n",
            "Collecting nbclient>=0.5.0\n",
            "  Downloading nbclient-0.7.2-py3-none-any.whl (71 kB)\n",
            "\u001b[K     |████████████████████████████████| 71 kB 304 kB/s \n",
            "\u001b[?25hRequirement already satisfied: bleach in /usr/local/lib/python3.8/dist-packages (from nbconvert->jupyter>=1.0.0->modin-spreadsheet>=0.1.0->modin[all]) (5.0.1)\n",
            "Collecting tinycss2\n",
            "  Downloading tinycss2-1.2.1-py3-none-any.whl (21 kB)\n",
            "Requirement already satisfied: beautifulsoup4 in /usr/local/lib/python3.8/dist-packages (from nbconvert->jupyter>=1.0.0->modin-spreadsheet>=0.1.0->modin[all]) (4.6.3)\n",
            "Requirement already satisfied: fastjsonschema in /usr/local/lib/python3.8/dist-packages (from nbformat->notebook>=6.0.3->modin-spreadsheet>=0.1.0->modin[all]) (2.16.2)\n",
            "Requirement already satisfied: pyparsing!=3.0.5,>=2.0.2 in /usr/local/lib/python3.8/dist-packages (from packaging->modin[all]) (3.0.9)\n",
            "Requirement already satisfied: locket in /usr/local/lib/python3.8/dist-packages (from partd>=0.3.10->dask>=2.22.0->modin[all]) (1.0.0)\n",
            "Requirement already satisfied: six>=1.9.0 in /usr/local/lib/python3.8/dist-packages (from prompt-toolkit<2.1.0,>=2.0.0->ipython>=4.0.0->ipywidgets>=7.0.0->modin-spreadsheet>=0.1.0->modin[all]) (1.15.0)\n",
            "Requirement already satisfied: wcwidth in /usr/local/lib/python3.8/dist-packages (from prompt-toolkit<2.1.0,>=2.0.0->ipython>=4.0.0->ipywidgets>=7.0.0->modin-spreadsheet>=0.1.0->modin[all]) (0.2.5)\n",
            "Requirement already satisfied: protobuf!=3.19.5,>=3.15.3 in /usr/local/lib/python3.8/dist-packages (from ray[default]>=1.13.0->modin[all]) (3.19.6)\n",
            "Requirement already satisfied: requests in /usr/local/lib/python3.8/dist-packages (from ray[default]>=1.13.0->modin[all]) (2.23.0)\n",
            "Requirement already satisfied: grpcio>=1.32.0 in /usr/local/lib/python3.8/dist-packages (from ray[default]>=1.13.0->modin[all]) (1.51.1)\n",
            "Collecting virtualenv>=20.0.24\n",
            "  Downloading virtualenv-20.17.1-py3-none-any.whl (8.8 MB)\n",
            "\u001b[K     |████████████████████████████████| 8.8 MB 46.8 MB/s \n",
            "\u001b[?25hRequirement already satisfied: filelock in /usr/local/lib/python3.8/dist-packages (from ray[default]>=1.13.0->modin[all]) (3.8.2)\n",
            "Requirement already satisfied: frozenlist in /usr/local/lib/python3.8/dist-packages (from ray[default]>=1.13.0->modin[all]) (1.3.3)\n",
            "Requirement already satisfied: aiosignal in /usr/local/lib/python3.8/dist-packages (from ray[default]>=1.13.0->modin[all]) (1.3.1)\n",
            "Collecting aiohttp-cors\n",
            "  Downloading aiohttp_cors-0.7.0-py3-none-any.whl (27 kB)\n",
            "Collecting gpustat>=1.0.0\n",
            "  Downloading gpustat-1.0.0.tar.gz (90 kB)\n",
            "\u001b[K     |████████████████████████████████| 90 kB 9.8 MB/s \n",
            "\u001b[?25hCollecting py-spy>=0.2.0\n",
            "  Downloading py_spy-0.3.14-py2.py3-none-manylinux_2_5_x86_64.manylinux1_x86_64.whl (3.0 MB)\n",
            "\u001b[K     |████████████████████████████████| 3.0 MB 68.1 MB/s \n",
            "\u001b[?25hRequirement already satisfied: pydantic in /usr/local/lib/python3.8/dist-packages (from ray[default]>=1.13.0->modin[all]) (1.10.2)\n",
            "Collecting prometheus-client\n",
            "  Downloading prometheus_client-0.13.1-py3-none-any.whl (57 kB)\n",
            "\u001b[K     |████████████████████████████████| 57 kB 5.6 MB/s \n",
            "\u001b[?25hCollecting colorful\n",
            "  Downloading colorful-0.5.5-py2.py3-none-any.whl (201 kB)\n",
            "\u001b[K     |████████████████████████████████| 201 kB 72.8 MB/s \n",
            "\u001b[?25hRequirement already satisfied: aiohttp>=3.7 in /usr/local/lib/python3.8/dist-packages (from ray[default]>=1.13.0->modin[all]) (3.8.3)\n",
            "Collecting opencensus\n",
            "  Downloading opencensus-0.11.0-py2.py3-none-any.whl (128 kB)\n",
            "\u001b[K     |████████████████████████████████| 128 kB 75.1 MB/s \n",
            "\u001b[?25hRequirement already satisfied: smart-open in /usr/local/lib/python3.8/dist-packages (from ray[default]>=1.13.0->modin[all]) (6.3.0)\n",
            "Requirement already satisfied: multidict<7.0,>=4.5 in /usr/local/lib/python3.8/dist-packages (from aiohttp>=3.7->ray[default]>=1.13.0->modin[all]) (6.0.3)\n",
            "Requirement already satisfied: yarl<2.0,>=1.0 in /usr/local/lib/python3.8/dist-packages (from aiohttp>=3.7->ray[default]>=1.13.0->modin[all]) (1.8.2)\n",
            "Requirement already satisfied: async-timeout<5.0,>=4.0.0a3 in /usr/local/lib/python3.8/dist-packages (from aiohttp>=3.7->ray[default]>=1.13.0->modin[all]) (4.0.2)\n",
            "Requirement already satisfied: charset-normalizer<3.0,>=2.0 in /usr/local/lib/python3.8/dist-packages (from aiohttp>=3.7->ray[default]>=1.13.0->modin[all]) (2.1.1)\n",
            "Collecting nvidia-ml-py<=11.495.46,>=11.450.129\n",
            "  Downloading nvidia_ml_py-11.495.46-py3-none-any.whl (25 kB)\n",
            "Collecting psutil\n",
            "  Downloading psutil-5.9.4-cp36-abi3-manylinux_2_12_x86_64.manylinux2010_x86_64.manylinux_2_17_x86_64.manylinux2014_x86_64.whl (280 kB)\n",
            "\u001b[K     |████████████████████████████████| 280 kB 61.8 MB/s \n",
            "\u001b[?25hCollecting blessed>=1.17.1\n",
            "  Downloading blessed-1.19.1-py2.py3-none-any.whl (58 kB)\n",
            "\u001b[K     |████████████████████████████████| 58 kB 6.8 MB/s \n",
            "\u001b[?25hRequirement already satisfied: ptyprocess in /usr/local/lib/python3.8/dist-packages (from terminado>=0.8.3->notebook>=6.0.3->modin-spreadsheet>=0.1.0->modin[all]) (0.7.0)\n",
            "Collecting mpi4py-mpich\n",
            "  Downloading mpi4py_mpich-3.1.2-cp38-cp38-manylinux_2_17_x86_64.manylinux2014_x86_64.whl (6.5 MB)\n",
            "\u001b[K     |████████████████████████████████| 6.5 MB 78.2 MB/s \n",
            "\u001b[?25hCollecting distlib<1,>=0.3.6\n",
            "  Downloading distlib-0.3.6-py2.py3-none-any.whl (468 kB)\n",
            "\u001b[K     |████████████████████████████████| 468 kB 66.1 MB/s \n",
            "\u001b[?25hRequirement already satisfied: heapdict in /usr/local/lib/python3.8/dist-packages (from zict>=0.1.3->distributed>=2.22.0->modin[all]) (1.0.1)\n",
            "Collecting argon2-cffi-bindings\n",
            "  Downloading argon2_cffi_bindings-21.2.0-cp36-abi3-manylinux_2_17_x86_64.manylinux2014_x86_64.whl (86 kB)\n",
            "\u001b[K     |████████████████████████████████| 86 kB 5.7 MB/s \n",
            "\u001b[?25hRequirement already satisfied: cffi>=1.0.1 in /usr/local/lib/python3.8/dist-packages (from argon2-cffi-bindings->argon2-cffi->notebook>=6.0.3->modin-spreadsheet>=0.1.0->modin[all]) (1.15.1)\n",
            "Requirement already satisfied: pycparser in /usr/local/lib/python3.8/dist-packages (from cffi>=1.0.1->argon2-cffi-bindings->argon2-cffi->notebook>=6.0.3->modin-spreadsheet>=0.1.0->modin[all]) (2.21)\n",
            "Requirement already satisfied: webencodings in /usr/local/lib/python3.8/dist-packages (from bleach->nbconvert->jupyter>=1.0.0->modin-spreadsheet>=0.1.0->modin[all]) (0.5.1)\n",
            "Collecting s3transfer<0.7.0,>=0.6.0\n",
            "  Downloading s3transfer-0.6.0-py3-none-any.whl (79 kB)\n",
            "\u001b[K     |████████████████████████████████| 79 kB 8.2 MB/s \n",
            "\u001b[?25hCollecting jmespath<2.0.0,>=0.7.1\n",
            "  Downloading jmespath-1.0.1-py3-none-any.whl (20 kB)\n",
            "Collecting botocore<1.30.0,>=1.29.34\n",
            "  Downloading botocore-1.29.34-py3-none-any.whl (10.3 MB)\n",
            "\u001b[K     |████████████████████████████████| 10.3 MB 38.7 MB/s \n",
            "\u001b[?25hCollecting urllib3<1.27,>=1.25.4\n",
            "  Downloading urllib3-1.26.13-py2.py3-none-any.whl (140 kB)\n",
            "\u001b[K     |████████████████████████████████| 140 kB 67.5 MB/s \n",
            "\u001b[?25hRequirement already satisfied: google-api-core<3.0.0,>=1.0.0 in /usr/local/lib/python3.8/dist-packages (from opencensus->ray[default]>=1.13.0->modin[all]) (2.8.2)\n",
            "Collecting opencensus-context>=0.1.3\n",
            "  Downloading opencensus_context-0.1.3-py2.py3-none-any.whl (5.1 kB)\n",
            "Requirement already satisfied: googleapis-common-protos<2.0dev,>=1.56.2 in /usr/local/lib/python3.8/dist-packages (from google-api-core<3.0.0,>=1.0.0->opencensus->ray[default]>=1.13.0->modin[all]) (1.57.0)\n",
            "Requirement already satisfied: google-auth<3.0dev,>=1.25.0 in /usr/local/lib/python3.8/dist-packages (from google-api-core<3.0.0,>=1.0.0->opencensus->ray[default]>=1.13.0->modin[all]) (2.15.0)\n",
            "Requirement already satisfied: rsa<5,>=3.1.4 in /usr/local/lib/python3.8/dist-packages (from google-auth<3.0dev,>=1.25.0->google-api-core<3.0.0,>=1.0.0->opencensus->ray[default]>=1.13.0->modin[all]) (4.9)\n",
            "Requirement already satisfied: cachetools<6.0,>=2.0.0 in /usr/local/lib/python3.8/dist-packages (from google-auth<3.0dev,>=1.25.0->google-api-core<3.0.0,>=1.0.0->opencensus->ray[default]>=1.13.0->modin[all]) (5.2.0)\n",
            "Requirement already satisfied: pyasn1-modules>=0.2.1 in /usr/local/lib/python3.8/dist-packages (from google-auth<3.0dev,>=1.25.0->google-api-core<3.0.0,>=1.0.0->opencensus->ray[default]>=1.13.0->modin[all]) (0.2.8)\n",
            "Requirement already satisfied: pyasn1<0.5.0,>=0.4.6 in /usr/local/lib/python3.8/dist-packages (from pyasn1-modules>=0.2.1->google-auth<3.0dev,>=1.25.0->google-api-core<3.0.0,>=1.0.0->opencensus->ray[default]>=1.13.0->modin[all]) (0.4.8)\n",
            "Requirement already satisfied: chardet<4,>=3.0.2 in /usr/local/lib/python3.8/dist-packages (from requests->ray[default]>=1.13.0->modin[all]) (3.0.4)\n",
            "Requirement already satisfied: certifi>=2017.4.17 in /usr/local/lib/python3.8/dist-packages (from requests->ray[default]>=1.13.0->modin[all]) (2022.12.7)\n",
            "Collecting urllib3<1.27,>=1.25.4\n",
            "  Downloading urllib3-1.25.11-py2.py3-none-any.whl (127 kB)\n",
            "\u001b[K     |████████████████████████████████| 127 kB 84.8 MB/s \n",
            "\u001b[?25hRequirement already satisfied: typing-extensions>=4.1.0 in /usr/local/lib/python3.8/dist-packages (from pydantic->ray[default]>=1.13.0->modin[all]) (4.4.0)\n",
            "Collecting qtpy>=2.0.1\n",
            "  Downloading QtPy-2.3.0-py3-none-any.whl (83 kB)\n",
            "\u001b[K     |████████████████████████████████| 83 kB 2.5 MB/s \n",
            "\u001b[?25hBuilding wheels for collected packages: gpustat\n",
            "  Building wheel for gpustat (setup.py) ... \u001b[?25l\u001b[?25hdone\n",
            "  Created wheel for gpustat: filename=gpustat-1.0.0-py3-none-any.whl size=19887 sha256=0eef40856d758d4fc38b79231e379ea08b6649d890093f47d09a7de580651f58\n",
            "  Stored in directory: /root/.cache/pip/wheels/1b/ed/14/0d513c962b25da841c42022cb5847c2ef835902c8563b8fb01\n",
            "Successfully built gpustat\n",
            "Installing collected packages: tornado, pyzmq, nest-asyncio, jupyter-client, tinycss2, sniffio, python-json-logger, nbclient, mistune, jupyterlab-pygments, jinja2, argon2-cffi-bindings, websocket-client, prometheus-client, nbconvert, jupyter-server-terminals, jupyter-events, jedi, argon2-cffi, anyio, jupyter-server, notebook-shim, nbclassic, urllib3, notebook, qtpy, jmespath, distlib, virtualenv, qtconsole, psutil, opencensus-context, nvidia-ml-py, botocore, blessed, unidist, s3transfer, ray, py-spy, plumbum, pandas, opencensus, mpi4py-mpich, jupyter, gpustat, colorful, aiohttp-cors, rpyc, modin-spreadsheet, modin, boto3\n",
            "  Attempting uninstall: tornado\n",
            "    Found existing installation: tornado 6.0.4\n",
            "    Uninstalling tornado-6.0.4:\n",
            "      Successfully uninstalled tornado-6.0.4\n",
            "  Attempting uninstall: pyzmq\n",
            "    Found existing installation: pyzmq 23.2.1\n",
            "    Uninstalling pyzmq-23.2.1:\n",
            "      Successfully uninstalled pyzmq-23.2.1\n",
            "  Attempting uninstall: jupyter-client\n",
            "    Found existing installation: jupyter-client 6.1.12\n",
            "    Uninstalling jupyter-client-6.1.12:\n",
            "      Successfully uninstalled jupyter-client-6.1.12\n",
            "  Attempting uninstall: mistune\n",
            "    Found existing installation: mistune 0.8.4\n",
            "    Uninstalling mistune-0.8.4:\n",
            "      Successfully uninstalled mistune-0.8.4\n",
            "  Attempting uninstall: jinja2\n",
            "    Found existing installation: Jinja2 2.11.3\n",
            "    Uninstalling Jinja2-2.11.3:\n",
            "      Successfully uninstalled Jinja2-2.11.3\n",
            "  Attempting uninstall: prometheus-client\n",
            "    Found existing installation: prometheus-client 0.15.0\n",
            "    Uninstalling prometheus-client-0.15.0:\n",
            "      Successfully uninstalled prometheus-client-0.15.0\n",
            "  Attempting uninstall: nbconvert\n",
            "    Found existing installation: nbconvert 5.6.1\n",
            "    Uninstalling nbconvert-5.6.1:\n",
            "      Successfully uninstalled nbconvert-5.6.1\n",
            "  Attempting uninstall: urllib3\n",
            "    Found existing installation: urllib3 1.24.3\n",
            "    Uninstalling urllib3-1.24.3:\n",
            "      Successfully uninstalled urllib3-1.24.3\n",
            "  Attempting uninstall: notebook\n",
            "    Found existing installation: notebook 5.7.16\n",
            "    Uninstalling notebook-5.7.16:\n",
            "      Successfully uninstalled notebook-5.7.16\n",
            "  Attempting uninstall: psutil\n",
            "    Found existing installation: psutil 5.4.8\n",
            "    Uninstalling psutil-5.4.8:\n",
            "      Successfully uninstalled psutil-5.4.8\n",
            "  Attempting uninstall: pandas\n",
            "    Found existing installation: pandas 1.3.5\n",
            "    Uninstalling pandas-1.3.5:\n",
            "      Successfully uninstalled pandas-1.3.5\n",
            "\u001b[31mERROR: pip's dependency resolver does not currently take into account all the packages that are installed. This behaviour is the source of the following dependency conflicts.\n",
            "google-colab 1.0.0 requires notebook~=5.7.16, but you have notebook 6.5.2 which is incompatible.\n",
            "google-colab 1.0.0 requires tornado~=6.0.4, but you have tornado 6.2 which is incompatible.\n",
            "flask 1.1.4 requires Jinja2<3.0,>=2.10.1, but you have jinja2 3.1.2 which is incompatible.\u001b[0m\n",
            "Successfully installed aiohttp-cors-0.7.0 anyio-3.6.2 argon2-cffi-21.3.0 argon2-cffi-bindings-21.2.0 blessed-1.19.1 boto3-1.26.34 botocore-1.29.34 colorful-0.5.5 distlib-0.3.6 gpustat-1.0.0 jedi-0.18.2 jinja2-3.1.2 jmespath-1.0.1 jupyter-1.0.0 jupyter-client-7.4.8 jupyter-events-0.5.0 jupyter-server-2.0.2 jupyter-server-terminals-0.4.3 jupyterlab-pygments-0.2.2 mistune-2.0.4 modin-0.18.0 modin-spreadsheet-0.1.2 mpi4py-mpich-3.1.2 nbclassic-0.4.8 nbclient-0.7.2 nbconvert-7.2.7 nest-asyncio-1.5.6 notebook-6.5.2 notebook-shim-0.2.2 nvidia-ml-py-11.495.46 opencensus-0.11.0 opencensus-context-0.1.3 pandas-1.5.2 plumbum-1.8.0 prometheus-client-0.13.1 psutil-5.9.4 py-spy-0.3.14 python-json-logger-2.0.4 pyzmq-24.0.1 qtconsole-5.4.0 qtpy-2.3.0 ray-2.2.0 rpyc-4.1.5 s3transfer-0.6.0 sniffio-1.3.0 tinycss2-1.2.1 tornado-6.2 unidist-0.2.1 urllib3-1.25.11 virtualenv-20.17.1 websocket-client-1.4.2\n"
          ]
        },
        {
          "output_type": "display_data",
          "data": {
            "application/vnd.colab-display-data+json": {
              "pip_warning": {
                "packages": [
                  "psutil",
                  "tornado",
                  "zmq"
                ]
              }
            }
          },
          "metadata": {}
        }
      ]
    },
    {
      "cell_type": "code",
      "execution_count": null,
      "metadata": {
        "colab": {
          "base_uri": "https://localhost:8080/"
        },
        "id": "rptDYbxiJ_Gk",
        "outputId": "850c13f5-b0b4-44e1-ee1b-ce223a53316d"
      },
      "outputs": [
        {
          "output_type": "stream",
          "name": "stderr",
          "text": [
            "UserWarning: Ray execution environment not yet initialized. Initializing...\n",
            "To remove this warning, run the following python code before doing dataframe operations:\n",
            "\n",
            "    import ray\n",
            "    ray.init(runtime_env={'env_vars': {'__MODIN_AUTOIMPORT_PANDAS__': '1'}})\n",
            "\n",
            "UserWarning: The size of /dev/shm is too small (6133121024 bytes). The required size at least half of RAM (6808180736 bytes). Please, delete files in /dev/shm or increase size of /dev/shm with --shm-size in Docker. Also, you can can override the memory size for each Ray worker (in bytes) to the MODIN_MEMORY environment variable.\n",
            "2022-12-21 05:33:52,232\tINFO worker.py:1529 -- Started a local Ray instance. View the dashboard at \u001b[1m\u001b[32mhttp://127.0.0.1:8265 \u001b[39m\u001b[22m\n",
            "UserWarning: Distributing <class 'numpy.ndarray'> object. This may take some time.\n"
          ]
        }
      ],
      "source": [
        "import modin.pandas as pd\n",
        "import pandas\n",
        "import numpy as np\n",
        "import time\n",
        "\n",
        "frame_data = np.random.randint(0, 100, size=(2**18, 2**8))\n",
        "df = pd.DataFrame(frame_data).add_prefix(\"col\")"
      ]
    },
    {
      "cell_type": "code",
      "execution_count": null,
      "metadata": {
        "id": "xpYplOh3J_Gl"
      },
      "outputs": [],
      "source": [
        "pandas_df = pandas.DataFrame(frame_data).add_prefix(\"col\")"
      ]
    },
    {
      "cell_type": "code",
      "execution_count": null,
      "metadata": {
        "colab": {
          "base_uri": "https://localhost:8080/"
        },
        "id": "jJyaHREtJ_Gm",
        "outputId": "06aa189d-4cb0-48cc-84a6-2c9d7328f0f3"
      },
      "outputs": [
        {
          "output_type": "stream",
          "name": "stderr",
          "text": [
            "UserWarning: `DataFrame.mask` is not currently supported by PandasOnRay, defaulting to pandas implementation.\n",
            "Please refer to https://modin.readthedocs.io/en/stable/supported_apis/defaulting_to_pandas.html for explanation.\n",
            "FutureWarning: the 'errors' keyword is deprecated and will be removed in a future version. Please take steps to stop the use of 'errors'\n",
            "UserWarning: Distributing <class 'pandas.core.frame.DataFrame'> object. This may take some time.\n"
          ]
        },
        {
          "output_type": "stream",
          "name": "stdout",
          "text": [
            "        col0  col1  col2  col3  col4  col5  col6  col7  col8  col9  ...  \\\n",
            "0        NaN   NaN  83.0  74.0  67.0  84.0  57.0  53.0  89.0   NaN  ...   \n",
            "1        NaN  76.0   NaN   NaN  64.0  82.0   NaN  64.0   NaN  96.0  ...   \n",
            "2       57.0  73.0  69.0   NaN  58.0   NaN  84.0  71.0   NaN   NaN  ...   \n",
            "3       54.0   NaN  61.0   NaN  56.0   NaN   NaN  96.0   NaN  52.0  ...   \n",
            "4       94.0  51.0   NaN  91.0  85.0  53.0  96.0   NaN   NaN  72.0  ...   \n",
            "...      ...   ...   ...   ...   ...   ...   ...   ...   ...   ...  ...   \n",
            "262139   NaN  99.0   NaN  94.0  50.0   NaN  53.0   NaN   NaN   NaN  ...   \n",
            "262140   NaN  88.0   NaN   NaN  94.0  89.0  63.0  89.0   NaN  54.0  ...   \n",
            "262141   NaN  70.0   NaN  82.0  98.0  75.0   NaN  95.0  52.0   NaN  ...   \n",
            "262142  70.0   NaN   NaN  61.0  82.0   NaN  64.0   NaN  69.0  96.0  ...   \n",
            "262143  72.0   NaN   NaN   NaN  86.0  51.0  84.0   NaN   NaN  68.0  ...   \n",
            "\n",
            "        col246  col247  col248  col249  col250  col251  col252  col253  \\\n",
            "0         55.0    81.0     NaN     NaN    61.0    94.0     NaN    72.0   \n",
            "1          NaN     NaN     NaN     NaN     NaN    71.0     NaN     NaN   \n",
            "2         99.0     NaN     NaN     NaN    88.0     NaN     NaN    91.0   \n",
            "3         83.0    85.0    93.0    74.0    92.0     NaN     NaN     NaN   \n",
            "4          NaN    61.0    78.0    86.0    68.0     NaN     NaN    51.0   \n",
            "...        ...     ...     ...     ...     ...     ...     ...     ...   \n",
            "262139    53.0    69.0     NaN    55.0     NaN     NaN     NaN     NaN   \n",
            "262140     NaN     NaN     NaN    75.0     NaN    56.0     NaN     NaN   \n",
            "262141    65.0    75.0     NaN     NaN     NaN    77.0     NaN    69.0   \n",
            "262142    57.0     NaN     NaN    85.0     NaN     NaN     NaN    59.0   \n",
            "262143    88.0    99.0    86.0     NaN     NaN     NaN    75.0     NaN   \n",
            "\n",
            "        col254  col255  \n",
            "0         97.0     NaN  \n",
            "1          NaN    87.0  \n",
            "2          NaN    75.0  \n",
            "3         89.0    93.0  \n",
            "4          NaN     NaN  \n",
            "...        ...     ...  \n",
            "262139    88.0     NaN  \n",
            "262140    53.0    94.0  \n",
            "262141     NaN    84.0  \n",
            "262142    87.0     NaN  \n",
            "262143    56.0    70.0  \n",
            "\n",
            "[262144 rows x 256 columns]\n",
            "Modin mask took 5.4147 seconds.\n"
          ]
        }
      ],
      "source": [
        "modin_start = time.time()\n",
        "\n",
        "print(df.mask(df < 50))\n",
        "\n",
        "modin_end = time.time()\n",
        "print(\"Modin mask took {} seconds.\".format(round(modin_end - modin_start, 4)))"
      ]
    },
    {
      "cell_type": "code",
      "execution_count": null,
      "metadata": {
        "colab": {
          "base_uri": "https://localhost:8080/"
        },
        "id": "x4t-zZPKJ_Gn",
        "outputId": "e422b0f8-9acb-4fdc-8fe2-3e88d9e10258"
      },
      "outputs": [
        {
          "output_type": "stream",
          "name": "stdout",
          "text": [
            "        col0  col1  col2  col3  col4  col5  col6  col7  col8  col9  ...  \\\n",
            "0        NaN   NaN  83.0  74.0  67.0  84.0  57.0  53.0  89.0   NaN  ...   \n",
            "1        NaN  76.0   NaN   NaN  64.0  82.0   NaN  64.0   NaN  96.0  ...   \n",
            "2       57.0  73.0  69.0   NaN  58.0   NaN  84.0  71.0   NaN   NaN  ...   \n",
            "3       54.0   NaN  61.0   NaN  56.0   NaN   NaN  96.0   NaN  52.0  ...   \n",
            "4       94.0  51.0   NaN  91.0  85.0  53.0  96.0   NaN   NaN  72.0  ...   \n",
            "...      ...   ...   ...   ...   ...   ...   ...   ...   ...   ...  ...   \n",
            "262139   NaN  99.0   NaN  94.0  50.0   NaN  53.0   NaN   NaN   NaN  ...   \n",
            "262140   NaN  88.0   NaN   NaN  94.0  89.0  63.0  89.0   NaN  54.0  ...   \n",
            "262141   NaN  70.0   NaN  82.0  98.0  75.0   NaN  95.0  52.0   NaN  ...   \n",
            "262142  70.0   NaN   NaN  61.0  82.0   NaN  64.0   NaN  69.0  96.0  ...   \n",
            "262143  72.0   NaN   NaN   NaN  86.0  51.0  84.0   NaN   NaN  68.0  ...   \n",
            "\n",
            "        col246  col247  col248  col249  col250  col251  col252  col253  \\\n",
            "0         55.0    81.0     NaN     NaN    61.0    94.0     NaN    72.0   \n",
            "1          NaN     NaN     NaN     NaN     NaN    71.0     NaN     NaN   \n",
            "2         99.0     NaN     NaN     NaN    88.0     NaN     NaN    91.0   \n",
            "3         83.0    85.0    93.0    74.0    92.0     NaN     NaN     NaN   \n",
            "4          NaN    61.0    78.0    86.0    68.0     NaN     NaN    51.0   \n",
            "...        ...     ...     ...     ...     ...     ...     ...     ...   \n",
            "262139    53.0    69.0     NaN    55.0     NaN     NaN     NaN     NaN   \n",
            "262140     NaN     NaN     NaN    75.0     NaN    56.0     NaN     NaN   \n",
            "262141    65.0    75.0     NaN     NaN     NaN    77.0     NaN    69.0   \n",
            "262142    57.0     NaN     NaN    85.0     NaN     NaN     NaN    59.0   \n",
            "262143    88.0    99.0    86.0     NaN     NaN     NaN    75.0     NaN   \n",
            "\n",
            "        col254  col255  \n",
            "0         97.0     NaN  \n",
            "1          NaN    87.0  \n",
            "2          NaN    75.0  \n",
            "3         89.0    93.0  \n",
            "4          NaN     NaN  \n",
            "...        ...     ...  \n",
            "262139    88.0     NaN  \n",
            "262140    53.0    94.0  \n",
            "262141     NaN    84.0  \n",
            "262142    87.0     NaN  \n",
            "262143    56.0    70.0  \n",
            "\n",
            "[262144 rows x 256 columns]\n",
            "pandas mask took 1.1128 seconds.\n"
          ]
        }
      ],
      "source": [
        "pandas_start = time.time()\n",
        "\n",
        "print(pandas_df.mask(pandas_df < 50))\n",
        "\n",
        "pandas_end = time.time()\n",
        "print(\"pandas mask took {} seconds.\".format(round(pandas_end - pandas_start, 4)))"
      ]
    },
    {
      "cell_type": "markdown",
      "metadata": {
        "id": "o02iOetxJ_Go"
      },
      "source": [
        "## Concept for exercise: Register custom functions\n",
        "\n",
        "Modin's user-facing API is pandas, but it is possible that we do not yet support your favorite or most-needed functionalities. Your user-defined function may also be able to be executed more efficiently if you pre-define the type of function it is (e.g. map, reduce, etc.) using the DataFrame Algebra. To solve either case, it is possible to register a custom function to be applied to your data."
      ]
    },
    {
      "cell_type": "markdown",
      "metadata": {
        "id": "5l9KwBCdJ_Gp"
      },
      "source": [
        "### Registering a custom function for all query compilers\n",
        "\n",
        "To register a custom function for a query compiler, we first need to import it:\n",
        "\n",
        "```python\n",
        "from modin.core.storage_formats.pandas.query_compiler import PandasQueryCompiler\n",
        "```\n",
        "\n",
        "The `PandasQueryCompiler` is responsible for defining and compiling the queries that can be operated on by Modin, and is specific to the pandas storage format. Any queries defined here must also both be compatible with and result in a `pandas.DataFrame`. Many functionalities are very simply implemented, as you can see in the current code: [Link](https://github.com/modin-project/modin/blob/7a8158873e77cb5f1a5a3b89be4ddac89f576269/modin/core/storage_formats/pandas/query_compiler.py#L216).\n",
        "\n",
        "If we want to register a new function, we need to understand what kind of function it is. In our example, we will try to implement a `kurtosis` on the unary negation of the values in the dataframe, which is a map (unargy negation of each cell) followed by a reduce. So we next want to import the function type so we can use it in our definition:\n",
        "\n",
        "```python\n",
        "from modin.core.dataframe.algebra import TreeReduce\n",
        "```\n",
        "\n",
        "Then we can just use the `TreeReduce.register` `classmethod` and assign it to the `PandasQueryCompiler`:\n",
        "\n",
        "```python\n",
        "PandasQueryCompiler.neg_kurtosis = TreeReduce.register(lambda cell_value, **kwargs: ~cell_value, pandas.DataFrame.kurtosis)\n",
        "```\n",
        "\n",
        "We include `**kwargs` to the `lambda` function since the query compiler will pass all keyword arguments to both the map and reduce functions.\n",
        "\n",
        "Finally, we want a handle to it from the `DataFrame`, so we need to create a way to do that:\n",
        "\n",
        "```python\n",
        "def neg_kurtosis_func(self, **kwargs):\n",
        "    # The constructor allows you to pass in a query compiler as a keyword argument\n",
        "    return self.__constructor__(query_compiler=self._query_compiler.neg_kurtosis(**kwargs))\n",
        "\n",
        "pd.DataFrame.neg_kurtosis_custom = neg_kurtosis_func\n",
        "```\n",
        "\n",
        "And then you can use it like you usually would:\n",
        "\n",
        "```python\n",
        "df.neg_kurtosis_custom()\n",
        "```"
      ]
    },
    {
      "cell_type": "code",
      "execution_count": null,
      "metadata": {
        "id": "0I6sPk8SJ_Gq"
      },
      "outputs": [],
      "source": [
        "from modin.core.storage_formats.pandas.query_compiler import PandasQueryCompiler\n",
        "from modin.core.dataframe.algebra import TreeReduce"
      ]
    },
    {
      "cell_type": "code",
      "execution_count": null,
      "metadata": {
        "id": "XxpKhm4jJ_Gq"
      },
      "outputs": [],
      "source": [
        "PandasQueryCompiler.neg_kurtosis_custom = TreeReduce.register(lambda cell_value, **kwargs: ~cell_value,\n",
        "                                                             pandas.DataFrame.kurtosis)"
      ]
    },
    {
      "cell_type": "code",
      "execution_count": null,
      "metadata": {
        "id": "fttgjkAdJ_Gq"
      },
      "outputs": [],
      "source": [
        "from pandas._libs import lib\n",
        "# The function signature came from the pandas documentation:\n",
        "# https://pandas.pydata.org/pandas-docs/stable/reference/api/pandas.DataFrame.kurtosis.html\n",
        "def neg_kurtosis_func(self, axis=lib.no_default, skipna=True, level=None, numeric_only=None, **kwargs):\n",
        "    # We need to specify the axis for the query compiler\n",
        "    if axis in [None, lib.no_default]:\n",
        "        axis = 0\n",
        "    # The constructor allows you to pass in a query compiler as a keyword argument\n",
        "    # Reduce dimension is used for reduces\n",
        "    # We also pass all keyword arguments here to ensure correctness\n",
        "    return self._reduce_dimension(\n",
        "        self._query_compiler.neg_kurtosis_custom(\n",
        "            axis=axis, skipna=skipna, level=level, numeric_only=numeric_only, **kwargs\n",
        "        )\n",
        "    )\n",
        "\n",
        "pd.DataFrame.neg_kurtosis_custom = neg_kurtosis_func"
      ]
    },
    {
      "cell_type": "markdown",
      "metadata": {
        "id": "na0jRQ54J_Gr"
      },
      "source": [
        "### Speed improvements\n",
        "If we were to try and replicate this functionality using the pandas API, we would need to call `df.applymap` with our unary negation function, and subsequently `df.kurtosis` on the result of the first call. Let's see how this compares with our new, custom function!"
      ]
    },
    {
      "cell_type": "code",
      "execution_count": null,
      "metadata": {
        "colab": {
          "base_uri": "https://localhost:8080/"
        },
        "id": "lxLfoMQrJ_Gr",
        "outputId": "8b294f65-c2ff-4204-a342-09d22ff2eb26"
      },
      "outputs": [
        {
          "output_type": "stream",
          "name": "stdout",
          "text": [
            "col0     -1.198510\n",
            "col1     -1.198968\n",
            "col2     -1.199800\n",
            "col3     -1.199438\n",
            "col4     -1.200340\n",
            "            ...   \n",
            "col251   -1.198393\n",
            "col252   -1.201032\n",
            "col253   -1.195296\n",
            "col254   -1.204850\n",
            "col255   -1.200419\n",
            "Length: 256, dtype: float64\n",
            "pandas unary negation kurtosis took 25.41492748260498 seconds.\n"
          ]
        }
      ],
      "source": [
        "start = time.time()\n",
        "\n",
        "print(pandas_df.applymap(lambda cell_value: ~cell_value).kurtosis())\n",
        "\n",
        "end = time.time()\n",
        "pandas_duration = end - start\n",
        "print(\"pandas unary negation kurtosis took {} seconds.\".format(pandas_duration))"
      ]
    },
    {
      "cell_type": "code",
      "execution_count": null,
      "metadata": {
        "colab": {
          "base_uri": "https://localhost:8080/"
        },
        "id": "R43TJG_TJ_Gr",
        "outputId": "f4b1e3a8-17bc-403d-c0a8-56880cea515e"
      },
      "outputs": [
        {
          "output_type": "stream",
          "name": "stdout",
          "text": [
            "col0     -1.198510\n",
            "col1     -1.198968\n",
            "col2     -1.199800\n",
            "col3     -1.199438\n",
            "col4     -1.200340\n",
            "            ...   \n",
            "col251   -1.198393\n",
            "col252   -1.201032\n",
            "col253   -1.195296\n",
            "col254   -1.204850\n",
            "col255   -1.200419\n",
            "Length: 256, dtype: float64\n",
            "Modin unary negation kurtosis took 25.543306350708008 seconds.\n"
          ]
        }
      ],
      "source": [
        "start = time.time()\n",
        "\n",
        "print(df.applymap(lambda x: ~x).kurtosis())\n",
        "\n",
        "end = time.time()\n",
        "modin_duration = end - start\n",
        "print(\"Modin unary negation kurtosis took {} seconds.\".format(modin_duration))"
      ]
    },
    {
      "cell_type": "code",
      "execution_count": null,
      "metadata": {
        "colab": {
          "base_uri": "https://localhost:8080/"
        },
        "id": "N4GilIpBJ_Gr",
        "outputId": "202d5020-389d-4d58-bff8-2167c6c359c3"
      },
      "outputs": [
        {
          "output_type": "stream",
          "name": "stdout",
          "text": [
            "col0     -1.198510\n",
            "col1     -1.198968\n",
            "col2     -1.199800\n",
            "col3     -1.199438\n",
            "col4     -1.200340\n",
            "            ...   \n",
            "col251   -1.198393\n",
            "col252   -1.201032\n",
            "col253   -1.195296\n",
            "col254   -1.204850\n",
            "col255   -1.200419\n",
            "Length: 256, dtype: float64\n",
            "Modin neg_kurtosis_custom took 1.0177569389343262 seconds.\n"
          ]
        }
      ],
      "source": [
        "custom_start = time.time()\n",
        "\n",
        "print(df.neg_kurtosis_custom())\n",
        "\n",
        "custom_end = time.time()\n",
        "modin_custom_duration = custom_end - custom_start\n",
        "print(\"Modin neg_kurtosis_custom took {} seconds.\".format(modin_custom_duration))"
      ]
    },
    {
      "cell_type": "code",
      "execution_count": null,
      "metadata": {
        "colab": {
          "base_uri": "https://localhost:8080/",
          "height": 78
        },
        "id": "rl19UwwmJ_Gs",
        "outputId": "0bbc6af0-aadc-4f42-af8d-a60964445341"
      },
      "outputs": [
        {
          "output_type": "display_data",
          "data": {
            "text/plain": [
              "<IPython.core.display.Markdown object>"
            ],
            "text/markdown": "### As expected, Modin is 0.99x faster than pandas when chaining the functions; however we see that our custom function is even faster than that - beating pandas by 24.97x, and Modin (when chaining the functions) by 25.1x!"
          },
          "metadata": {}
        }
      ],
      "source": [
        "from IPython.display import Markdown, display\n",
        "\n",
        "display(Markdown(\"### As expected, Modin is {}x faster than pandas when chaining the functions; however we see that our custom function is even faster than that - beating pandas by {}x, and Modin (when chaining the functions) by {}x!\".format(round(pandas_duration / modin_duration, 2), round(pandas_duration / modin_custom_duration, 2), round(modin_duration / modin_custom_duration, 2))))"
      ]
    },
    {
      "cell_type": "markdown",
      "metadata": {
        "id": "J7zC5XJ7J_Gs"
      },
      "source": [
        "## Congratulations! You have just implemented new DataFrame functionality!\n",
        "\n",
        "## Consider opening a pull request: https://github.com/modin-project/modin/pulls\n",
        "\n",
        "For a complete list of what is implemented, see the [Supported APIs](https://modin.readthedocs.io/en/latest/supported_apis/index.html) section."
      ]
    },
    {
      "cell_type": "markdown",
      "metadata": {
        "id": "n6YtEsSRJ_Gs"
      },
      "source": [
        "## Test your knowledge: Add a custom function for another tree reduce: finding `DataFrame.mad` after squaring all of the values\n",
        "\n",
        "See the pandas documentation for the correct signature: https://pandas.pydata.org/pandas-docs/stable/reference/api/pandas.DataFrame.mad.html"
      ]
    },
    {
      "cell_type": "code",
      "execution_count": null,
      "metadata": {
        "colab": {
          "base_uri": "https://localhost:8080/"
        },
        "id": "wdnnesaOJ_Gs",
        "outputId": "c71d9b0f-610e-4880-c9cb-c81a9ccae8fc"
      },
      "outputs": [
        {
          "output_type": "stream",
          "name": "stdout",
          "text": [
            "Ellipsis\n"
          ]
        }
      ],
      "source": [
        "modin_mad_custom_start = time.time()\n",
        "\n",
        "# Implement your function here! Put the result of your custom squared `mad` in the variable `modin_mad_custom`\n",
        "# Hint: Look at the kurtosis walkthrough above\n",
        "\n",
        "modin_mad_custom = ...\n",
        "print(modin_mad_custom)\n",
        "\n",
        "modin_mad_custom_end = time.time()"
      ]
    },
    {
      "cell_type": "code",
      "execution_count": null,
      "metadata": {
        "colab": {
          "base_uri": "https://localhost:8080/",
          "height": 481
        },
        "id": "5sVwU6LhJ_Gt",
        "outputId": "ef058dcb-5c05-4923-9a15-8ff72a1fb958"
      },
      "outputs": [
        {
          "output_type": "stream",
          "name": "stderr",
          "text": [
            "\u001b[2m\u001b[36m(deploy_ray_func pid=944)\u001b[0m FutureWarning: The 'mad' method is deprecated and will be removed in a future version. To compute the same result, you may do `(df - df.mean()).abs().mean()`.\n",
            "\u001b[2m\u001b[36m(deploy_ray_func pid=945)\u001b[0m FutureWarning: The 'mad' method is deprecated and will be removed in a future version. To compute the same result, you may do `(df - df.mean()).abs().mean()`.\n"
          ]
        },
        {
          "output_type": "stream",
          "name": "stdout",
          "text": [
            "col0      2540.161771\n",
            "col1      2539.465918\n",
            "col2      2541.933246\n",
            "col3      2541.608756\n",
            "col4      2543.121095\n",
            "             ...     \n",
            "col251    2537.545190\n",
            "col252    2537.521474\n",
            "col253    2536.341930\n",
            "col254    2546.850222\n",
            "col255    2538.559091\n",
            "Length: 256, dtype: float64\n"
          ]
        },
        {
          "output_type": "error",
          "ename": "AttributeError",
          "evalue": "ignored",
          "traceback": [
            "\u001b[0;31m---------------------------------------------------------------------------\u001b[0m",
            "\u001b[0;31mAttributeError\u001b[0m                            Traceback (most recent call last)",
            "\u001b[0;32m<ipython-input-14-c7c163f6832b>\u001b[0m in \u001b[0;36m<module>\u001b[0;34m\u001b[0m\n\u001b[1;32m      7\u001b[0m \u001b[0;32massert\u001b[0m \u001b[0mmodin_mad_end\u001b[0m \u001b[0;34m-\u001b[0m \u001b[0mmodin_mad_start\u001b[0m \u001b[0;34m>\u001b[0m \u001b[0mmodin_mad_custom_end\u001b[0m \u001b[0;34m-\u001b[0m \u001b[0mmodin_mad_custom_start\u001b[0m\u001b[0;34m,\u001b[0m\u001b[0;31m \u001b[0m\u001b[0;31m\\\u001b[0m\u001b[0;34m\u001b[0m\u001b[0;34m\u001b[0m\u001b[0m\n\u001b[1;32m      8\u001b[0m     \u001b[0;34m\"Your implementation was too slow, or you used the chaining functions approach. Try again\"\u001b[0m\u001b[0;34m\u001b[0m\u001b[0;34m\u001b[0m\u001b[0m\n\u001b[0;32m----> 9\u001b[0;31m \u001b[0;32massert\u001b[0m \u001b[0mmodin_mad\u001b[0m\u001b[0;34m.\u001b[0m\u001b[0m_to_pandas\u001b[0m\u001b[0;34m(\u001b[0m\u001b[0;34m)\u001b[0m\u001b[0;34m.\u001b[0m\u001b[0mequals\u001b[0m\u001b[0;34m(\u001b[0m\u001b[0mmodin_mad_custom\u001b[0m\u001b[0;34m.\u001b[0m\u001b[0m_to_pandas\u001b[0m\u001b[0;34m(\u001b[0m\u001b[0;34m)\u001b[0m\u001b[0;34m)\u001b[0m\u001b[0;34m,\u001b[0m \u001b[0;34m\"Your result did not match the result of chaining the functions, try again\"\u001b[0m\u001b[0;34m\u001b[0m\u001b[0;34m\u001b[0m\u001b[0m\n\u001b[0m",
            "\u001b[0;31mAttributeError\u001b[0m: 'ellipsis' object has no attribute '_to_pandas'"
          ]
        }
      ],
      "source": [
        "# Evaluation code, do not change!\n",
        "modin_mad_start = time.time()\n",
        "modin_mad = df.applymap(lambda x: x**2).mad()\n",
        "print(modin_mad)\n",
        "modin_mad_end = time.time()\n",
        "\n",
        "assert modin_mad_end - modin_mad_start > modin_mad_custom_end - modin_mad_custom_start, \\\n",
        "    \"Your implementation was too slow, or you used the chaining functions approach. Try again\"\n",
        "assert modin_mad._to_pandas().equals(modin_mad_custom._to_pandas()), \"Your result did not match the result of chaining the functions, try again\""
      ]
    }
  ],
  "metadata": {
    "kernelspec": {
      "display_name": "Python 3 (ipykernel)",
      "language": "python",
      "name": "python3"
    },
    "language_info": {
      "codemirror_mode": {
        "name": "ipython",
        "version": 3
      },
      "file_extension": ".py",
      "mimetype": "text/x-python",
      "name": "python",
      "nbconvert_exporter": "python",
      "pygments_lexer": "ipython3",
      "version": "3.8.12"
    },
    "colab": {
      "provenance": [],
      "include_colab_link": true
    }
  },
  "nbformat": 4,
  "nbformat_minor": 0
}