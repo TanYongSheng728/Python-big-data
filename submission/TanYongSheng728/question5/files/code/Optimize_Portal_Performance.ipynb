{
  "nbformat": 4,
  "nbformat_minor": 0,
  "metadata": {
    "colab": {
      "provenance": [],
      "authorship_tag": "ABX9TyMzyAV3gl86Xeyl02C4hLUJ"
    },
    "kernelspec": {
      "name": "python3",
      "display_name": "Python 3"
    },
    "language_info": {
      "name": "python"
    }
  },
  "cells": [
    {
      "cell_type": "code",
      "execution_count": 4,
      "metadata": {
        "colab": {
          "base_uri": "https://localhost:8080/"
        },
        "id": "828sXrfx2wwW",
        "outputId": "5bb06bfd-637b-4f13-e95b-8fa90cef6d1c"
      },
      "outputs": [
        {
          "output_type": "stream",
          "name": "stdout",
          "text": [
            "{'_id': {'$oid': '5c8eccb0caa187d17ca623f7'}, 'text': \"I can't wait for #BoardwalkEmpire\", 'in_reply_to_status_id': None, 'retweet_count': None, 'contributors': None, 'created_at': 'Thu Sep 02 18:11:24 +0000 2010', 'geo': None, 'source': '<a href=\"http://www.tweetdeck.com\" rel=\"nofollow\">TweetDeck</a>', 'coordinates': None, 'in_reply_to_screen_name': None, 'truncated': False, 'entities': {'user_mentions': [], 'urls': [], 'hashtags': [{'text': 'BoardwalkEmpire', 'indices': [{'$numberInt': '17'}, {'$numberInt': '33'}]}]}, 'retweeted': False, 'place': None, 'user': {'friends_count': {'$numberInt': '204'}, 'profile_sidebar_fill_color': 'DDEEF6', 'location': '', 'verified': False, 'follow_request_sent': None, 'favourites_count': {'$numberInt': '0'}, 'profile_sidebar_border_color': 'C0DEED', 'profile_image_url': 'http://a2.twimg.com/profile_images/936242594/missouri-crying1_normal.jpg', 'geo_enabled': False, 'created_at': 'Sat Aug 08 22:22:40 +0000 2009', 'description': '', 'time_zone': None, 'url': None, 'screen_name': 'seabass18', 'notifications': None, 'profile_background_color': 'C0DEED', 'listed_count': {'$numberInt': '1'}, 'lang': 'en', 'profile_background_image_url': 'http://a1.twimg.com/profile_background_images/105773056/missouri-crying1.jpg', 'statuses_count': {'$numberInt': '238'}, 'following': None, 'profile_text_color': '333333', 'protected': False, 'show_all_inline_media': False, 'profile_background_tile': True, 'name': 'Travis Siebrass', 'contributors_enabled': False, 'profile_link_color': '0084B4', 'followers_count': {'$numberInt': '24'}, 'id': {'$numberInt': '64054560'}, 'profile_use_background_image': True, 'utc_offset': None}, 'favorited': False, 'in_reply_to_user_id': None, 'id': {'$numberLong': '22819397300'}}\n"
          ]
        }
      ],
      "source": [
        "import json\n",
        "import pandas as pd\n",
        "\n",
        "\n",
        "with open('modified_tweets.json', encoding='utf-8') as file:\n",
        "    data = json.load(file)\n",
        "\n",
        "print(data[1])"
      ]
    },
    {
      "cell_type": "code",
      "source": [
        "df = pd.DataFrame(data)\n",
        "df.info()"
      ],
      "metadata": {
        "colab": {
          "base_uri": "https://localhost:8080/"
        },
        "id": "ousia9vv5rcR",
        "outputId": "23cb5627-a188-4cd4-bc2c-45816400a3a7"
      },
      "execution_count": 5,
      "outputs": [
        {
          "output_type": "stream",
          "name": "stdout",
          "text": [
            "<class 'pandas.core.frame.DataFrame'>\n",
            "RangeIndex: 24832 entries, 0 to 24831\n",
            "Data columns (total 19 columns):\n",
            " #   Column                   Non-Null Count  Dtype \n",
            "---  ------                   --------------  ----- \n",
            " 0   _id                      24832 non-null  object\n",
            " 1   text                     24832 non-null  object\n",
            " 2   in_reply_to_status_id    6790 non-null   object\n",
            " 3   retweet_count            0 non-null      object\n",
            " 4   contributors             0 non-null      object\n",
            " 5   created_at               24832 non-null  object\n",
            " 6   geo                      159 non-null    object\n",
            " 7   source                   24832 non-null  object\n",
            " 8   coordinates              159 non-null    object\n",
            " 9   in_reply_to_screen_name  8116 non-null   object\n",
            " 10  truncated                24832 non-null  bool  \n",
            " 11  entities                 24832 non-null  object\n",
            " 12  retweeted                24832 non-null  bool  \n",
            " 13  place                    187 non-null    object\n",
            " 14  user                     24832 non-null  object\n",
            " 15  favorited                24832 non-null  bool  \n",
            " 16  in_reply_to_user_id      8116 non-null   object\n",
            " 17  id                       24832 non-null  object\n",
            " 18  retweeted_status         2045 non-null   object\n",
            "dtypes: bool(3), object(16)\n",
            "memory usage: 3.1+ MB\n"
          ]
        }
      ]
    },
    {
      "cell_type": "code",
      "source": [
        "df.isnull().sum()"
      ],
      "metadata": {
        "colab": {
          "base_uri": "https://localhost:8080/"
        },
        "id": "QfvGR7UV81Qz",
        "outputId": "7e7e3045-d7e8-4f9c-c346-4d6fba6ec0ba"
      },
      "execution_count": 6,
      "outputs": [
        {
          "output_type": "execute_result",
          "data": {
            "text/plain": [
              "_id                            0\n",
              "text                           0\n",
              "in_reply_to_status_id      18042\n",
              "retweet_count              24832\n",
              "contributors               24832\n",
              "created_at                     0\n",
              "geo                        24673\n",
              "source                         0\n",
              "coordinates                24673\n",
              "in_reply_to_screen_name    16716\n",
              "truncated                      0\n",
              "entities                       0\n",
              "retweeted                      0\n",
              "place                      24645\n",
              "user                           0\n",
              "favorited                      0\n",
              "in_reply_to_user_id        16716\n",
              "id                             0\n",
              "retweeted_status           22787\n",
              "dtype: int64"
            ]
          },
          "metadata": {},
          "execution_count": 6
        }
      ]
    },
    {
      "cell_type": "code",
      "source": [
        "selected_columns = ['text', 'source', 'entities', 'user']\n",
        "filtered_data = [{column: record[column] for column in selected_columns} for record in data]"
      ],
      "metadata": {
        "id": "_tHqsdEc8vgA"
      },
      "execution_count": 13,
      "outputs": []
    }
  ]
}