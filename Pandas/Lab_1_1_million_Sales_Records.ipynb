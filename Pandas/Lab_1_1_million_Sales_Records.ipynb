{
  "cells": [
    {
      "cell_type": "markdown",
      "metadata": {
        "id": "view-in-github",
        "colab_type": "text"
      },
      "source": [
        "<a href=\"https://colab.research.google.com/github/drshahizan/Python_Tutorial/blob/main/big%20data/Lab_1_1_million_Sales_Records.ipynb\" target=\"_parent\"><img src=\"https://colab.research.google.com/assets/colab-badge.svg\" alt=\"Open In Colab\"/></a>"
      ]
    },
    {
      "cell_type": "markdown",
      "metadata": {
        "id": "BU7NzzW3qLxh"
      },
      "source": [
        "# Handle Large Data (CSV): 1000000 Sales Records"
      ]
    },
    {
      "cell_type": "markdown",
      "source": [
        "[Dataset: 1000000 Sales Records](https://github.com/drshahizan/dataset/raw/main/1000000%20Sales%20Records.rar). \n",
        "\n",
        "[Youtube: Tutorial](https://youtu.be/bd_1T2JCr4M)\n",
        "\n",
        "Instruction:\n",
        "* Please extract the file *1000000 Sales Records.rar*.\n",
        "* Please enter the file location: *1000000 Sales Records.csv* in code"
      ],
      "metadata": {
        "id": "I3MzJUC1tKID"
      }
    },
    {
      "cell_type": "code",
      "execution_count": null,
      "metadata": {
        "id": "YcfJpUU3qLxh",
        "outputId": "ecd5125d-bd75-4478-a789-71626e155eb9"
      },
      "outputs": [
        {
          "data": {
            "text/html": [
              "<div>\n",
              "<style scoped>\n",
              "    .dataframe tbody tr th:only-of-type {\n",
              "        vertical-align: middle;\n",
              "    }\n",
              "\n",
              "    .dataframe tbody tr th {\n",
              "        vertical-align: top;\n",
              "    }\n",
              "\n",
              "    .dataframe thead th {\n",
              "        text-align: right;\n",
              "    }\n",
              "</style>\n",
              "<table border=\"1\" class=\"dataframe\">\n",
              "  <thead>\n",
              "    <tr style=\"text-align: right;\">\n",
              "      <th></th>\n",
              "      <th>Region</th>\n",
              "      <th>Country</th>\n",
              "      <th>Item Type</th>\n",
              "      <th>Sales Channel</th>\n",
              "      <th>Order Priority</th>\n",
              "      <th>Order Date</th>\n",
              "      <th>Order ID</th>\n",
              "      <th>Ship Date</th>\n",
              "      <th>Units Sold</th>\n",
              "      <th>Unit Price</th>\n",
              "      <th>Unit Cost</th>\n",
              "      <th>Total Revenue</th>\n",
              "      <th>Total Cost</th>\n",
              "      <th>Total Profit</th>\n",
              "    </tr>\n",
              "  </thead>\n",
              "  <tbody>\n",
              "    <tr>\n",
              "      <th>0</th>\n",
              "      <td>Sub-Saharan Africa</td>\n",
              "      <td>South Africa</td>\n",
              "      <td>Fruits</td>\n",
              "      <td>Offline</td>\n",
              "      <td>M</td>\n",
              "      <td>7/27/2012</td>\n",
              "      <td>443368995</td>\n",
              "      <td>7/28/2012</td>\n",
              "      <td>1593</td>\n",
              "      <td>9.33</td>\n",
              "      <td>6.92</td>\n",
              "      <td>14862.69</td>\n",
              "      <td>11023.56</td>\n",
              "      <td>3839.13</td>\n",
              "    </tr>\n",
              "    <tr>\n",
              "      <th>1</th>\n",
              "      <td>Middle East and North Africa</td>\n",
              "      <td>Morocco</td>\n",
              "      <td>Clothes</td>\n",
              "      <td>Online</td>\n",
              "      <td>M</td>\n",
              "      <td>9/14/2013</td>\n",
              "      <td>667593514</td>\n",
              "      <td>10/19/2013</td>\n",
              "      <td>4611</td>\n",
              "      <td>109.28</td>\n",
              "      <td>35.84</td>\n",
              "      <td>503890.08</td>\n",
              "      <td>165258.24</td>\n",
              "      <td>338631.84</td>\n",
              "    </tr>\n",
              "    <tr>\n",
              "      <th>2</th>\n",
              "      <td>Australia and Oceania</td>\n",
              "      <td>Papua New Guinea</td>\n",
              "      <td>Meat</td>\n",
              "      <td>Offline</td>\n",
              "      <td>M</td>\n",
              "      <td>5/15/2015</td>\n",
              "      <td>940995585</td>\n",
              "      <td>6/4/2015</td>\n",
              "      <td>360</td>\n",
              "      <td>421.89</td>\n",
              "      <td>364.69</td>\n",
              "      <td>151880.40</td>\n",
              "      <td>131288.40</td>\n",
              "      <td>20592.00</td>\n",
              "    </tr>\n",
              "    <tr>\n",
              "      <th>3</th>\n",
              "      <td>Sub-Saharan Africa</td>\n",
              "      <td>Djibouti</td>\n",
              "      <td>Clothes</td>\n",
              "      <td>Offline</td>\n",
              "      <td>H</td>\n",
              "      <td>5/17/2017</td>\n",
              "      <td>880811536</td>\n",
              "      <td>7/2/2017</td>\n",
              "      <td>562</td>\n",
              "      <td>109.28</td>\n",
              "      <td>35.84</td>\n",
              "      <td>61415.36</td>\n",
              "      <td>20142.08</td>\n",
              "      <td>41273.28</td>\n",
              "    </tr>\n",
              "    <tr>\n",
              "      <th>4</th>\n",
              "      <td>Europe</td>\n",
              "      <td>Slovakia</td>\n",
              "      <td>Beverages</td>\n",
              "      <td>Offline</td>\n",
              "      <td>L</td>\n",
              "      <td>10/26/2016</td>\n",
              "      <td>174590194</td>\n",
              "      <td>12/4/2016</td>\n",
              "      <td>3973</td>\n",
              "      <td>47.45</td>\n",
              "      <td>31.79</td>\n",
              "      <td>188518.85</td>\n",
              "      <td>126301.67</td>\n",
              "      <td>62217.18</td>\n",
              "    </tr>\n",
              "  </tbody>\n",
              "</table>\n",
              "</div>"
            ],
            "text/plain": [
              "                         Region           Country  Item Type Sales Channel  \\\n",
              "0            Sub-Saharan Africa      South Africa     Fruits       Offline   \n",
              "1  Middle East and North Africa           Morocco    Clothes        Online   \n",
              "2         Australia and Oceania  Papua New Guinea       Meat       Offline   \n",
              "3            Sub-Saharan Africa          Djibouti    Clothes       Offline   \n",
              "4                        Europe          Slovakia  Beverages       Offline   \n",
              "\n",
              "  Order Priority  Order Date   Order ID   Ship Date  Units Sold  Unit Price  \\\n",
              "0              M   7/27/2012  443368995   7/28/2012        1593        9.33   \n",
              "1              M   9/14/2013  667593514  10/19/2013        4611      109.28   \n",
              "2              M   5/15/2015  940995585    6/4/2015         360      421.89   \n",
              "3              H   5/17/2017  880811536    7/2/2017         562      109.28   \n",
              "4              L  10/26/2016  174590194   12/4/2016        3973       47.45   \n",
              "\n",
              "   Unit Cost  Total Revenue  Total Cost  Total Profit  \n",
              "0       6.92       14862.69    11023.56       3839.13  \n",
              "1      35.84      503890.08   165258.24     338631.84  \n",
              "2     364.69      151880.40   131288.40      20592.00  \n",
              "3      35.84       61415.36    20142.08      41273.28  \n",
              "4      31.79      188518.85   126301.67      62217.18  "
            ]
          },
          "execution_count": 2,
          "metadata": {},
          "output_type": "execute_result"
        }
      ],
      "source": [
        "df = pd.read_csv('data/1000000 Sales Records.csv')\n",
        "df.head()"
      ]
    },
    {
      "cell_type": "code",
      "execution_count": null,
      "metadata": {
        "id": "3d1yGwF1qLxh",
        "outputId": "6bfce15c-f176-45c0-c748-d525033856b1"
      },
      "outputs": [
        {
          "name": "stdout",
          "output_type": "stream",
          "text": [
            "<class 'pandas.core.frame.DataFrame'>\n",
            "RangeIndex: 1000000 entries, 0 to 999999\n",
            "Columns: 14 entries, Region to Total Profit\n",
            "dtypes: float64(5), int64(2), object(7)\n",
            "memory usage: 489.9 MB\n"
          ]
        }
      ],
      "source": [
        "df.info(verbose=False, memory_usage='deep')"
      ]
    },
    {
      "cell_type": "markdown",
      "metadata": {
        "id": "agyxN95_qLxh"
      },
      "source": [
        "## nrows"
      ]
    },
    {
      "cell_type": "code",
      "execution_count": null,
      "metadata": {
        "id": "WXo_hftlqLxh",
        "outputId": "c80029f7-2c4a-4c55-a890-06394115485b"
      },
      "outputs": [
        {
          "name": "stdout",
          "output_type": "stream",
          "text": [
            "<class 'pandas.core.frame.DataFrame'>\n",
            "RangeIndex: 1000 entries, 0 to 999\n",
            "Columns: 14 entries, Region to Total Profit\n",
            "dtypes: float64(5), int64(2), object(7)\n",
            "memory usage: 502.1 KB\n"
          ]
        }
      ],
      "source": [
        "df = pd.read_csv('data/1000000 Sales Records.csv', nrows=1000)\n",
        "df.info(verbose=False, memory_usage='deep')"
      ]
    },
    {
      "cell_type": "code",
      "execution_count": null,
      "metadata": {
        "id": "IwLqB4yzqLxh",
        "outputId": "689a0e2d-e6c7-429f-e154-1c9291fed4d4"
      },
      "outputs": [
        {
          "data": {
            "text/plain": [
              "array(['Region', 'Country', 'Item Type', 'Sales Channel',\n",
              "       'Order Priority', 'Order Date', 'Order ID', 'Ship Date',\n",
              "       'Units Sold', 'Unit Price', 'Unit Cost', 'Total Revenue',\n",
              "       'Total Cost', 'Total Profit'], dtype=object)"
            ]
          },
          "execution_count": 6,
          "metadata": {},
          "output_type": "execute_result"
        }
      ],
      "source": [
        "cols = df.columns.values\n",
        "cols"
      ]
    },
    {
      "cell_type": "code",
      "execution_count": null,
      "metadata": {
        "id": "bX1zvXi4qLxh"
      },
      "outputs": [],
      "source": [
        "req_cols = ['Region', 'Country', 'Item Type', 'Sales Channel',\n",
        "       'Order Priority',\n",
        "       'Units Sold', 'Unit Price', 'Unit Cost', 'Total Revenue',\n",
        "       'Total Cost', 'Total Profit']"
      ]
    },
    {
      "cell_type": "code",
      "execution_count": null,
      "metadata": {
        "id": "xwNWzPwsqLxh",
        "outputId": "e5b30d1d-0199-46cd-da1d-faa7db28109b"
      },
      "outputs": [
        {
          "data": {
            "text/html": [
              "<div>\n",
              "<style scoped>\n",
              "    .dataframe tbody tr th:only-of-type {\n",
              "        vertical-align: middle;\n",
              "    }\n",
              "\n",
              "    .dataframe tbody tr th {\n",
              "        vertical-align: top;\n",
              "    }\n",
              "\n",
              "    .dataframe thead th {\n",
              "        text-align: right;\n",
              "    }\n",
              "</style>\n",
              "<table border=\"1\" class=\"dataframe\">\n",
              "  <thead>\n",
              "    <tr style=\"text-align: right;\">\n",
              "      <th></th>\n",
              "      <th>Region</th>\n",
              "      <th>Country</th>\n",
              "      <th>Item Type</th>\n",
              "      <th>Sales Channel</th>\n",
              "      <th>Order Priority</th>\n",
              "      <th>Units Sold</th>\n",
              "      <th>Unit Price</th>\n",
              "      <th>Unit Cost</th>\n",
              "      <th>Total Revenue</th>\n",
              "      <th>Total Cost</th>\n",
              "      <th>Total Profit</th>\n",
              "    </tr>\n",
              "  </thead>\n",
              "  <tbody>\n",
              "    <tr>\n",
              "      <th>0</th>\n",
              "      <td>Sub-Saharan Africa</td>\n",
              "      <td>South Africa</td>\n",
              "      <td>Fruits</td>\n",
              "      <td>Offline</td>\n",
              "      <td>M</td>\n",
              "      <td>1593</td>\n",
              "      <td>9.33</td>\n",
              "      <td>6.92</td>\n",
              "      <td>14862.69</td>\n",
              "      <td>11023.56</td>\n",
              "      <td>3839.13</td>\n",
              "    </tr>\n",
              "    <tr>\n",
              "      <th>1</th>\n",
              "      <td>Middle East and North Africa</td>\n",
              "      <td>Morocco</td>\n",
              "      <td>Clothes</td>\n",
              "      <td>Online</td>\n",
              "      <td>M</td>\n",
              "      <td>4611</td>\n",
              "      <td>109.28</td>\n",
              "      <td>35.84</td>\n",
              "      <td>503890.08</td>\n",
              "      <td>165258.24</td>\n",
              "      <td>338631.84</td>\n",
              "    </tr>\n",
              "    <tr>\n",
              "      <th>2</th>\n",
              "      <td>Australia and Oceania</td>\n",
              "      <td>Papua New Guinea</td>\n",
              "      <td>Meat</td>\n",
              "      <td>Offline</td>\n",
              "      <td>M</td>\n",
              "      <td>360</td>\n",
              "      <td>421.89</td>\n",
              "      <td>364.69</td>\n",
              "      <td>151880.40</td>\n",
              "      <td>131288.40</td>\n",
              "      <td>20592.00</td>\n",
              "    </tr>\n",
              "    <tr>\n",
              "      <th>3</th>\n",
              "      <td>Sub-Saharan Africa</td>\n",
              "      <td>Djibouti</td>\n",
              "      <td>Clothes</td>\n",
              "      <td>Offline</td>\n",
              "      <td>H</td>\n",
              "      <td>562</td>\n",
              "      <td>109.28</td>\n",
              "      <td>35.84</td>\n",
              "      <td>61415.36</td>\n",
              "      <td>20142.08</td>\n",
              "      <td>41273.28</td>\n",
              "    </tr>\n",
              "    <tr>\n",
              "      <th>4</th>\n",
              "      <td>Europe</td>\n",
              "      <td>Slovakia</td>\n",
              "      <td>Beverages</td>\n",
              "      <td>Offline</td>\n",
              "      <td>L</td>\n",
              "      <td>3973</td>\n",
              "      <td>47.45</td>\n",
              "      <td>31.79</td>\n",
              "      <td>188518.85</td>\n",
              "      <td>126301.67</td>\n",
              "      <td>62217.18</td>\n",
              "    </tr>\n",
              "  </tbody>\n",
              "</table>\n",
              "</div>"
            ],
            "text/plain": [
              "                         Region           Country  Item Type Sales Channel  \\\n",
              "0            Sub-Saharan Africa      South Africa     Fruits       Offline   \n",
              "1  Middle East and North Africa           Morocco    Clothes        Online   \n",
              "2         Australia and Oceania  Papua New Guinea       Meat       Offline   \n",
              "3            Sub-Saharan Africa          Djibouti    Clothes       Offline   \n",
              "4                        Europe          Slovakia  Beverages       Offline   \n",
              "\n",
              "  Order Priority  Units Sold  Unit Price  Unit Cost  Total Revenue  \\\n",
              "0              M        1593        9.33       6.92       14862.69   \n",
              "1              M        4611      109.28      35.84      503890.08   \n",
              "2              M         360      421.89     364.69      151880.40   \n",
              "3              H         562      109.28      35.84       61415.36   \n",
              "4              L        3973       47.45      31.79      188518.85   \n",
              "\n",
              "   Total Cost  Total Profit  \n",
              "0    11023.56       3839.13  \n",
              "1   165258.24     338631.84  \n",
              "2   131288.40      20592.00  \n",
              "3    20142.08      41273.28  \n",
              "4   126301.67      62217.18  "
            ]
          },
          "execution_count": 8,
          "metadata": {},
          "output_type": "execute_result"
        }
      ],
      "source": [
        "df = pd.read_csv('data/1000000 Sales Records.csv', usecols=req_cols)\n",
        "df.head()"
      ]
    },
    {
      "cell_type": "code",
      "execution_count": null,
      "metadata": {
        "id": "Aa3wIgV7qLxh",
        "outputId": "24945f3a-a54a-4a77-c564-6d94e47cf4b8"
      },
      "outputs": [
        {
          "name": "stdout",
          "output_type": "stream",
          "text": [
            "<class 'pandas.core.frame.DataFrame'>\n",
            "RangeIndex: 1000000 entries, 0 to 999999\n",
            "Columns: 11 entries, Region to Total Profit\n",
            "dtypes: float64(5), int64(1), object(5)\n",
            "memory usage: 356.5 MB\n"
          ]
        }
      ],
      "source": [
        "df.info(verbose=False, memory_usage='deep')"
      ]
    },
    {
      "cell_type": "markdown",
      "metadata": {
        "id": "uyNPSMSNqLxh"
      },
      "source": [
        "## Convert Datatype of the Columns"
      ]
    },
    {
      "cell_type": "code",
      "execution_count": null,
      "metadata": {
        "id": "JubFENQjqLxh",
        "outputId": "2fa9f284-2693-4aab-da1b-48776fcfca00"
      },
      "outputs": [
        {
          "data": {
            "text/html": [
              "<div>\n",
              "<style scoped>\n",
              "    .dataframe tbody tr th:only-of-type {\n",
              "        vertical-align: middle;\n",
              "    }\n",
              "\n",
              "    .dataframe tbody tr th {\n",
              "        vertical-align: top;\n",
              "    }\n",
              "\n",
              "    .dataframe thead th {\n",
              "        text-align: right;\n",
              "    }\n",
              "</style>\n",
              "<table border=\"1\" class=\"dataframe\">\n",
              "  <thead>\n",
              "    <tr style=\"text-align: right;\">\n",
              "      <th></th>\n",
              "      <th>Units Sold</th>\n",
              "      <th>Unit Price</th>\n",
              "      <th>Unit Cost</th>\n",
              "      <th>Total Revenue</th>\n",
              "      <th>Total Cost</th>\n",
              "      <th>Total Profit</th>\n",
              "    </tr>\n",
              "  </thead>\n",
              "  <tbody>\n",
              "    <tr>\n",
              "      <th>count</th>\n",
              "      <td>1000000.000000</td>\n",
              "      <td>1000000.000000</td>\n",
              "      <td>1000000.000000</td>\n",
              "      <td>1.000000e+06</td>\n",
              "      <td>1.000000e+06</td>\n",
              "      <td>1.000000e+06</td>\n",
              "    </tr>\n",
              "    <tr>\n",
              "      <th>mean</th>\n",
              "      <td>4998.867302</td>\n",
              "      <td>266.025488</td>\n",
              "      <td>187.522978</td>\n",
              "      <td>1.329563e+06</td>\n",
              "      <td>9.372671e+05</td>\n",
              "      <td>3.922956e+05</td>\n",
              "    </tr>\n",
              "    <tr>\n",
              "      <th>std</th>\n",
              "      <td>2885.334142</td>\n",
              "      <td>216.987966</td>\n",
              "      <td>175.650798</td>\n",
              "      <td>1.468527e+06</td>\n",
              "      <td>1.148954e+06</td>\n",
              "      <td>3.788199e+05</td>\n",
              "    </tr>\n",
              "    <tr>\n",
              "      <th>min</th>\n",
              "      <td>1.000000</td>\n",
              "      <td>9.330000</td>\n",
              "      <td>6.920000</td>\n",
              "      <td>9.330000e+00</td>\n",
              "      <td>6.920000e+00</td>\n",
              "      <td>2.410000e+00</td>\n",
              "    </tr>\n",
              "    <tr>\n",
              "      <th>25%</th>\n",
              "      <td>2502.000000</td>\n",
              "      <td>81.730000</td>\n",
              "      <td>35.840000</td>\n",
              "      <td>2.778672e+05</td>\n",
              "      <td>1.617289e+05</td>\n",
              "      <td>9.510480e+04</td>\n",
              "    </tr>\n",
              "    <tr>\n",
              "      <th>50%</th>\n",
              "      <td>4998.000000</td>\n",
              "      <td>154.060000</td>\n",
              "      <td>97.440000</td>\n",
              "      <td>7.844445e+05</td>\n",
              "      <td>4.667818e+05</td>\n",
              "      <td>2.810549e+05</td>\n",
              "    </tr>\n",
              "    <tr>\n",
              "      <th>75%</th>\n",
              "      <td>7496.000000</td>\n",
              "      <td>421.890000</td>\n",
              "      <td>263.330000</td>\n",
              "      <td>1.822444e+06</td>\n",
              "      <td>1.196327e+06</td>\n",
              "      <td>5.653076e+05</td>\n",
              "    </tr>\n",
              "    <tr>\n",
              "      <th>max</th>\n",
              "      <td>10000.000000</td>\n",
              "      <td>668.270000</td>\n",
              "      <td>524.960000</td>\n",
              "      <td>6.682700e+06</td>\n",
              "      <td>5.249600e+06</td>\n",
              "      <td>1.738700e+06</td>\n",
              "    </tr>\n",
              "  </tbody>\n",
              "</table>\n",
              "</div>"
            ],
            "text/plain": [
              "           Units Sold      Unit Price       Unit Cost  Total Revenue  \\\n",
              "count  1000000.000000  1000000.000000  1000000.000000   1.000000e+06   \n",
              "mean      4998.867302      266.025488      187.522978   1.329563e+06   \n",
              "std       2885.334142      216.987966      175.650798   1.468527e+06   \n",
              "min          1.000000        9.330000        6.920000   9.330000e+00   \n",
              "25%       2502.000000       81.730000       35.840000   2.778672e+05   \n",
              "50%       4998.000000      154.060000       97.440000   7.844445e+05   \n",
              "75%       7496.000000      421.890000      263.330000   1.822444e+06   \n",
              "max      10000.000000      668.270000      524.960000   6.682700e+06   \n",
              "\n",
              "         Total Cost  Total Profit  \n",
              "count  1.000000e+06  1.000000e+06  \n",
              "mean   9.372671e+05  3.922956e+05  \n",
              "std    1.148954e+06  3.788199e+05  \n",
              "min    6.920000e+00  2.410000e+00  \n",
              "25%    1.617289e+05  9.510480e+04  \n",
              "50%    4.667818e+05  2.810549e+05  \n",
              "75%    1.196327e+06  5.653076e+05  \n",
              "max    5.249600e+06  1.738700e+06  "
            ]
          },
          "execution_count": 10,
          "metadata": {},
          "output_type": "execute_result"
        }
      ],
      "source": [
        "df.describe()"
      ]
    },
    {
      "cell_type": "code",
      "execution_count": null,
      "metadata": {
        "id": "0bEwcPJ7qLxi"
      },
      "outputs": [],
      "source": [
        "for col in df.columns:\n",
        "    if df[col].dtype == 'float64':\n",
        "        df[col] = df[col].astype('float16')\n",
        "    if df[col].dtype == 'int64':\n",
        "        df[col] = df[col].astype('int16')\n",
        "    if df[col].dtype == 'object':\n",
        "        df[col] = df[col].astype('category')"
      ]
    },
    {
      "cell_type": "code",
      "execution_count": null,
      "metadata": {
        "id": "pj8DkMynqLxi",
        "outputId": "19782059-b15d-40dd-a047-fa5a98e6fb6d"
      },
      "outputs": [
        {
          "name": "stdout",
          "output_type": "stream",
          "text": [
            "<class 'pandas.core.frame.DataFrame'>\n",
            "RangeIndex: 1000000 entries, 0 to 999999\n",
            "Columns: 11 entries, Region to Total Profit\n",
            "dtypes: category(5), float16(5), int16(1)\n",
            "memory usage: 17.2 MB\n"
          ]
        }
      ],
      "source": [
        "df.info(verbose=False, memory_usage='deep')"
      ]
    },
    {
      "cell_type": "code",
      "execution_count": null,
      "metadata": {
        "id": "gezWDMu7qLxi",
        "outputId": "40865fb8-a7ce-41b5-8b5d-49036e35a91c"
      },
      "outputs": [
        {
          "name": "stdout",
          "output_type": "stream",
          "text": [
            "<class 'pandas.core.frame.DataFrame'>\n",
            "RangeIndex: 1000000 entries, 0 to 999999\n",
            "Columns: 11 entries, Region to Total Profit\n",
            "dtypes: category(1), float64(5), int16(1), object(4)\n",
            "memory usage: 282.3 MB\n"
          ]
        }
      ],
      "source": [
        "df = pd.read_csv('data/1000000 Sales Records.csv', usecols=req_cols, dtype={'Region': 'category', 'Units Sold': 'int16'})\n",
        "df.info(verbose=False, memory_usage='deep')"
      ]
    },
    {
      "cell_type": "markdown",
      "metadata": {
        "id": "Ss-GnXqDqLxi"
      },
      "source": [
        "## Load Dataset Faster using chunks"
      ]
    },
    {
      "cell_type": "code",
      "execution_count": null,
      "metadata": {
        "id": "a908XV_QqLxi",
        "outputId": "44594681-c4cb-4b62-a474-f6834fa9d283"
      },
      "outputs": [
        {
          "name": "stdout",
          "output_type": "stream",
          "text": [
            "Wall time: 2.1 s\n"
          ]
        },
        {
          "data": {
            "text/plain": [
              "1000000"
            ]
          },
          "execution_count": 17,
          "metadata": {},
          "output_type": "execute_result"
        }
      ],
      "source": [
        "%%time\n",
        "df = pd.read_csv('data/1000000 Sales Records.csv')\n",
        "len(df)"
      ]
    },
    {
      "cell_type": "code",
      "execution_count": null,
      "metadata": {
        "id": "u5gpk-lGqLxi",
        "outputId": "e9887a91-871f-475b-bab8-1f8d5b7701d3"
      },
      "outputs": [
        {
          "name": "stdout",
          "output_type": "stream",
          "text": [
            "Wall time: 5.01 ms\n"
          ]
        }
      ],
      "source": [
        "%%time\n",
        "chunks = pd.read_csv('data/1000000 Sales Records.csv', iterator=True, chunksize=1000)\n",
        "# df = pd.concat(chunks, ignore_index=True)\n",
        "# df.head()"
      ]
    },
    {
      "cell_type": "code",
      "execution_count": null,
      "metadata": {
        "id": "27PkGdtVqLxi",
        "outputId": "1068f355-dc1b-4821-a024-b7984e6be64a"
      },
      "outputs": [
        {
          "data": {
            "text/plain": [
              "1000000"
            ]
          },
          "execution_count": 20,
          "metadata": {},
          "output_type": "execute_result"
        }
      ],
      "source": [
        "length = 0\n",
        "for chunk in chunks:\n",
        "    length += len(chunk)\n",
        "length"
      ]
    }
  ],
  "metadata": {
    "kernelspec": {
      "display_name": "Python 3",
      "language": "python",
      "name": "python3"
    },
    "language_info": {
      "codemirror_mode": {
        "name": "ipython",
        "version": 3
      },
      "file_extension": ".py",
      "mimetype": "text/x-python",
      "name": "python",
      "nbconvert_exporter": "python",
      "pygments_lexer": "ipython3",
      "version": "3.8.3"
    },
    "colab": {
      "provenance": [],
      "toc_visible": true,
      "include_colab_link": true
    }
  },
  "nbformat": 4,
  "nbformat_minor": 0
}