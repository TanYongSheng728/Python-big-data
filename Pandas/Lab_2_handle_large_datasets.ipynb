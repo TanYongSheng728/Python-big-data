{
  "cells": [
    {
      "cell_type": "markdown",
      "metadata": {
        "id": "view-in-github",
        "colab_type": "text"
      },
      "source": [
        "<a href=\"https://colab.research.google.com/github/drshahizan/Python_Tutorial/blob/main/big%20data/Lab_2_handle_large_datasets.ipynb\" target=\"_parent\"><img src=\"https://colab.research.google.com/assets/colab-badge.svg\" alt=\"Open In Colab\"/></a>"
      ]
    },
    {
      "cell_type": "markdown",
      "source": [
        "##Group Members:\n",
        "1. Mikhel Adam A20EC0237\n",
        "2. Ahmad Muhaimin A20EC0006"
      ],
      "metadata": {
        "id": "0Sg0UnCDE30y"
      }
    },
    {
      "cell_type": "markdown",
      "source": [
        "# How to handle large datasets in Python with Pandas"
      ],
      "metadata": {
        "id": "vbOaO8M5Dj7r"
      }
    },
    {
      "cell_type": "markdown",
      "source": [
        "**Dataset**: [NYC Yellow Taxi Trip Data](https://https://www.kaggle.com/datasets/elemento/nyc-yellow-taxi-trip-data)\n",
        "\n",
        "New York City (NYC) Taxi & Limousine Commission (TLC) keeps data from all its cabs, and it is freely available to download from its official website. Now, the TLC primarily keeps and manages data for 4 different types of vehicles:\n",
        "\n",
        "1. Yellow Taxi: Yellow Medallion Taxicabs: These are the famous NYC yellow taxis that provide transportation exclusively through street hails. The number of taxicabs is limited by a finite number of medallions issued by the TLC. You access this mode of transportation by standing in the street and hailing an available taxi with your hand. The pickups are not pre-arranged.\n",
        "2. Green Taxi: Street Hail Livery: The SHL program will allow livery vehicle owners to license and outfit their vehicles with green borough taxi branding, meters, credit card machines, and ultimately the right to accept street hails in addition to pre-arranged rides.\n",
        "3. For-Hire Vehicles (FHVs): FHV transportation is accessed by a pre-arrangement with a dispatcher or limo company. These FHVs are not permitted to pick up passengers via street hails, as those rides are not considered pre-arranged.\n",
        "\n",
        "**Important Points**\n",
        "\n",
        "In this dataset, we are considering only the Yellow Taxis Data, for the months of Jan 2015 & Jan-mar 2016.\n",
        "If you go over to the website of NYC TLC, and download any of the CSV files, you will find a different format of these files. This is because, the TLC regularly adds more data, alongside updating the existing one.\n",
        "One of the key changes that they have made to their data is that, instead of providing the pickup & dropoff coordinates, they have divided the NYC into regions and indexed those regions, and in the CSV files, they have provided these indices.\n",
        "Due to this reason only, I have made this dataset using the previous version of the CSV files. This dataset allows me to practice my clustering knowledge alongside my time-series knowledge.\n",
        "If you want to leave out the clustering part, then just go over to their website, and download the new CSV files."
      ],
      "metadata": {
        "id": "fFKD_j7rD0xi"
      }
    },
    {
      "cell_type": "markdown",
      "source": [
        "# Techniques to handle large datasets\n",
        "\n",
        "We will be using NYC Yellow Taxi Trip Data for the year 2016. The size of the dataset is around 1.5 GB which is good enough to explain the below techniques."
      ],
      "metadata": {
        "id": "kd0UseeWEtke"
      }
    },
    {
      "cell_type": "code",
      "source": [
        " !pip install -q kaggle"
      ],
      "metadata": {
        "id": "tohI5QqJrhJ0"
      },
      "execution_count": null,
      "outputs": []
    },
    {
      "cell_type": "code",
      "source": [
        "from google.colab import files\n",
        "\n",
        "files.upload()"
      ],
      "metadata": {
        "colab": {
          "base_uri": "https://localhost:8080/",
          "height": 92
        },
        "id": "uLBsIb4druqg",
        "outputId": "58b6a044-1dd5-4e1a-fff3-e0dd1b5cbd72"
      },
      "execution_count": null,
      "outputs": [
        {
          "output_type": "display_data",
          "data": {
            "text/plain": [
              "<IPython.core.display.HTML object>"
            ],
            "text/html": [
              "\n",
              "     <input type=\"file\" id=\"files-0585c193-538a-4dcf-bd09-0fa9a4c31524\" name=\"files[]\" multiple disabled\n",
              "        style=\"border:none\" />\n",
              "     <output id=\"result-0585c193-538a-4dcf-bd09-0fa9a4c31524\">\n",
              "      Upload widget is only available when the cell has been executed in the\n",
              "      current browser session. Please rerun this cell to enable.\n",
              "      </output>\n",
              "      <script>// Copyright 2017 Google LLC\n",
              "//\n",
              "// Licensed under the Apache License, Version 2.0 (the \"License\");\n",
              "// you may not use this file except in compliance with the License.\n",
              "// You may obtain a copy of the License at\n",
              "//\n",
              "//      http://www.apache.org/licenses/LICENSE-2.0\n",
              "//\n",
              "// Unless required by applicable law or agreed to in writing, software\n",
              "// distributed under the License is distributed on an \"AS IS\" BASIS,\n",
              "// WITHOUT WARRANTIES OR CONDITIONS OF ANY KIND, either express or implied.\n",
              "// See the License for the specific language governing permissions and\n",
              "// limitations under the License.\n",
              "\n",
              "/**\n",
              " * @fileoverview Helpers for google.colab Python module.\n",
              " */\n",
              "(function(scope) {\n",
              "function span(text, styleAttributes = {}) {\n",
              "  const element = document.createElement('span');\n",
              "  element.textContent = text;\n",
              "  for (const key of Object.keys(styleAttributes)) {\n",
              "    element.style[key] = styleAttributes[key];\n",
              "  }\n",
              "  return element;\n",
              "}\n",
              "\n",
              "// Max number of bytes which will be uploaded at a time.\n",
              "const MAX_PAYLOAD_SIZE = 100 * 1024;\n",
              "\n",
              "function _uploadFiles(inputId, outputId) {\n",
              "  const steps = uploadFilesStep(inputId, outputId);\n",
              "  const outputElement = document.getElementById(outputId);\n",
              "  // Cache steps on the outputElement to make it available for the next call\n",
              "  // to uploadFilesContinue from Python.\n",
              "  outputElement.steps = steps;\n",
              "\n",
              "  return _uploadFilesContinue(outputId);\n",
              "}\n",
              "\n",
              "// This is roughly an async generator (not supported in the browser yet),\n",
              "// where there are multiple asynchronous steps and the Python side is going\n",
              "// to poll for completion of each step.\n",
              "// This uses a Promise to block the python side on completion of each step,\n",
              "// then passes the result of the previous step as the input to the next step.\n",
              "function _uploadFilesContinue(outputId) {\n",
              "  const outputElement = document.getElementById(outputId);\n",
              "  const steps = outputElement.steps;\n",
              "\n",
              "  const next = steps.next(outputElement.lastPromiseValue);\n",
              "  return Promise.resolve(next.value.promise).then((value) => {\n",
              "    // Cache the last promise value to make it available to the next\n",
              "    // step of the generator.\n",
              "    outputElement.lastPromiseValue = value;\n",
              "    return next.value.response;\n",
              "  });\n",
              "}\n",
              "\n",
              "/**\n",
              " * Generator function which is called between each async step of the upload\n",
              " * process.\n",
              " * @param {string} inputId Element ID of the input file picker element.\n",
              " * @param {string} outputId Element ID of the output display.\n",
              " * @return {!Iterable<!Object>} Iterable of next steps.\n",
              " */\n",
              "function* uploadFilesStep(inputId, outputId) {\n",
              "  const inputElement = document.getElementById(inputId);\n",
              "  inputElement.disabled = false;\n",
              "\n",
              "  const outputElement = document.getElementById(outputId);\n",
              "  outputElement.innerHTML = '';\n",
              "\n",
              "  const pickedPromise = new Promise((resolve) => {\n",
              "    inputElement.addEventListener('change', (e) => {\n",
              "      resolve(e.target.files);\n",
              "    });\n",
              "  });\n",
              "\n",
              "  const cancel = document.createElement('button');\n",
              "  inputElement.parentElement.appendChild(cancel);\n",
              "  cancel.textContent = 'Cancel upload';\n",
              "  const cancelPromise = new Promise((resolve) => {\n",
              "    cancel.onclick = () => {\n",
              "      resolve(null);\n",
              "    };\n",
              "  });\n",
              "\n",
              "  // Wait for the user to pick the files.\n",
              "  const files = yield {\n",
              "    promise: Promise.race([pickedPromise, cancelPromise]),\n",
              "    response: {\n",
              "      action: 'starting',\n",
              "    }\n",
              "  };\n",
              "\n",
              "  cancel.remove();\n",
              "\n",
              "  // Disable the input element since further picks are not allowed.\n",
              "  inputElement.disabled = true;\n",
              "\n",
              "  if (!files) {\n",
              "    return {\n",
              "      response: {\n",
              "        action: 'complete',\n",
              "      }\n",
              "    };\n",
              "  }\n",
              "\n",
              "  for (const file of files) {\n",
              "    const li = document.createElement('li');\n",
              "    li.append(span(file.name, {fontWeight: 'bold'}));\n",
              "    li.append(span(\n",
              "        `(${file.type || 'n/a'}) - ${file.size} bytes, ` +\n",
              "        `last modified: ${\n",
              "            file.lastModifiedDate ? file.lastModifiedDate.toLocaleDateString() :\n",
              "                                    'n/a'} - `));\n",
              "    const percent = span('0% done');\n",
              "    li.appendChild(percent);\n",
              "\n",
              "    outputElement.appendChild(li);\n",
              "\n",
              "    const fileDataPromise = new Promise((resolve) => {\n",
              "      const reader = new FileReader();\n",
              "      reader.onload = (e) => {\n",
              "        resolve(e.target.result);\n",
              "      };\n",
              "      reader.readAsArrayBuffer(file);\n",
              "    });\n",
              "    // Wait for the data to be ready.\n",
              "    let fileData = yield {\n",
              "      promise: fileDataPromise,\n",
              "      response: {\n",
              "        action: 'continue',\n",
              "      }\n",
              "    };\n",
              "\n",
              "    // Use a chunked sending to avoid message size limits. See b/62115660.\n",
              "    let position = 0;\n",
              "    do {\n",
              "      const length = Math.min(fileData.byteLength - position, MAX_PAYLOAD_SIZE);\n",
              "      const chunk = new Uint8Array(fileData, position, length);\n",
              "      position += length;\n",
              "\n",
              "      const base64 = btoa(String.fromCharCode.apply(null, chunk));\n",
              "      yield {\n",
              "        response: {\n",
              "          action: 'append',\n",
              "          file: file.name,\n",
              "          data: base64,\n",
              "        },\n",
              "      };\n",
              "\n",
              "      let percentDone = fileData.byteLength === 0 ?\n",
              "          100 :\n",
              "          Math.round((position / fileData.byteLength) * 100);\n",
              "      percent.textContent = `${percentDone}% done`;\n",
              "\n",
              "    } while (position < fileData.byteLength);\n",
              "  }\n",
              "\n",
              "  // All done.\n",
              "  yield {\n",
              "    response: {\n",
              "      action: 'complete',\n",
              "    }\n",
              "  };\n",
              "}\n",
              "\n",
              "scope.google = scope.google || {};\n",
              "scope.google.colab = scope.google.colab || {};\n",
              "scope.google.colab._files = {\n",
              "  _uploadFiles,\n",
              "  _uploadFilesContinue,\n",
              "};\n",
              "})(self);\n",
              "</script> "
            ]
          },
          "metadata": {}
        },
        {
          "output_type": "stream",
          "name": "stdout",
          "text": [
            "Saving kaggle.json to kaggle.json\n"
          ]
        },
        {
          "output_type": "execute_result",
          "data": {
            "text/plain": [
              "{'kaggle.json': b'{\"username\":\"mikheladam\",\"key\":\"970932353077db859690dcdffdf629d4\"}'}"
            ]
          },
          "metadata": {},
          "execution_count": 2
        }
      ]
    },
    {
      "cell_type": "code",
      "source": [
        "!mkdir -p ~/.kaggle\n",
        "!cp kaggle.json ~/.kaggle/\n",
        "!kaggle datasets download -d elemento/nyc-yellow-taxi-trip-data #link to download dataset"
      ],
      "metadata": {
        "id": "juXDrl9jr6Et",
        "colab": {
          "base_uri": "https://localhost:8080/"
        },
        "outputId": "e100a18c-b9b5-4d54-add9-b50c72ceb1c9"
      },
      "execution_count": null,
      "outputs": [
        {
          "output_type": "stream",
          "name": "stdout",
          "text": [
            "Warning: Your Kaggle API key is readable by other users on this system! To fix this, you can run 'chmod 600 /root/.kaggle/kaggle.json'\n",
            "Downloading nyc-yellow-taxi-trip-data.zip to /content\n",
            "100% 1.78G/1.78G [00:08<00:00, 221MB/s]\n",
            "100% 1.78G/1.78G [00:08<00:00, 235MB/s]\n"
          ]
        }
      ]
    },
    {
      "cell_type": "code",
      "source": [
        "!unzip nyc-yellow-taxi-trip-data.zip #unzip the downloaded dataset"
      ],
      "metadata": {
        "colab": {
          "base_uri": "https://localhost:8080/"
        },
        "id": "Htarz8LXP6k3",
        "outputId": "19e393de-d31a-4d40-ba9c-fb2e2e335330"
      },
      "execution_count": null,
      "outputs": [
        {
          "output_type": "stream",
          "name": "stdout",
          "text": [
            "Archive:  nyc-yellow-taxi-trip-data.zip\n",
            "  inflating: yellow_tripdata_2015-01.csv  \n",
            "  inflating: yellow_tripdata_2016-01.csv  \n",
            "  inflating: yellow_tripdata_2016-02.csv  \n",
            "  inflating: yellow_tripdata_2016-03.csv  \n"
          ]
        }
      ]
    },
    {
      "cell_type": "code",
      "source": [
        "import pandas as pd\n",
        "import random as rd"
      ],
      "metadata": {
        "id": "gfHpbmwgs7qe"
      },
      "execution_count": null,
      "outputs": []
    },
    {
      "cell_type": "markdown",
      "source": [
        "##Sampling"
      ],
      "metadata": {
        "id": "9k09cOglysL0"
      }
    },
    {
      "cell_type": "code",
      "source": [
        "filename = \"yellow_tripdata_2016-01.csv\" \n",
        "n = sum(1 for line in open(filename))-1  # Calculate number of rows in file\n",
        "s = n//10  # sample size of 10%\n",
        "skip = sorted(rd.sample(range(1, n+1), n-s))  # n+1 to compensate for header \n",
        "df_sample = pd.read_csv(filename, skiprows=skip)\n",
        "df_sample # 1,090,685 rows"
      ],
      "metadata": {
        "colab": {
          "base_uri": "https://localhost:8080/",
          "height": 488
        },
        "id": "9FKAIfmgsvrC",
        "outputId": "457bdcdc-ed62-4818-fa3f-ab8659aece24"
      },
      "execution_count": null,
      "outputs": [
        {
          "output_type": "execute_result",
          "data": {
            "text/plain": [
              "         VendorID tpep_pickup_datetime tpep_dropoff_datetime  passenger_count  \\\n",
              "0               2  2016-01-01 00:00:00   2016-01-01 00:00:00                1   \n",
              "1               2  2016-01-01 00:00:03   2016-01-01 00:06:19                1   \n",
              "2               2  2016-01-01 00:00:08   2016-01-01 00:04:37                1   \n",
              "3               1  2016-01-01 00:00:09   2016-01-01 00:07:18                2   \n",
              "4               1  2016-01-01 00:00:16   2016-01-01 00:33:00                2   \n",
              "...           ...                  ...                   ...              ...   \n",
              "1090680         2  2016-01-30 10:31:36   2016-01-30 10:55:05                6   \n",
              "1090681         2  2016-01-30 11:01:39   2016-01-30 11:18:11                6   \n",
              "1090682         2  2016-01-30 21:13:30   2016-01-30 21:19:19                1   \n",
              "1090683         2  2016-01-31 02:57:08   2016-01-31 03:04:54                2   \n",
              "1090684         1  2016-01-05 06:21:44   2016-03-28 12:54:26                1   \n",
              "\n",
              "         trip_distance  pickup_longitude  pickup_latitude  RatecodeID  \\\n",
              "0                 4.75        -73.993469        40.718990           1   \n",
              "1                 0.79        -74.006149        40.744919           1   \n",
              "2                 0.72        -73.997139        40.747219           1   \n",
              "3                 1.20        -73.963913        40.712173           1   \n",
              "4                 2.90        -73.982155        40.774879           1   \n",
              "...                ...               ...              ...         ...   \n",
              "1090680           6.11        -74.017242        40.704868           1   \n",
              "1090681           4.49        -73.972321        40.756378           1   \n",
              "1090682           1.35        -73.952698        40.776508           1   \n",
              "1090683           0.97        -73.985603        40.718128           1   \n",
              "1090684           2.10        -73.948067        40.776531           1   \n",
              "\n",
              "        store_and_fwd_flag  dropoff_longitude  dropoff_latitude  payment_type  \\\n",
              "0                        N         -73.962242         40.657333             2   \n",
              "1                        N         -73.993797         40.741440             2   \n",
              "2                        N         -74.004486         40.751797             2   \n",
              "3                        N         -73.951332         40.712200             2   \n",
              "4                        N         -73.981361         40.744114             2   \n",
              "...                    ...                ...               ...           ...   \n",
              "1090680                  N         -73.973282         40.764500             2   \n",
              "1090681                  N         -74.000816         40.725868             1   \n",
              "1090682                  N         -73.965286         40.759640             1   \n",
              "1090683                  N         -73.988441         40.727879             1   \n",
              "1090684                  N         -73.978188         40.777435             1   \n",
              "\n",
              "         fare_amount  extra  mta_tax  tip_amount  tolls_amount  \\\n",
              "0               16.5    0.0      0.5        0.00           0.0   \n",
              "1                6.0    0.5      0.5        0.00           0.0   \n",
              "2                5.0    0.5      0.5        0.00           0.0   \n",
              "3                7.0    0.5      0.5        0.00           0.0   \n",
              "4               20.5    0.5      0.5        0.00           0.0   \n",
              "...              ...    ...      ...         ...           ...   \n",
              "1090680         22.0    0.0      0.5        0.00           0.0   \n",
              "1090681         16.5    0.0      0.5        3.46           0.0   \n",
              "1090682          6.5    0.5      0.5        1.56           0.0   \n",
              "1090683          6.5    0.5      0.5        1.20           0.0   \n",
              "1090684         11.5    0.0      0.5        2.45           0.0   \n",
              "\n",
              "         improvement_surcharge  total_amount  \n",
              "0                          0.3         17.30  \n",
              "1                          0.3          7.30  \n",
              "2                          0.3          6.30  \n",
              "3                          0.3          8.30  \n",
              "4                          0.3         21.80  \n",
              "...                        ...           ...  \n",
              "1090680                    0.3         22.80  \n",
              "1090681                    0.3         20.76  \n",
              "1090682                    0.3          9.36  \n",
              "1090683                    0.3          9.00  \n",
              "1090684                    0.3         14.75  \n",
              "\n",
              "[1090685 rows x 19 columns]"
            ],
            "text/html": [
              "\n",
              "  <div id=\"df-f2b957c3-a445-4cb1-aeef-f2f8628db861\">\n",
              "    <div class=\"colab-df-container\">\n",
              "      <div>\n",
              "<style scoped>\n",
              "    .dataframe tbody tr th:only-of-type {\n",
              "        vertical-align: middle;\n",
              "    }\n",
              "\n",
              "    .dataframe tbody tr th {\n",
              "        vertical-align: top;\n",
              "    }\n",
              "\n",
              "    .dataframe thead th {\n",
              "        text-align: right;\n",
              "    }\n",
              "</style>\n",
              "<table border=\"1\" class=\"dataframe\">\n",
              "  <thead>\n",
              "    <tr style=\"text-align: right;\">\n",
              "      <th></th>\n",
              "      <th>VendorID</th>\n",
              "      <th>tpep_pickup_datetime</th>\n",
              "      <th>tpep_dropoff_datetime</th>\n",
              "      <th>passenger_count</th>\n",
              "      <th>trip_distance</th>\n",
              "      <th>pickup_longitude</th>\n",
              "      <th>pickup_latitude</th>\n",
              "      <th>RatecodeID</th>\n",
              "      <th>store_and_fwd_flag</th>\n",
              "      <th>dropoff_longitude</th>\n",
              "      <th>dropoff_latitude</th>\n",
              "      <th>payment_type</th>\n",
              "      <th>fare_amount</th>\n",
              "      <th>extra</th>\n",
              "      <th>mta_tax</th>\n",
              "      <th>tip_amount</th>\n",
              "      <th>tolls_amount</th>\n",
              "      <th>improvement_surcharge</th>\n",
              "      <th>total_amount</th>\n",
              "    </tr>\n",
              "  </thead>\n",
              "  <tbody>\n",
              "    <tr>\n",
              "      <th>0</th>\n",
              "      <td>2</td>\n",
              "      <td>2016-01-01 00:00:00</td>\n",
              "      <td>2016-01-01 00:00:00</td>\n",
              "      <td>1</td>\n",
              "      <td>4.75</td>\n",
              "      <td>-73.993469</td>\n",
              "      <td>40.718990</td>\n",
              "      <td>1</td>\n",
              "      <td>N</td>\n",
              "      <td>-73.962242</td>\n",
              "      <td>40.657333</td>\n",
              "      <td>2</td>\n",
              "      <td>16.5</td>\n",
              "      <td>0.0</td>\n",
              "      <td>0.5</td>\n",
              "      <td>0.00</td>\n",
              "      <td>0.0</td>\n",
              "      <td>0.3</td>\n",
              "      <td>17.30</td>\n",
              "    </tr>\n",
              "    <tr>\n",
              "      <th>1</th>\n",
              "      <td>2</td>\n",
              "      <td>2016-01-01 00:00:03</td>\n",
              "      <td>2016-01-01 00:06:19</td>\n",
              "      <td>1</td>\n",
              "      <td>0.79</td>\n",
              "      <td>-74.006149</td>\n",
              "      <td>40.744919</td>\n",
              "      <td>1</td>\n",
              "      <td>N</td>\n",
              "      <td>-73.993797</td>\n",
              "      <td>40.741440</td>\n",
              "      <td>2</td>\n",
              "      <td>6.0</td>\n",
              "      <td>0.5</td>\n",
              "      <td>0.5</td>\n",
              "      <td>0.00</td>\n",
              "      <td>0.0</td>\n",
              "      <td>0.3</td>\n",
              "      <td>7.30</td>\n",
              "    </tr>\n",
              "    <tr>\n",
              "      <th>2</th>\n",
              "      <td>2</td>\n",
              "      <td>2016-01-01 00:00:08</td>\n",
              "      <td>2016-01-01 00:04:37</td>\n",
              "      <td>1</td>\n",
              "      <td>0.72</td>\n",
              "      <td>-73.997139</td>\n",
              "      <td>40.747219</td>\n",
              "      <td>1</td>\n",
              "      <td>N</td>\n",
              "      <td>-74.004486</td>\n",
              "      <td>40.751797</td>\n",
              "      <td>2</td>\n",
              "      <td>5.0</td>\n",
              "      <td>0.5</td>\n",
              "      <td>0.5</td>\n",
              "      <td>0.00</td>\n",
              "      <td>0.0</td>\n",
              "      <td>0.3</td>\n",
              "      <td>6.30</td>\n",
              "    </tr>\n",
              "    <tr>\n",
              "      <th>3</th>\n",
              "      <td>1</td>\n",
              "      <td>2016-01-01 00:00:09</td>\n",
              "      <td>2016-01-01 00:07:18</td>\n",
              "      <td>2</td>\n",
              "      <td>1.20</td>\n",
              "      <td>-73.963913</td>\n",
              "      <td>40.712173</td>\n",
              "      <td>1</td>\n",
              "      <td>N</td>\n",
              "      <td>-73.951332</td>\n",
              "      <td>40.712200</td>\n",
              "      <td>2</td>\n",
              "      <td>7.0</td>\n",
              "      <td>0.5</td>\n",
              "      <td>0.5</td>\n",
              "      <td>0.00</td>\n",
              "      <td>0.0</td>\n",
              "      <td>0.3</td>\n",
              "      <td>8.30</td>\n",
              "    </tr>\n",
              "    <tr>\n",
              "      <th>4</th>\n",
              "      <td>1</td>\n",
              "      <td>2016-01-01 00:00:16</td>\n",
              "      <td>2016-01-01 00:33:00</td>\n",
              "      <td>2</td>\n",
              "      <td>2.90</td>\n",
              "      <td>-73.982155</td>\n",
              "      <td>40.774879</td>\n",
              "      <td>1</td>\n",
              "      <td>N</td>\n",
              "      <td>-73.981361</td>\n",
              "      <td>40.744114</td>\n",
              "      <td>2</td>\n",
              "      <td>20.5</td>\n",
              "      <td>0.5</td>\n",
              "      <td>0.5</td>\n",
              "      <td>0.00</td>\n",
              "      <td>0.0</td>\n",
              "      <td>0.3</td>\n",
              "      <td>21.80</td>\n",
              "    </tr>\n",
              "    <tr>\n",
              "      <th>...</th>\n",
              "      <td>...</td>\n",
              "      <td>...</td>\n",
              "      <td>...</td>\n",
              "      <td>...</td>\n",
              "      <td>...</td>\n",
              "      <td>...</td>\n",
              "      <td>...</td>\n",
              "      <td>...</td>\n",
              "      <td>...</td>\n",
              "      <td>...</td>\n",
              "      <td>...</td>\n",
              "      <td>...</td>\n",
              "      <td>...</td>\n",
              "      <td>...</td>\n",
              "      <td>...</td>\n",
              "      <td>...</td>\n",
              "      <td>...</td>\n",
              "      <td>...</td>\n",
              "      <td>...</td>\n",
              "    </tr>\n",
              "    <tr>\n",
              "      <th>1090680</th>\n",
              "      <td>2</td>\n",
              "      <td>2016-01-30 10:31:36</td>\n",
              "      <td>2016-01-30 10:55:05</td>\n",
              "      <td>6</td>\n",
              "      <td>6.11</td>\n",
              "      <td>-74.017242</td>\n",
              "      <td>40.704868</td>\n",
              "      <td>1</td>\n",
              "      <td>N</td>\n",
              "      <td>-73.973282</td>\n",
              "      <td>40.764500</td>\n",
              "      <td>2</td>\n",
              "      <td>22.0</td>\n",
              "      <td>0.0</td>\n",
              "      <td>0.5</td>\n",
              "      <td>0.00</td>\n",
              "      <td>0.0</td>\n",
              "      <td>0.3</td>\n",
              "      <td>22.80</td>\n",
              "    </tr>\n",
              "    <tr>\n",
              "      <th>1090681</th>\n",
              "      <td>2</td>\n",
              "      <td>2016-01-30 11:01:39</td>\n",
              "      <td>2016-01-30 11:18:11</td>\n",
              "      <td>6</td>\n",
              "      <td>4.49</td>\n",
              "      <td>-73.972321</td>\n",
              "      <td>40.756378</td>\n",
              "      <td>1</td>\n",
              "      <td>N</td>\n",
              "      <td>-74.000816</td>\n",
              "      <td>40.725868</td>\n",
              "      <td>1</td>\n",
              "      <td>16.5</td>\n",
              "      <td>0.0</td>\n",
              "      <td>0.5</td>\n",
              "      <td>3.46</td>\n",
              "      <td>0.0</td>\n",
              "      <td>0.3</td>\n",
              "      <td>20.76</td>\n",
              "    </tr>\n",
              "    <tr>\n",
              "      <th>1090682</th>\n",
              "      <td>2</td>\n",
              "      <td>2016-01-30 21:13:30</td>\n",
              "      <td>2016-01-30 21:19:19</td>\n",
              "      <td>1</td>\n",
              "      <td>1.35</td>\n",
              "      <td>-73.952698</td>\n",
              "      <td>40.776508</td>\n",
              "      <td>1</td>\n",
              "      <td>N</td>\n",
              "      <td>-73.965286</td>\n",
              "      <td>40.759640</td>\n",
              "      <td>1</td>\n",
              "      <td>6.5</td>\n",
              "      <td>0.5</td>\n",
              "      <td>0.5</td>\n",
              "      <td>1.56</td>\n",
              "      <td>0.0</td>\n",
              "      <td>0.3</td>\n",
              "      <td>9.36</td>\n",
              "    </tr>\n",
              "    <tr>\n",
              "      <th>1090683</th>\n",
              "      <td>2</td>\n",
              "      <td>2016-01-31 02:57:08</td>\n",
              "      <td>2016-01-31 03:04:54</td>\n",
              "      <td>2</td>\n",
              "      <td>0.97</td>\n",
              "      <td>-73.985603</td>\n",
              "      <td>40.718128</td>\n",
              "      <td>1</td>\n",
              "      <td>N</td>\n",
              "      <td>-73.988441</td>\n",
              "      <td>40.727879</td>\n",
              "      <td>1</td>\n",
              "      <td>6.5</td>\n",
              "      <td>0.5</td>\n",
              "      <td>0.5</td>\n",
              "      <td>1.20</td>\n",
              "      <td>0.0</td>\n",
              "      <td>0.3</td>\n",
              "      <td>9.00</td>\n",
              "    </tr>\n",
              "    <tr>\n",
              "      <th>1090684</th>\n",
              "      <td>1</td>\n",
              "      <td>2016-01-05 06:21:44</td>\n",
              "      <td>2016-03-28 12:54:26</td>\n",
              "      <td>1</td>\n",
              "      <td>2.10</td>\n",
              "      <td>-73.948067</td>\n",
              "      <td>40.776531</td>\n",
              "      <td>1</td>\n",
              "      <td>N</td>\n",
              "      <td>-73.978188</td>\n",
              "      <td>40.777435</td>\n",
              "      <td>1</td>\n",
              "      <td>11.5</td>\n",
              "      <td>0.0</td>\n",
              "      <td>0.5</td>\n",
              "      <td>2.45</td>\n",
              "      <td>0.0</td>\n",
              "      <td>0.3</td>\n",
              "      <td>14.75</td>\n",
              "    </tr>\n",
              "  </tbody>\n",
              "</table>\n",
              "<p>1090685 rows × 19 columns</p>\n",
              "</div>\n",
              "      <button class=\"colab-df-convert\" onclick=\"convertToInteractive('df-f2b957c3-a445-4cb1-aeef-f2f8628db861')\"\n",
              "              title=\"Convert this dataframe to an interactive table.\"\n",
              "              style=\"display:none;\">\n",
              "        \n",
              "  <svg xmlns=\"http://www.w3.org/2000/svg\" height=\"24px\"viewBox=\"0 0 24 24\"\n",
              "       width=\"24px\">\n",
              "    <path d=\"M0 0h24v24H0V0z\" fill=\"none\"/>\n",
              "    <path d=\"M18.56 5.44l.94 2.06.94-2.06 2.06-.94-2.06-.94-.94-2.06-.94 2.06-2.06.94zm-11 1L8.5 8.5l.94-2.06 2.06-.94-2.06-.94L8.5 2.5l-.94 2.06-2.06.94zm10 10l.94 2.06.94-2.06 2.06-.94-2.06-.94-.94-2.06-.94 2.06-2.06.94z\"/><path d=\"M17.41 7.96l-1.37-1.37c-.4-.4-.92-.59-1.43-.59-.52 0-1.04.2-1.43.59L10.3 9.45l-7.72 7.72c-.78.78-.78 2.05 0 2.83L4 21.41c.39.39.9.59 1.41.59.51 0 1.02-.2 1.41-.59l7.78-7.78 2.81-2.81c.8-.78.8-2.07 0-2.86zM5.41 20L4 18.59l7.72-7.72 1.47 1.35L5.41 20z\"/>\n",
              "  </svg>\n",
              "      </button>\n",
              "      \n",
              "  <style>\n",
              "    .colab-df-container {\n",
              "      display:flex;\n",
              "      flex-wrap:wrap;\n",
              "      gap: 12px;\n",
              "    }\n",
              "\n",
              "    .colab-df-convert {\n",
              "      background-color: #E8F0FE;\n",
              "      border: none;\n",
              "      border-radius: 50%;\n",
              "      cursor: pointer;\n",
              "      display: none;\n",
              "      fill: #1967D2;\n",
              "      height: 32px;\n",
              "      padding: 0 0 0 0;\n",
              "      width: 32px;\n",
              "    }\n",
              "\n",
              "    .colab-df-convert:hover {\n",
              "      background-color: #E2EBFA;\n",
              "      box-shadow: 0px 1px 2px rgba(60, 64, 67, 0.3), 0px 1px 3px 1px rgba(60, 64, 67, 0.15);\n",
              "      fill: #174EA6;\n",
              "    }\n",
              "\n",
              "    [theme=dark] .colab-df-convert {\n",
              "      background-color: #3B4455;\n",
              "      fill: #D2E3FC;\n",
              "    }\n",
              "\n",
              "    [theme=dark] .colab-df-convert:hover {\n",
              "      background-color: #434B5C;\n",
              "      box-shadow: 0px 1px 3px 1px rgba(0, 0, 0, 0.15);\n",
              "      filter: drop-shadow(0px 1px 2px rgba(0, 0, 0, 0.3));\n",
              "      fill: #FFFFFF;\n",
              "    }\n",
              "  </style>\n",
              "\n",
              "      <script>\n",
              "        const buttonEl =\n",
              "          document.querySelector('#df-f2b957c3-a445-4cb1-aeef-f2f8628db861 button.colab-df-convert');\n",
              "        buttonEl.style.display =\n",
              "          google.colab.kernel.accessAllowed ? 'block' : 'none';\n",
              "\n",
              "        async function convertToInteractive(key) {\n",
              "          const element = document.querySelector('#df-f2b957c3-a445-4cb1-aeef-f2f8628db861');\n",
              "          const dataTable =\n",
              "            await google.colab.kernel.invokeFunction('convertToInteractive',\n",
              "                                                     [key], {});\n",
              "          if (!dataTable) return;\n",
              "\n",
              "          const docLinkHtml = 'Like what you see? Visit the ' +\n",
              "            '<a target=\"_blank\" href=https://colab.research.google.com/notebooks/data_table.ipynb>data table notebook</a>'\n",
              "            + ' to learn more about interactive tables.';\n",
              "          element.innerHTML = '';\n",
              "          dataTable['output_type'] = 'display_data';\n",
              "          await google.colab.output.renderOutput(dataTable, element);\n",
              "          const docLink = document.createElement('div');\n",
              "          docLink.innerHTML = docLinkHtml;\n",
              "          element.appendChild(docLink);\n",
              "        }\n",
              "      </script>\n",
              "    </div>\n",
              "  </div>\n",
              "  "
            ]
          },
          "metadata": {},
          "execution_count": 21
        }
      ]
    },
    {
      "cell_type": "code",
      "execution_count": null,
      "metadata": {
        "id": "PX7T9YklDZpO",
        "outputId": "9f3b43e9-fac4-45f0-e112-f820c81d5189",
        "colab": {
          "base_uri": "https://localhost:8080/"
        }
      },
      "outputs": [
        {
          "output_type": "execute_result",
          "data": {
            "text/plain": [
              "VendorID                   int64\n",
              "tpep_pickup_datetime      object\n",
              "tpep_dropoff_datetime     object\n",
              "passenger_count            int64\n",
              "trip_distance            float64\n",
              "pickup_longitude         float64\n",
              "pickup_latitude          float64\n",
              "RatecodeID                 int64\n",
              "store_and_fwd_flag        object\n",
              "dropoff_longitude        float64\n",
              "dropoff_latitude         float64\n",
              "payment_type               int64\n",
              "fare_amount              float64\n",
              "extra                    float64\n",
              "mta_tax                  float64\n",
              "tip_amount               float64\n",
              "tolls_amount             float64\n",
              "improvement_surcharge    float64\n",
              "total_amount             float64\n",
              "dtype: object"
            ]
          },
          "metadata": {},
          "execution_count": 9
        }
      ],
      "source": [
        "df = pd.read_csv('yellow_tripdata_2016-01.csv')\n",
        "df.dtypes\n",
        "#df #Original Dataset 10,906,858 rows"
      ]
    },
    {
      "cell_type": "code",
      "execution_count": null,
      "metadata": {
        "id": "weSIWKUGDZpQ",
        "outputId": "b2599f6f-8669-442f-8c1a-83aab66be1e2",
        "colab": {
          "base_uri": "https://localhost:8080/"
        }
      },
      "outputs": [
        {
          "output_type": "execute_result",
          "data": {
            "text/plain": [
              "1.5439861863851547"
            ]
          },
          "metadata": {},
          "execution_count": 10
        }
      ],
      "source": [
        "df.memory_usage().sum()/(1024*1024*1024)"
      ]
    },
    {
      "cell_type": "code",
      "execution_count": null,
      "metadata": {
        "id": "bLohHuFgDZpR",
        "outputId": "99b94fac-bf6b-407c-fe2a-476aa6a8f6db",
        "colab": {
          "base_uri": "https://localhost:8080/"
        }
      },
      "outputs": [
        {
          "output_type": "execute_result",
          "data": {
            "text/plain": [
              "83.21284484863281"
            ]
          },
          "metadata": {},
          "execution_count": 11
        }
      ],
      "source": [
        "df['store_and_fwd_flag'].memory_usage()/(1024*1024)"
      ]
    },
    {
      "cell_type": "markdown",
      "source": [
        "## 1. Use efficient data types\n",
        "When you load the dataset into pandas dataframe, the default datatypes assigned to each column are not memory efficient. \n",
        "\n",
        "If we can convert these data types into memory-efficient ones we can save a lot of memory. For example, int64 can be downcast to int8 or int16 or int32 depending upon the max and min value the column holds.The below code takes of this downcasting for all numeric datatypes excluding object and DateTime types."
      ],
      "metadata": {
        "id": "z0Bg9aqEFsrE"
      }
    },
    {
      "cell_type": "code",
      "execution_count": null,
      "metadata": {
        "id": "eblPK-XCDZpT"
      },
      "outputs": [],
      "source": [
        "import pandas as pd\n",
        "import numpy as np\n",
        "\n",
        "def reduce_mem_usage(df):\n",
        "    start_mem = df.memory_usage().sum() / 1024**3\n",
        "    print('Memory usage of dataframe is {:.2f} MB'.format(start_mem))\n",
        "    \n",
        "    for col in df.columns:\n",
        "        col_type = df[col].dtype\n",
        "        \n",
        "        if col_type != object:\n",
        "            c_min = df[col].min()\n",
        "            c_max = df[col].max()\n",
        "            if str(col_type)[:3] == 'int':\n",
        "                if c_min > np.iinfo(np.int8).min and c_max < np.iinfo(np.int8).max:\n",
        "                    df[col] = df[col].astype(np.int8)\n",
        "                elif c_min > np.iinfo(np.int16).min and c_max < np.iinfo(np.int16).max:\n",
        "                    df[col] = df[col].astype(np.int16)\n",
        "                elif c_min > np.iinfo(np.int32).min and c_max < np.iinfo(np.int32).max:\n",
        "                    df[col] = df[col].astype(np.int32)\n",
        "                elif c_min > np.iinfo(np.int64).min and c_max < np.iinfo(np.int64).max:\n",
        "                    df[col] = df[col].astype(np.int64)  \n",
        "            else:\n",
        "                if c_min > np.finfo(np.float16).min and c_max < np.finfo(np.float16).max:\n",
        "                    df[col] = df[col].astype(np.float16)\n",
        "                elif c_min > np.finfo(np.float32).min and c_max < np.finfo(np.float32).max:\n",
        "                    df[col] = df[col].astype(np.float32)\n",
        "                else:\n",
        "                    df[col] = df[col].astype(np.float64)\n",
        "        else:\n",
        "            df[col] = df[col].astype('category')\n",
        "\n",
        "    end_mem = df.memory_usage().sum() / 1024**3\n",
        "    print('Memory usage after optimization is: {:.2f} MB'.format(end_mem))\n",
        "    print('Decreased by {:.1f}%'.format(100 * (start_mem - end_mem) / start_mem))\n",
        "    \n",
        "    return df"
      ]
    },
    {
      "cell_type": "markdown",
      "source": [
        "As you can see from the below result, the size of the dataset is drastically reduced, about 60%, after downcasting the data types of columns. In the 2nd screenshot, you can see that data types are changed to int8 or float16 or float 32."
      ],
      "metadata": {
        "id": "9iwGCuO_Hrbo"
      }
    },
    {
      "cell_type": "code",
      "execution_count": null,
      "metadata": {
        "id": "FG5mHv_-DZpU",
        "outputId": "200e5233-2e51-4726-bee1-5a98caaab91a",
        "colab": {
          "base_uri": "https://localhost:8080/"
        }
      },
      "outputs": [
        {
          "output_type": "stream",
          "name": "stdout",
          "text": [
            "Memory usage of dataframe is 1.54 MB\n",
            "Memory usage after optimization is: 0.60 MB\n",
            "Decreased by 61.3%\n"
          ]
        }
      ],
      "source": [
        "df_new = reduce_mem_usage(df)"
      ]
    },
    {
      "cell_type": "markdown",
      "source": [
        "What happened here actually? Let’s take a column named passenger_count as an example. It holds values 0, 1, 2, 3, 4, 5, 6, 7, 8, 9. The default data type was int64. Do you need 64 bits to store these 10 values? No. 8 bits or 1 byte is enough to hold these values. Hence it will be down-casted into int8. Similar logic goes into other numeric data types.\n",
        "\n",
        "What about “object” data type? converting object data type to a category can also save a lot of memory. For the given dataset, store_and_fwd_flag was converted to category type. \n",
        "As you can see from the below screenshot, the size of the columns reduced from 83 Mb to just 10 MB. "
      ],
      "metadata": {
        "id": "XOC8fSEgId2i"
      }
    },
    {
      "cell_type": "code",
      "execution_count": null,
      "metadata": {
        "id": "8y02-W0qDZpU",
        "outputId": "8b490b2d-6808-4318-e719-04eaa4392224",
        "colab": {
          "base_uri": "https://localhost:8080/"
        }
      },
      "outputs": [
        {
          "output_type": "execute_result",
          "data": {
            "text/plain": [
              "VendorID                     int8\n",
              "tpep_pickup_datetime     category\n",
              "tpep_dropoff_datetime    category\n",
              "passenger_count              int8\n",
              "trip_distance             float32\n",
              "pickup_longitude          float16\n",
              "pickup_latitude           float16\n",
              "RatecodeID                   int8\n",
              "store_and_fwd_flag       category\n",
              "dropoff_longitude         float16\n",
              "dropoff_latitude          float16\n",
              "payment_type                 int8\n",
              "fare_amount               float32\n",
              "extra                     float16\n",
              "mta_tax                   float16\n",
              "tip_amount                float16\n",
              "tolls_amount              float16\n",
              "improvement_surcharge     float16\n",
              "total_amount              float32\n",
              "dtype: object"
            ]
          },
          "metadata": {},
          "execution_count": 14
        }
      ],
      "source": [
        "df_new.dtypes"
      ]
    },
    {
      "cell_type": "code",
      "source": [
        "df['store_and_fwd_flag'].memory_usage()/(1024*1024)"
      ],
      "metadata": {
        "id": "amdKdn17ILv6",
        "colab": {
          "base_uri": "https://localhost:8080/"
        },
        "outputId": "0ec17ba3-46bd-41be-c763-f0e4483e2015"
      },
      "execution_count": null,
      "outputs": [
        {
          "output_type": "execute_result",
          "data": {
            "text/plain": [
              "10.401830673217773"
            ]
          },
          "metadata": {},
          "execution_count": 15
        }
      ]
    },
    {
      "cell_type": "code",
      "execution_count": null,
      "metadata": {
        "id": "ej373hAUDZpV",
        "outputId": "bcca8570-9d2f-4db5-ee7f-1b52bc7daee8",
        "colab": {
          "base_uri": "https://localhost:8080/"
        }
      },
      "outputs": [
        {
          "output_type": "execute_result",
          "data": {
            "text/plain": [
              "10.401830673217773"
            ]
          },
          "metadata": {},
          "execution_count": 16
        }
      ],
      "source": [
        "df_new['store_and_fwd_flag'].memory_usage()/(1024*1024)"
      ]
    },
    {
      "cell_type": "markdown",
      "source": [
        "## 2. Remove unwanted columns\n",
        "Sometimes you don’t need all the columns/features for your analysis. In such situations, you don’t have to load the dataset into pandas dataframe and then delete it. \n",
        "\n",
        "Instead, you can exclude the columns while loading the dataframe. This method along with the efficient data type can save reduce the size of the dataframe significantly. "
      ],
      "metadata": {
        "id": "J29xDfMHIoIN"
      }
    },
    {
      "cell_type": "markdown",
      "metadata": {
        "id": "fOVn5DRSDZpV"
      },
      "source": [
        "## 3. Chunking\n",
        "Do you know Pandas read_csv, read_excel, etc. have ***chunksize*** parameter that can be used to read larger than the memory datasets?\n",
        "\n",
        "When you use ***chunksize*** parameter, it returns an iterable object of the type TextFileReader. Next, as with any other iterable, you can iterate over this object until data is exhausted.\n",
        "Refer to our article here to understand more about the iterables and iterators. \n",
        "\n",
        "In the below example, we are using chucksize of 100,000. What this means is that Pandas reads 100,000 each time and returns iterable called reader. Now you can perform any operation on this reader object. Once the processing on this object is done, Pandas reads next 100,000 records and the process continues until all the records are processed."
      ]
    },
    {
      "cell_type": "code",
      "execution_count": null,
      "metadata": {
        "id": "1ZHNpm_ZDZpV"
      },
      "outputs": [],
      "source": [
        "fare_amount_max = []\n",
        "\n",
        "for reader in pd.read_csv('yellow_tripdata_2016-01.csv', chunksize=100000):\n",
        "    # do any processing on reader\n",
        "    fare_amount_max.append(reader['fare_amount'].max())"
      ]
    },
    {
      "cell_type": "code",
      "execution_count": null,
      "metadata": {
        "id": "52nxKI6sDZpW",
        "outputId": "2f57747b-db11-4ba6-8e1b-8d20868c2501",
        "colab": {
          "base_uri": "https://localhost:8080/"
        }
      },
      "outputs": [
        {
          "output_type": "execute_result",
          "data": {
            "text/plain": [
              "111270.85"
            ]
          },
          "metadata": {},
          "execution_count": 17
        }
      ],
      "source": [
        "max(fare_amount_max)"
      ]
    },
    {
      "cell_type": "markdown",
      "source": [
        "* Note that this method of using chunksize is useful only when the operation you are performing doesn’t require coordination between the chunks. \n",
        "\n"
      ],
      "metadata": {
        "id": "GOJGdhBJI9iz"
      }
    }
  ],
  "metadata": {
    "kernelspec": {
      "display_name": "Python 3",
      "language": "python",
      "name": "python3"
    },
    "language_info": {
      "codemirror_mode": {
        "name": "ipython",
        "version": 3
      },
      "file_extension": ".py",
      "mimetype": "text/x-python",
      "name": "python",
      "nbconvert_exporter": "python",
      "pygments_lexer": "ipython3",
      "version": "3.7.1"
    },
    "colab": {
      "provenance": [],
      "include_colab_link": true
    }
  },
  "nbformat": 4,
  "nbformat_minor": 0
}